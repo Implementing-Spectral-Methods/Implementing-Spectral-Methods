{
 "cells": [
  {
   "cell_type": "markdown",
   "id": "2e629835-2cfe-4e4b-a50f-2701a19695ab",
   "metadata": {},
   "source": [
    "# Spectral Methods Part I: Chapters 1-3"
   ]
  },
  {
   "cell_type": "markdown",
   "id": "24dcf892-a107-4892-a07e-87f59e7e60e9",
   "metadata": {},
   "source": [
    "Ernesto Barraza-Valdez, June 24, 2024\n",
    "\n",
    "This notebook follows *Implementing Spectral Methods for Partial Differential Equations* by Dr. David Kopriva.\n",
    "\n",
    "This is the first of several notebooks that covers Chapters 1-3 of Dr. Kopriva's textbook.\n",
    "\n",
    "In this notebook, you are expected to know some Julia and to follow along the book. \n",
    "Because Julia has many useful libraries and packages for linear algebra (such as BLAS) and fourier transforms (such as FFTW) we will put those to use in order to focus more on advanced methods for non-periodic problems. "
   ]
  },
  {
   "cell_type": "code",
   "execution_count": 1,
   "id": "04dbda5e-8959-4bb5-9c34-8edf7f201a82",
   "metadata": {},
   "outputs": [
    {
     "data": {
      "text/plain": [
       "v\"1.10.3\""
      ]
     },
     "execution_count": 1,
     "metadata": {},
     "output_type": "execute_result"
    }
   ],
   "source": [
    "#Check if Julia is working by checking version\n",
    "VERSION"
   ]
  },
  {
   "cell_type": "markdown",
   "id": "8add08c8-a83f-437a-a1bf-4bc4f75e73e1",
   "metadata": {},
   "source": [
    "We will activate a project in order to keep all Julia Packages useful for the rest of the notebooks"
   ]
  },
  {
   "cell_type": "code",
   "execution_count": 2,
   "id": "ec25102d-a012-4428-92a2-8cee329c907d",
   "metadata": {},
   "outputs": [
    {
     "name": "stderr",
     "output_type": "stream",
     "text": [
      "\u001b[32m\u001b[1m  Activating\u001b[22m\u001b[39m new project at `/dfs6/pub/ernestob/Julia/git/Implementing-Spectral-Methods`\n"
     ]
    }
   ],
   "source": [
    "] activate ."
   ]
  },
  {
   "cell_type": "code",
   "execution_count": 3,
   "id": "7f1c052a-a5ae-4309-b507-445fce84285e",
   "metadata": {
    "scrolled": true
   },
   "outputs": [
    {
     "name": "stderr",
     "output_type": "stream",
     "text": [
      "\u001b[32m\u001b[1m   Resolving\u001b[22m\u001b[39m package versions...\n",
      "\u001b[32m\u001b[1m    Updating\u001b[22m\u001b[39m `/dfs6/pub/ernestob/Julia/git/Implementing-Spectral-Methods/Project.toml`\n",
      "  \u001b[90m[28f2ccd6] \u001b[39m\u001b[92m+ ApproxFun v0.13.27\u001b[39m\n",
      "  \u001b[90m[6e4b80f9] \u001b[39m\u001b[92m+ BenchmarkTools v1.5.0\u001b[39m\n",
      "  \u001b[90m[7a1cc6ca] \u001b[39m\u001b[92m+ FFTW v1.8.0\u001b[39m\n",
      "  \u001b[90m[cf66c380] \u001b[39m\u001b[92m+ FastChebInterp v1.2.0\u001b[39m\n",
      "  \u001b[90m[442a2c76] \u001b[39m\u001b[92m+ FastGaussQuadrature v1.0.2\u001b[39m\n",
      "\u001b[32m⌃\u001b[39m \u001b[90m[057dd010] \u001b[39m\u001b[92m+ FastTransforms v0.15.16\u001b[39m\n",
      "  \u001b[90m[f67ccb44] \u001b[39m\u001b[92m+ HDF5 v0.17.2\u001b[39m\n",
      "  \u001b[90m[7073ff75] \u001b[39m\u001b[92m+ IJulia v1.24.2\u001b[39m\n",
      "  \u001b[90m[40713840] \u001b[39m\u001b[92m+ IncompleteLU v0.2.1\u001b[39m\n",
      "  \u001b[90m[42fd0dbc] \u001b[39m\u001b[92m+ IterativeSolvers v0.9.4\u001b[39m\n",
      "  \u001b[90m[ba0b0d4f] \u001b[39m\u001b[92m+ Krylov v0.9.6\u001b[39m\n",
      "  \u001b[90m[b964fa9f] \u001b[39m\u001b[92m+ LaTeXStrings v1.3.1\u001b[39m\n",
      "  \u001b[90m[23fbe1c1] \u001b[39m\u001b[92m+ Latexify v0.16.3\u001b[39m\n",
      "  \u001b[90m[7a12625a] \u001b[39m\u001b[92m+ LinearMaps v3.11.3\u001b[39m\n",
      "  \u001b[90m[5c8ed15e] \u001b[39m\u001b[92m+ LinearOperators v2.8.0\u001b[39m\n",
      "  \u001b[90m[91a5bcdd] \u001b[39m\u001b[92m+ Plots v1.40.4\u001b[39m\n",
      "\u001b[33m⌅\u001b[39m \u001b[90m[f27b6e38] \u001b[39m\u001b[92m+ Polynomials v3.2.13\u001b[39m\n",
      "  \u001b[90m[af69fa37] \u001b[39m\u001b[92m+ Preconditioners v0.6.1\u001b[39m\n",
      "  \u001b[90m[f2c3362d] \u001b[39m\u001b[92m+ RecursiveFactorization v0.2.23\u001b[39m\n",
      "  \u001b[90m[a25cea48] \u001b[39m\u001b[92m+ SpecialPolynomials v0.4.9\u001b[39m\n",
      "  \u001b[90m[a759f4b9] \u001b[39m\u001b[92m+ TimerOutputs v0.5.24\u001b[39m\n",
      "  \u001b[90m[de0858da] \u001b[39m\u001b[92m+ Printf\u001b[39m\n",
      "  \u001b[90m[8dfed614] \u001b[39m\u001b[92m+ Test\u001b[39m\n",
      "\u001b[32m\u001b[1m    Updating\u001b[22m\u001b[39m `/dfs6/pub/ernestob/Julia/git/Implementing-Spectral-Methods/Manifest.toml`\n",
      "  \u001b[90m[14f7f29c] \u001b[39m\u001b[92m+ AMD v0.5.3\u001b[39m\n",
      "  \u001b[90m[621f4979] \u001b[39m\u001b[92m+ AbstractFFTs v1.5.0\u001b[39m\n",
      "  \u001b[90m[79e6a3ab] \u001b[39m\u001b[92m+ Adapt v4.0.4\u001b[39m\n",
      "\u001b[33m⌅\u001b[39m \u001b[90m[2169fc97] \u001b[39m\u001b[92m+ AlgebraicMultigrid v0.5.1\u001b[39m\n",
      "  \u001b[90m[28f2ccd6] \u001b[39m\u001b[92m+ ApproxFun v0.13.27\u001b[39m\n",
      "  \u001b[90m[fbd15aa5] \u001b[39m\u001b[92m+ ApproxFunBase v0.9.28\u001b[39m\n",
      "  \u001b[90m[59844689] \u001b[39m\u001b[92m+ ApproxFunFourier v0.3.28\u001b[39m\n",
      "  \u001b[90m[b70543e2] \u001b[39m\u001b[92m+ ApproxFunOrthogonalPolynomials v0.6.56\u001b[39m\n",
      "  \u001b[90m[f8fcb915] \u001b[39m\u001b[92m+ ApproxFunSingularities v0.3.21\u001b[39m\n",
      "  \u001b[90m[4fba245c] \u001b[39m\u001b[92m+ ArrayInterface v7.11.0\u001b[39m\n",
      "  \u001b[90m[4c555306] \u001b[39m\u001b[92m+ ArrayLayouts v1.9.4\u001b[39m\n",
      "  \u001b[90m[aae01518] \u001b[39m\u001b[92m+ BandedMatrices v1.7.2\u001b[39m\n",
      "  \u001b[90m[6e4b80f9] \u001b[39m\u001b[92m+ BenchmarkTools v1.5.0\u001b[39m\n",
      "  \u001b[90m[d1d4a3ce] \u001b[39m\u001b[92m+ BitFlags v0.1.9\u001b[39m\n",
      "  \u001b[90m[62783981] \u001b[39m\u001b[92m+ BitTwiddlingConvenienceFunctions v0.1.5\u001b[39m\n",
      "  \u001b[90m[8e7c35d0] \u001b[39m\u001b[92m+ BlockArrays v1.1.0\u001b[39m\n",
      "  \u001b[90m[ffab5731] \u001b[39m\u001b[92m+ BlockBandedMatrices v0.13.1\u001b[39m\n",
      "  \u001b[90m[2a0fbf3d] \u001b[39m\u001b[92m+ CPUSummary v0.2.5\u001b[39m\n",
      "  \u001b[90m[49dc2e85] \u001b[39m\u001b[92m+ Calculus v0.5.1\u001b[39m\n",
      "  \u001b[90m[d360d2e6] \u001b[39m\u001b[92m+ ChainRulesCore v1.24.0\u001b[39m\n",
      "  \u001b[90m[fb6a15b2] \u001b[39m\u001b[92m+ CloseOpenIntervals v0.1.12\u001b[39m\n",
      "  \u001b[90m[944b1d66] \u001b[39m\u001b[92m+ CodecZlib v0.7.4\u001b[39m\n",
      "  \u001b[90m[35d6a980] \u001b[39m\u001b[92m+ ColorSchemes v3.25.0\u001b[39m\n",
      "  \u001b[90m[3da002f7] \u001b[39m\u001b[92m+ ColorTypes v0.11.5\u001b[39m\n",
      "  \u001b[90m[c3611d14] \u001b[39m\u001b[92m+ ColorVectorSpace v0.10.0\u001b[39m\n",
      "  \u001b[90m[5ae59095] \u001b[39m\u001b[92m+ Colors v0.12.11\u001b[39m\n",
      "  \u001b[90m[861a8166] \u001b[39m\u001b[92m+ Combinatorics v1.0.2\u001b[39m\n",
      "  \u001b[90m[38540f10] \u001b[39m\u001b[92m+ CommonSolve v0.2.4\u001b[39m\n",
      "  \u001b[90m[34da2185] \u001b[39m\u001b[92m+ Compat v4.15.0\u001b[39m\n",
      "  \u001b[90m[b152e2b5] \u001b[39m\u001b[92m+ CompositeTypes v0.1.4\u001b[39m\n",
      "  \u001b[90m[f0e56b4a] \u001b[39m\u001b[92m+ ConcurrentUtilities v2.4.1\u001b[39m\n",
      "  \u001b[90m[8f4d0f93] \u001b[39m\u001b[92m+ Conda v1.10.0\u001b[39m\n",
      "  \u001b[90m[d38c429a] \u001b[39m\u001b[92m+ Contour v0.6.3\u001b[39m\n",
      "  \u001b[90m[adafc99b] \u001b[39m\u001b[92m+ CpuId v0.3.1\u001b[39m\n",
      "  \u001b[90m[717857b8] \u001b[39m\u001b[92m+ DSP v0.7.9\u001b[39m\n",
      "  \u001b[90m[9a962f9c] \u001b[39m\u001b[92m+ DataAPI v1.16.0\u001b[39m\n",
      "  \u001b[90m[864edb3b] \u001b[39m\u001b[92m+ DataStructures v0.18.20\u001b[39m\n",
      "  \u001b[90m[8bb1440f] \u001b[39m\u001b[92m+ DelimitedFiles v1.9.1\u001b[39m\n",
      "  \u001b[90m[ffbed154] \u001b[39m\u001b[92m+ DocStringExtensions v0.9.3\u001b[39m\n",
      "  \u001b[90m[5b8099bc] \u001b[39m\u001b[92m+ DomainSets v0.7.14\u001b[39m\n",
      "  \u001b[90m[fa6b7ba4] \u001b[39m\u001b[92m+ DualNumbers v0.6.8\u001b[39m\n",
      "  \u001b[90m[460bff9d] \u001b[39m\u001b[92m+ ExceptionUnwrapping v0.1.10\u001b[39m\n",
      "  \u001b[90m[e2ba6199] \u001b[39m\u001b[92m+ ExprTools v0.1.10\u001b[39m\n",
      "  \u001b[90m[c87230d0] \u001b[39m\u001b[92m+ FFMPEG v0.4.1\u001b[39m\n",
      "  \u001b[90m[7a1cc6ca] \u001b[39m\u001b[92m+ FFTW v1.8.0\u001b[39m\n",
      "  \u001b[90m[cf66c380] \u001b[39m\u001b[92m+ FastChebInterp v1.2.0\u001b[39m\n",
      "  \u001b[90m[9aa1b823] \u001b[39m\u001b[92m+ FastClosures v0.3.2\u001b[39m\n",
      "  \u001b[90m[442a2c76] \u001b[39m\u001b[92m+ FastGaussQuadrature v1.0.2\u001b[39m\n",
      "\u001b[32m⌃\u001b[39m \u001b[90m[057dd010] \u001b[39m\u001b[92m+ FastTransforms v0.15.16\u001b[39m\n",
      "  \u001b[90m[1a297f60] \u001b[39m\u001b[92m+ FillArrays v1.11.0\u001b[39m\n",
      "  \u001b[90m[53c48c17] \u001b[39m\u001b[92m+ FixedPointNumbers v0.8.5\u001b[39m\n",
      "  \u001b[90m[1fa38f19] \u001b[39m\u001b[92m+ Format v1.3.7\u001b[39m\n",
      "  \u001b[90m[28b8d3ca] \u001b[39m\u001b[92m+ GR v0.73.6\u001b[39m\n",
      "  \u001b[90m[a8297547] \u001b[39m\u001b[92m+ GenericFFT v0.1.6\u001b[39m\n",
      "  \u001b[90m[42e2da0e] \u001b[39m\u001b[92m+ Grisu v1.0.2\u001b[39m\n",
      "  \u001b[90m[f67ccb44] \u001b[39m\u001b[92m+ HDF5 v0.17.2\u001b[39m\n",
      "  \u001b[90m[cd3eb016] \u001b[39m\u001b[92m+ HTTP v1.10.8\u001b[39m\n",
      "  \u001b[90m[f0d1745a] \u001b[39m\u001b[92m+ HalfIntegers v1.6.0\u001b[39m\n",
      "  \u001b[90m[3e5b6fbb] \u001b[39m\u001b[92m+ HostCPUFeatures v0.1.16\u001b[39m\n",
      "  \u001b[90m[34004b35] \u001b[39m\u001b[92m+ HypergeometricFunctions v0.3.23\u001b[39m\n",
      "  \u001b[90m[7073ff75] \u001b[39m\u001b[92m+ IJulia v1.24.2\u001b[39m\n",
      "  \u001b[90m[615f187c] \u001b[39m\u001b[92m+ IfElse v0.1.1\u001b[39m\n",
      "  \u001b[90m[40713840] \u001b[39m\u001b[92m+ IncompleteLU v0.2.1\u001b[39m\n",
      "  \u001b[90m[4858937d] \u001b[39m\u001b[92m+ InfiniteArrays v0.14.1\u001b[39m\n",
      "  \u001b[90m[e1ba4f0e] \u001b[39m\u001b[92m+ Infinities v0.1.8\u001b[39m\n",
      "  \u001b[90m[8197267c] \u001b[39m\u001b[92m+ IntervalSets v0.7.10\u001b[39m\n",
      "  \u001b[90m[92d709cd] \u001b[39m\u001b[92m+ IrrationalConstants v0.2.2\u001b[39m\n",
      "  \u001b[90m[c8e1da08] \u001b[39m\u001b[92m+ IterTools v1.10.0\u001b[39m\n",
      "  \u001b[90m[42fd0dbc] \u001b[39m\u001b[92m+ IterativeSolvers v0.9.4\u001b[39m\n",
      "  \u001b[90m[1019f520] \u001b[39m\u001b[92m+ JLFzf v0.1.7\u001b[39m\n",
      "  \u001b[90m[692b3bcd] \u001b[39m\u001b[92m+ JLLWrappers v1.5.0\u001b[39m\n",
      "  \u001b[90m[682c06a0] \u001b[39m\u001b[92m+ JSON v0.21.4\u001b[39m\n",
      "  \u001b[90m[ba0b0d4f] \u001b[39m\u001b[92m+ Krylov v0.9.6\u001b[39m\n",
      "  \u001b[90m[b964fa9f] \u001b[39m\u001b[92m+ LaTeXStrings v1.3.1\u001b[39m\n",
      "  \u001b[90m[23fbe1c1] \u001b[39m\u001b[92m+ Latexify v0.16.3\u001b[39m\n",
      "  \u001b[90m[10f19ff3] \u001b[39m\u001b[92m+ LayoutPointers v0.1.15\u001b[39m\n",
      "  \u001b[90m[5078a376] \u001b[39m\u001b[92m+ LazyArrays v2.0.5\u001b[39m\n",
      "  \u001b[90m[f5a24dde] \u001b[39m\u001b[92m+ LimitedLDLFactorizations v0.5.1\u001b[39m\n",
      "  \u001b[90m[7a12625a] \u001b[39m\u001b[92m+ LinearMaps v3.11.3\u001b[39m\n",
      "  \u001b[90m[5c8ed15e] \u001b[39m\u001b[92m+ LinearOperators v2.8.0\u001b[39m\n",
      "  \u001b[90m[2ab3a3ac] \u001b[39m\u001b[92m+ LogExpFunctions v0.3.28\u001b[39m\n",
      "  \u001b[90m[e6f89c97] \u001b[39m\u001b[92m+ LoggingExtras v1.0.3\u001b[39m\n",
      "  \u001b[90m[bdcacae8] \u001b[39m\u001b[92m+ LoopVectorization v0.12.170\u001b[39m\n",
      "  \u001b[90m[e65ccdef] \u001b[39m\u001b[92m+ LowRankMatrices v1.0.1\u001b[39m\n",
      "  \u001b[90m[3da0fdf6] \u001b[39m\u001b[92m+ MPIPreferences v0.1.11\u001b[39m\n",
      "  \u001b[90m[1914dd2f] \u001b[39m\u001b[92m+ MacroTools v0.5.13\u001b[39m\n",
      "  \u001b[90m[d125e4d3] \u001b[39m\u001b[92m+ ManualMemory v0.1.8\u001b[39m\n",
      "  \u001b[90m[a3b82374] \u001b[39m\u001b[92m+ MatrixFactorizations v3.0.0\u001b[39m\n",
      "  \u001b[90m[739be429] \u001b[39m\u001b[92m+ MbedTLS v1.1.9\u001b[39m\n",
      "  \u001b[90m[442fdcdd] \u001b[39m\u001b[92m+ Measures v0.3.2\u001b[39m\n",
      "  \u001b[90m[c03570c3] \u001b[39m\u001b[92m+ Memoize v0.4.4\u001b[39m\n",
      "  \u001b[90m[e1d29d7a] \u001b[39m\u001b[92m+ Missings v1.2.0\u001b[39m\n",
      "  \u001b[90m[77ba4419] \u001b[39m\u001b[92m+ NaNMath v1.0.2\u001b[39m\n",
      "  \u001b[90m[8d37c425] \u001b[39m\u001b[92m+ OddEvenIntegers v0.1.12\u001b[39m\n",
      "  \u001b[90m[6fe1bfb0] \u001b[39m\u001b[92m+ OffsetArrays v1.14.0\u001b[39m\n",
      "  \u001b[90m[4d8831e6] \u001b[39m\u001b[92m+ OpenSSL v1.4.3\u001b[39m\n",
      "  \u001b[90m[bac558e1] \u001b[39m\u001b[92m+ OrderedCollections v1.6.3\u001b[39m\n",
      "  \u001b[90m[69de0a69] \u001b[39m\u001b[92m+ Parsers v2.8.1\u001b[39m\n",
      "  \u001b[90m[b98c9c47] \u001b[39m\u001b[92m+ Pipe v1.3.0\u001b[39m\n",
      "  \u001b[90m[ccf2f8ad] \u001b[39m\u001b[92m+ PlotThemes v3.2.0\u001b[39m\n",
      "  \u001b[90m[995b91a9] \u001b[39m\u001b[92m+ PlotUtils v1.4.1\u001b[39m\n",
      "  \u001b[90m[91a5bcdd] \u001b[39m\u001b[92m+ Plots v1.40.4\u001b[39m\n",
      "  \u001b[90m[f517fe37] \u001b[39m\u001b[92m+ Polyester v0.7.14\u001b[39m\n",
      "  \u001b[90m[1d0040c9] \u001b[39m\u001b[92m+ PolyesterWeave v0.2.1\u001b[39m\n",
      "\u001b[33m⌅\u001b[39m \u001b[90m[f27b6e38] \u001b[39m\u001b[92m+ Polynomials v3.2.13\u001b[39m\n",
      "  \u001b[90m[aea7be01] \u001b[39m\u001b[92m+ PrecompileTools v1.2.1\u001b[39m\n",
      "  \u001b[90m[af69fa37] \u001b[39m\u001b[92m+ Preconditioners v0.6.1\u001b[39m\n",
      "  \u001b[90m[21216c6a] \u001b[39m\u001b[92m+ Preferences v1.4.3\u001b[39m\n",
      "  \u001b[90m[1fd47b50] \u001b[39m\u001b[92m+ QuadGK v2.9.4\u001b[39m\n",
      "  \u001b[90m[3cdcf5f2] \u001b[39m\u001b[92m+ RecipesBase v1.3.4\u001b[39m\n",
      "  \u001b[90m[01d81517] \u001b[39m\u001b[92m+ RecipesPipeline v0.6.12\u001b[39m\n",
      "  \u001b[90m[f2c3362d] \u001b[39m\u001b[92m+ RecursiveFactorization v0.2.23\u001b[39m\n",
      "  \u001b[90m[189a3867] \u001b[39m\u001b[92m+ Reexport v1.2.2\u001b[39m\n",
      "  \u001b[90m[05181044] \u001b[39m\u001b[92m+ RelocatableFolders v1.0.1\u001b[39m\n",
      "  \u001b[90m[ae029012] \u001b[39m\u001b[92m+ Requires v1.3.0\u001b[39m\n",
      "  \u001b[90m[94e857df] \u001b[39m\u001b[92m+ SIMDTypes v0.1.0\u001b[39m\n",
      "  \u001b[90m[476501e8] \u001b[39m\u001b[92m+ SLEEFPirates v0.6.42\u001b[39m\n",
      "  \u001b[90m[6c6a2e73] \u001b[39m\u001b[92m+ Scratch v1.2.1\u001b[39m\n",
      "  \u001b[90m[992d4aef] \u001b[39m\u001b[92m+ Showoff v1.0.3\u001b[39m\n",
      "  \u001b[90m[777ac1f9] \u001b[39m\u001b[92m+ SimpleBufferStream v1.1.0\u001b[39m\n",
      "  \u001b[90m[b85f4697] \u001b[39m\u001b[92m+ SoftGlobalScope v1.1.0\u001b[39m\n",
      "  \u001b[90m[a2af1166] \u001b[39m\u001b[92m+ SortingAlgorithms v1.2.1\u001b[39m\n",
      "  \u001b[90m[276daf66] \u001b[39m\u001b[92m+ SpecialFunctions v2.4.0\u001b[39m\n",
      "  \u001b[90m[a25cea48] \u001b[39m\u001b[92m+ SpecialPolynomials v0.4.9\u001b[39m\n",
      "  \u001b[90m[aedffcd0] \u001b[39m\u001b[92m+ Static v0.8.10\u001b[39m\n",
      "  \u001b[90m[0d7ed370] \u001b[39m\u001b[92m+ StaticArrayInterface v1.5.0\u001b[39m\n",
      "  \u001b[90m[90137ffa] \u001b[39m\u001b[92m+ StaticArrays v1.9.5\u001b[39m\n",
      "  \u001b[90m[1e83bf80] \u001b[39m\u001b[92m+ StaticArraysCore v1.4.3\u001b[39m\n",
      "  \u001b[90m[82ae8749] \u001b[39m\u001b[92m+ StatsAPI v1.7.0\u001b[39m\n",
      "  \u001b[90m[2913bbd2] \u001b[39m\u001b[92m+ StatsBase v0.34.3\u001b[39m\n",
      "  \u001b[90m[7792a7ef] \u001b[39m\u001b[92m+ StrideArraysCore v0.5.6\u001b[39m\n",
      "  \u001b[90m[62fd8b95] \u001b[39m\u001b[92m+ TensorCore v0.1.1\u001b[39m\n",
      "  \u001b[90m[8290d209] \u001b[39m\u001b[92m+ ThreadingUtilities v0.5.2\u001b[39m\n",
      "  \u001b[90m[a759f4b9] \u001b[39m\u001b[92m+ TimerOutputs v0.5.24\u001b[39m\n",
      "  \u001b[90m[c751599d] \u001b[39m\u001b[92m+ ToeplitzMatrices v0.8.3\u001b[39m\n",
      "  \u001b[90m[3bb67fe8] \u001b[39m\u001b[92m+ TranscodingStreams v0.10.9\u001b[39m\n",
      "  \u001b[90m[d5829a12] \u001b[39m\u001b[92m+ TriangularSolve v0.2.0\u001b[39m\n",
      "  \u001b[90m[5c2747f8] \u001b[39m\u001b[92m+ URIs v1.5.1\u001b[39m\n",
      "  \u001b[90m[3a884ed6] \u001b[39m\u001b[92m+ UnPack v1.0.2\u001b[39m\n",
      "  \u001b[90m[1cfade01] \u001b[39m\u001b[92m+ UnicodeFun v0.4.1\u001b[39m\n",
      "  \u001b[90m[1986cc42] \u001b[39m\u001b[92m+ Unitful v1.20.0\u001b[39m\n",
      "  \u001b[90m[45397f5d] \u001b[39m\u001b[92m+ UnitfulLatexify v1.6.3\u001b[39m\n",
      "  \u001b[90m[41fe7b60] \u001b[39m\u001b[92m+ Unzip v0.2.0\u001b[39m\n",
      "  \u001b[90m[3d5dd08c] \u001b[39m\u001b[92m+ VectorizationBase v0.21.68\u001b[39m\n",
      "  \u001b[90m[81def892] \u001b[39m\u001b[92m+ VersionParsing v1.3.0\u001b[39m\n",
      "  \u001b[90m[c2297ded] \u001b[39m\u001b[92m+ ZMQ v1.2.6\u001b[39m\n",
      "  \u001b[90m[6e34b625] \u001b[39m\u001b[92m+ Bzip2_jll v1.0.8+1\u001b[39m\n",
      "  \u001b[90m[83423d85] \u001b[39m\u001b[92m+ Cairo_jll v1.18.0+2\u001b[39m\n",
      "  \u001b[90m[2702e6a9] \u001b[39m\u001b[92m+ EpollShim_jll v0.0.20230411+0\u001b[39m\n",
      "  \u001b[90m[2e619515] \u001b[39m\u001b[92m+ Expat_jll v2.6.2+0\u001b[39m\n",
      "\u001b[33m⌅\u001b[39m \u001b[90m[b22a6f82] \u001b[39m\u001b[92m+ FFMPEG_jll v4.4.4+1\u001b[39m\n",
      "  \u001b[90m[f5851436] \u001b[39m\u001b[92m+ FFTW_jll v3.3.10+0\u001b[39m\n",
      "  \u001b[90m[34b6f7d7] \u001b[39m\u001b[92m+ FastTransforms_jll v0.6.2+0\u001b[39m\n",
      "  \u001b[90m[a3f928ae] \u001b[39m\u001b[92m+ Fontconfig_jll v2.13.96+0\u001b[39m\n",
      "  \u001b[90m[d7e528f0] \u001b[39m\u001b[92m+ FreeType2_jll v2.13.2+0\u001b[39m\n",
      "  \u001b[90m[559328eb] \u001b[39m\u001b[92m+ FriBidi_jll v1.0.14+0\u001b[39m\n",
      "  \u001b[90m[0656b61e] \u001b[39m\u001b[92m+ GLFW_jll v3.3.9+0\u001b[39m\n",
      "  \u001b[90m[d2c73de3] \u001b[39m\u001b[92m+ GR_jll v0.73.6+0\u001b[39m\n",
      "  \u001b[90m[78b55507] \u001b[39m\u001b[92m+ Gettext_jll v0.21.0+0\u001b[39m\n",
      "  \u001b[90m[7746bdde] \u001b[39m\u001b[92m+ Glib_jll v2.80.2+0\u001b[39m\n",
      "  \u001b[90m[3b182d85] \u001b[39m\u001b[92m+ Graphite2_jll v1.3.14+0\u001b[39m\n",
      "\u001b[32m⌃\u001b[39m \u001b[90m[0234f1f7] \u001b[39m\u001b[92m+ HDF5_jll v1.14.2+1\u001b[39m\n",
      "  \u001b[90m[2e76f6c2] \u001b[39m\u001b[92m+ HarfBuzz_jll v2.8.1+1\u001b[39m\n",
      "  \u001b[90m[e33a78d0] \u001b[39m\u001b[92m+ Hwloc_jll v2.10.0+0\u001b[39m\n",
      "  \u001b[90m[1d5cc7b8] \u001b[39m\u001b[92m+ IntelOpenMP_jll v2024.1.0+0\u001b[39m\n",
      "  \u001b[90m[aacddb02] \u001b[39m\u001b[92m+ JpegTurbo_jll v3.0.3+0\u001b[39m\n",
      "  \u001b[90m[c1c5ebd0] \u001b[39m\u001b[92m+ LAME_jll v3.100.2+0\u001b[39m\n",
      "\u001b[33m⌅\u001b[39m \u001b[90m[88015f11] \u001b[39m\u001b[92m+ LERC_jll v3.0.0+1\u001b[39m\n",
      "  \u001b[90m[1d63c593] \u001b[39m\u001b[92m+ LLVMOpenMP_jll v15.0.7+0\u001b[39m\n",
      "  \u001b[90m[dd4b983a] \u001b[39m\u001b[92m+ LZO_jll v2.10.2+0\u001b[39m\n",
      "\u001b[33m⌅\u001b[39m \u001b[90m[e9f186c6] \u001b[39m\u001b[92m+ Libffi_jll v3.2.2+1\u001b[39m\n",
      "  \u001b[90m[d4300ac3] \u001b[39m\u001b[92m+ Libgcrypt_jll v1.8.11+0\u001b[39m\n",
      "  \u001b[90m[7e76a0d4] \u001b[39m\u001b[92m+ Libglvnd_jll v1.6.0+0\u001b[39m\n",
      "  \u001b[90m[7add5ba3] \u001b[39m\u001b[92m+ Libgpg_error_jll v1.49.0+0\u001b[39m\n",
      "  \u001b[90m[94ce4f54] \u001b[39m\u001b[92m+ Libiconv_jll v1.17.0+0\u001b[39m\n",
      "  \u001b[90m[4b2f31a3] \u001b[39m\u001b[92m+ Libmount_jll v2.40.1+0\u001b[39m\n",
      "\u001b[33m⌅\u001b[39m \u001b[90m[89763e89] \u001b[39m\u001b[92m+ Libtiff_jll v4.5.1+1\u001b[39m\n",
      "  \u001b[90m[38a345b3] \u001b[39m\u001b[92m+ Libuuid_jll v2.40.1+0\u001b[39m\n",
      "  \u001b[90m[856f044c] \u001b[39m\u001b[92m+ MKL_jll v2024.1.0+0\u001b[39m\n",
      "  \u001b[90m[7cb0a576] \u001b[39m\u001b[92m+ MPICH_jll v4.2.1+1\u001b[39m\n",
      "  \u001b[90m[f1f71cc9] \u001b[39m\u001b[92m+ MPItrampoline_jll v5.4.0+0\u001b[39m\n",
      "  \u001b[90m[9237b28f] \u001b[39m\u001b[92m+ MicrosoftMPI_jll v10.1.4+2\u001b[39m\n",
      "  \u001b[90m[e7412a2a] \u001b[39m\u001b[92m+ Ogg_jll v1.3.5+1\u001b[39m\n",
      "  \u001b[90m[fe0851c0] \u001b[39m\u001b[92m+ OpenMPI_jll v5.0.3+0\u001b[39m\n",
      "  \u001b[90m[458c3c95] \u001b[39m\u001b[92m+ OpenSSL_jll v3.0.14+0\u001b[39m\n",
      "  \u001b[90m[efe28fd5] \u001b[39m\u001b[92m+ OpenSpecFun_jll v0.5.5+0\u001b[39m\n",
      "  \u001b[90m[91d4177d] \u001b[39m\u001b[92m+ Opus_jll v1.3.2+0\u001b[39m\n",
      "  \u001b[90m[30392449] \u001b[39m\u001b[92m+ Pixman_jll v0.43.4+0\u001b[39m\n",
      "  \u001b[90m[c0090381] \u001b[39m\u001b[92m+ Qt6Base_jll v6.7.1+1\u001b[39m\n",
      "  \u001b[90m[a44049a8] \u001b[39m\u001b[92m+ Vulkan_Loader_jll v1.3.243+0\u001b[39m\n",
      "  \u001b[90m[a2964d1f] \u001b[39m\u001b[92m+ Wayland_jll v1.21.0+1\u001b[39m\n",
      "  \u001b[90m[2381bf8a] \u001b[39m\u001b[92m+ Wayland_protocols_jll v1.31.0+0\u001b[39m\n",
      "  \u001b[90m[02c8fc9c] \u001b[39m\u001b[92m+ XML2_jll v2.12.7+0\u001b[39m\n",
      "  \u001b[90m[aed1982a] \u001b[39m\u001b[92m+ XSLT_jll v1.1.34+0\u001b[39m\n",
      "  \u001b[90m[ffd25f8a] \u001b[39m\u001b[92m+ XZ_jll v5.4.6+0\u001b[39m\n",
      "  \u001b[90m[f67eecfb] \u001b[39m\u001b[92m+ Xorg_libICE_jll v1.1.1+0\u001b[39m\n",
      "  \u001b[90m[c834827a] \u001b[39m\u001b[92m+ Xorg_libSM_jll v1.2.4+0\u001b[39m\n",
      "  \u001b[90m[4f6342f7] \u001b[39m\u001b[92m+ Xorg_libX11_jll v1.8.6+0\u001b[39m\n",
      "  \u001b[90m[0c0b7dd1] \u001b[39m\u001b[92m+ Xorg_libXau_jll v1.0.11+0\u001b[39m\n",
      "  \u001b[90m[935fb764] \u001b[39m\u001b[92m+ Xorg_libXcursor_jll v1.2.0+4\u001b[39m\n",
      "  \u001b[90m[a3789734] \u001b[39m\u001b[92m+ Xorg_libXdmcp_jll v1.1.4+0\u001b[39m\n",
      "  \u001b[90m[1082639a] \u001b[39m\u001b[92m+ Xorg_libXext_jll v1.3.6+0\u001b[39m\n",
      "  \u001b[90m[d091e8ba] \u001b[39m\u001b[92m+ Xorg_libXfixes_jll v5.0.3+4\u001b[39m\n",
      "  \u001b[90m[a51aa0fd] \u001b[39m\u001b[92m+ Xorg_libXi_jll v1.7.10+4\u001b[39m\n",
      "  \u001b[90m[d1454406] \u001b[39m\u001b[92m+ Xorg_libXinerama_jll v1.1.4+4\u001b[39m\n",
      "  \u001b[90m[ec84b674] \u001b[39m\u001b[92m+ Xorg_libXrandr_jll v1.5.2+4\u001b[39m\n",
      "  \u001b[90m[ea2f1a96] \u001b[39m\u001b[92m+ Xorg_libXrender_jll v0.9.11+0\u001b[39m\n",
      "  \u001b[90m[14d82f49] \u001b[39m\u001b[92m+ Xorg_libpthread_stubs_jll v0.1.1+0\u001b[39m\n",
      "  \u001b[90m[c7cfdc94] \u001b[39m\u001b[92m+ Xorg_libxcb_jll v1.15.0+0\u001b[39m\n",
      "  \u001b[90m[cc61e674] \u001b[39m\u001b[92m+ Xorg_libxkbfile_jll v1.1.2+0\u001b[39m\n",
      "  \u001b[90m[e920d4aa] \u001b[39m\u001b[92m+ Xorg_xcb_util_cursor_jll v0.1.4+0\u001b[39m\n",
      "  \u001b[90m[12413925] \u001b[39m\u001b[92m+ Xorg_xcb_util_image_jll v0.4.0+1\u001b[39m\n",
      "  \u001b[90m[2def613f] \u001b[39m\u001b[92m+ Xorg_xcb_util_jll v0.4.0+1\u001b[39m\n",
      "  \u001b[90m[975044d2] \u001b[39m\u001b[92m+ Xorg_xcb_util_keysyms_jll v0.4.0+1\u001b[39m\n",
      "  \u001b[90m[0d47668e] \u001b[39m\u001b[92m+ Xorg_xcb_util_renderutil_jll v0.3.9+1\u001b[39m\n",
      "  \u001b[90m[c22f9ab0] \u001b[39m\u001b[92m+ Xorg_xcb_util_wm_jll v0.4.1+1\u001b[39m\n",
      "  \u001b[90m[35661453] \u001b[39m\u001b[92m+ Xorg_xkbcomp_jll v1.4.6+0\u001b[39m\n",
      "  \u001b[90m[33bec58e] \u001b[39m\u001b[92m+ Xorg_xkeyboard_config_jll v2.39.0+0\u001b[39m\n",
      "  \u001b[90m[c5fb5394] \u001b[39m\u001b[92m+ Xorg_xtrans_jll v1.5.0+0\u001b[39m\n",
      "  \u001b[90m[8f1865be] \u001b[39m\u001b[92m+ ZeroMQ_jll v4.3.5+0\u001b[39m\n",
      "  \u001b[90m[3161d3a3] \u001b[39m\u001b[92m+ Zstd_jll v1.5.6+0\u001b[39m\n",
      "  \u001b[90m[35ca27e7] \u001b[39m\u001b[92m+ eudev_jll v3.2.9+0\u001b[39m\n",
      "\u001b[33m⌅\u001b[39m \u001b[90m[214eeab7] \u001b[39m\u001b[92m+ fzf_jll v0.43.0+0\u001b[39m\n",
      "  \u001b[90m[1a1c6b14] \u001b[39m\u001b[92m+ gperf_jll v3.1.1+0\u001b[39m\n",
      "  \u001b[90m[477f73a3] \u001b[39m\u001b[92m+ libaec_jll v1.1.2+0\u001b[39m\n",
      "  \u001b[90m[a4ae2306] \u001b[39m\u001b[92m+ libaom_jll v3.9.0+0\u001b[39m\n",
      "  \u001b[90m[0ac62f75] \u001b[39m\u001b[92m+ libass_jll v0.15.1+0\u001b[39m\n",
      "  \u001b[90m[2db6ffa8] \u001b[39m\u001b[92m+ libevdev_jll v1.11.0+0\u001b[39m\n",
      "  \u001b[90m[f638f0a6] \u001b[39m\u001b[92m+ libfdk_aac_jll v2.0.2+0\u001b[39m\n",
      "  \u001b[90m[36db933b] \u001b[39m\u001b[92m+ libinput_jll v1.18.0+0\u001b[39m\n",
      "  \u001b[90m[b53b4c65] \u001b[39m\u001b[92m+ libpng_jll v1.6.43+1\u001b[39m\n",
      "  \u001b[90m[a9144af2] \u001b[39m\u001b[92m+ libsodium_jll v1.0.20+0\u001b[39m\n",
      "  \u001b[90m[f27f6e37] \u001b[39m\u001b[92m+ libvorbis_jll v1.3.7+1\u001b[39m\n",
      "  \u001b[90m[009596ad] \u001b[39m\u001b[92m+ mtdev_jll v1.1.6+0\u001b[39m\n",
      "  \u001b[90m[1317d2d5] \u001b[39m\u001b[92m+ oneTBB_jll v2021.12.0+0\u001b[39m\n",
      "  \u001b[90m[1270edf5] \u001b[39m\u001b[92m+ x264_jll v2021.5.5+0\u001b[39m\n",
      "  \u001b[90m[dfaa095f] \u001b[39m\u001b[92m+ x265_jll v3.5.0+0\u001b[39m\n",
      "  \u001b[90m[d8fb68d0] \u001b[39m\u001b[92m+ xkbcommon_jll v1.4.1+1\u001b[39m\n",
      "  \u001b[90m[0dad84c5] \u001b[39m\u001b[92m+ ArgTools v1.1.1\u001b[39m\n",
      "  \u001b[90m[56f22d72] \u001b[39m\u001b[92m+ Artifacts\u001b[39m\n",
      "  \u001b[90m[2a0f44e3] \u001b[39m\u001b[92m+ Base64\u001b[39m\n",
      "  \u001b[90m[ade2ca70] \u001b[39m\u001b[92m+ Dates\u001b[39m\n",
      "  \u001b[90m[f43a241f] \u001b[39m\u001b[92m+ Downloads v1.6.0\u001b[39m\n",
      "  \u001b[90m[7b1f6079] \u001b[39m\u001b[92m+ FileWatching\u001b[39m\n",
      "  \u001b[90m[b77e0a4c] \u001b[39m\u001b[92m+ InteractiveUtils\u001b[39m\n",
      "  \u001b[90m[4af54fe1] \u001b[39m\u001b[92m+ LazyArtifacts\u001b[39m\n",
      "  \u001b[90m[b27032c2] \u001b[39m\u001b[92m+ LibCURL v0.6.4\u001b[39m\n",
      "  \u001b[90m[76f85450] \u001b[39m\u001b[92m+ LibGit2\u001b[39m\n",
      "  \u001b[90m[8f399da3] \u001b[39m\u001b[92m+ Libdl\u001b[39m\n",
      "  \u001b[90m[37e2e46d] \u001b[39m\u001b[92m+ LinearAlgebra\u001b[39m\n",
      "  \u001b[90m[56ddb016] \u001b[39m\u001b[92m+ Logging\u001b[39m\n",
      "  \u001b[90m[d6f4376e] \u001b[39m\u001b[92m+ Markdown\u001b[39m\n",
      "  \u001b[90m[a63ad114] \u001b[39m\u001b[92m+ Mmap\u001b[39m\n",
      "  \u001b[90m[ca575930] \u001b[39m\u001b[92m+ NetworkOptions v1.2.0\u001b[39m\n",
      "  \u001b[90m[44cfe95a] \u001b[39m\u001b[92m+ Pkg v1.10.0\u001b[39m\n",
      "  \u001b[90m[de0858da] \u001b[39m\u001b[92m+ Printf\u001b[39m\n",
      "  \u001b[90m[9abbd945] \u001b[39m\u001b[92m+ Profile\u001b[39m\n",
      "  \u001b[90m[3fa0cd96] \u001b[39m\u001b[92m+ REPL\u001b[39m\n",
      "  \u001b[90m[9a3f8284] \u001b[39m\u001b[92m+ Random\u001b[39m\n",
      "  \u001b[90m[ea8e919c] \u001b[39m\u001b[92m+ SHA v0.7.0\u001b[39m\n",
      "  \u001b[90m[9e88b42a] \u001b[39m\u001b[92m+ Serialization\u001b[39m\n",
      "  \u001b[90m[6462fe0b] \u001b[39m\u001b[92m+ Sockets\u001b[39m\n",
      "  \u001b[90m[2f01184e] \u001b[39m\u001b[92m+ SparseArrays v1.10.0\u001b[39m\n",
      "  \u001b[90m[10745b16] \u001b[39m\u001b[92m+ Statistics v1.10.0\u001b[39m\n",
      "  \u001b[90m[4607b0f0] \u001b[39m\u001b[92m+ SuiteSparse\u001b[39m\n",
      "  \u001b[90m[fa267f1f] \u001b[39m\u001b[92m+ TOML v1.0.3\u001b[39m\n",
      "  \u001b[90m[a4e569a6] \u001b[39m\u001b[92m+ Tar v1.10.0\u001b[39m\n",
      "  \u001b[90m[8dfed614] \u001b[39m\u001b[92m+ Test\u001b[39m\n",
      "  \u001b[90m[cf7118a7] \u001b[39m\u001b[92m+ UUIDs\u001b[39m\n",
      "  \u001b[90m[4ec0a83e] \u001b[39m\u001b[92m+ Unicode\u001b[39m\n",
      "  \u001b[90m[e66e0078] \u001b[39m\u001b[92m+ CompilerSupportLibraries_jll v1.1.1+0\u001b[39m\n",
      "  \u001b[90m[781609d7] \u001b[39m\u001b[92m+ GMP_jll v6.2.1+6\u001b[39m\n",
      "  \u001b[90m[deac9b47] \u001b[39m\u001b[92m+ LibCURL_jll v8.4.0+0\u001b[39m\n",
      "  \u001b[90m[e37daf67] \u001b[39m\u001b[92m+ LibGit2_jll v1.6.4+0\u001b[39m\n",
      "  \u001b[90m[29816b5a] \u001b[39m\u001b[92m+ LibSSH2_jll v1.11.0+1\u001b[39m\n",
      "  \u001b[90m[3a97d323] \u001b[39m\u001b[92m+ MPFR_jll v4.2.0+1\u001b[39m\n",
      "  \u001b[90m[c8ffd9c3] \u001b[39m\u001b[92m+ MbedTLS_jll v2.28.2+1\u001b[39m\n",
      "  \u001b[90m[14a3606d] \u001b[39m\u001b[92m+ MozillaCACerts_jll v2023.1.10\u001b[39m\n",
      "  \u001b[90m[4536629a] \u001b[39m\u001b[92m+ OpenBLAS_jll v0.3.23+4\u001b[39m\n",
      "  \u001b[90m[05823500] \u001b[39m\u001b[92m+ OpenLibm_jll v0.8.1+2\u001b[39m\n",
      "  \u001b[90m[efcefdf7] \u001b[39m\u001b[92m+ PCRE2_jll v10.42.0+1\u001b[39m\n",
      "  \u001b[90m[bea87d4a] \u001b[39m\u001b[92m+ SuiteSparse_jll v7.2.1+1\u001b[39m\n",
      "  \u001b[90m[83775a58] \u001b[39m\u001b[92m+ Zlib_jll v1.2.13+1\u001b[39m\n",
      "  \u001b[90m[8e850b90] \u001b[39m\u001b[92m+ libblastrampoline_jll v5.8.0+1\u001b[39m\n",
      "  \u001b[90m[8e850ede] \u001b[39m\u001b[92m+ nghttp2_jll v1.52.0+1\u001b[39m\n",
      "  \u001b[90m[3f19e933] \u001b[39m\u001b[92m+ p7zip_jll v17.4.0+2\u001b[39m\n",
      "\u001b[36m\u001b[1m        Info\u001b[22m\u001b[39m Packages marked with \u001b[32m⌃\u001b[39m and \u001b[33m⌅\u001b[39m have new versions available. Those with \u001b[32m⌃\u001b[39m may be upgradable, but those with \u001b[33m⌅\u001b[39m are restricted by compatibility constraints from upgrading. To see why use `status --outdated -m`\n"
     ]
    }
   ],
   "source": [
    "] add BenchmarkTools FFTW Test TimerOutputs HDF5 Printf FastGaussQuadrature ApproxFun FastTransforms Polynomials SpecialPolynomials FastChebInterp Latexify Plots LaTeXStrings IncompleteLU Preconditioners IterativeSolvers LinearMaps RecursiveFactorization LinearOperators Krylov IJulia"
   ]
  },
  {
   "cell_type": "code",
   "execution_count": 4,
   "id": "d98f7338-2e7c-41fa-b5b4-413e8d690246",
   "metadata": {
    "scrolled": true
   },
   "outputs": [],
   "source": [
    "using FFTW\n",
    "using Base.Threads\n",
    "using LinearAlgebra\n",
    "using SparseArrays\n",
    "using Test\n",
    "using TimerOutputs\n",
    "using HDF5\n",
    "using Printf\n",
    "using FastGaussQuadrature\n",
    "using ApproxFun\n",
    "using FastTransforms\n",
    "using FastChebInterp\n",
    "using Polynomials\n",
    "using SpecialPolynomials\n",
    "using BenchmarkTools\n",
    "using Latexify\n",
    "using Plots\n",
    "using LaTeXStrings\n",
    "using IncompleteLU\n",
    "using Preconditioners \n",
    "using IterativeSolvers\n",
    "using LinearMaps\n",
    "using RecursiveFactorization\n",
    "using LinearOperators\n",
    "using Krylov\n",
    "using IJulia"
   ]
  },
  {
   "cell_type": "markdown",
   "id": "9d1a49c2-ee55-47b9-8d5f-3fcb2147f2af",
   "metadata": {},
   "source": [
    "# Ch 1: Spectral Approximation\n",
    "---\n"
   ]
  },
  {
   "cell_type": "markdown",
   "id": "75773ea8-8450-416a-91be-b90f9e63233b",
   "metadata": {},
   "source": [
    "## 1.6 Fourier Interpolation"
   ]
  },
  {
   "cell_type": "markdown",
   "id": "e7248564-0a5c-4919-896e-b2cf290ed9c9",
   "metadata": {},
   "source": [
    "We skip Algorithm 1 because it is just a FFT which we use the FFTW package to implement"
   ]
  },
  {
   "cell_type": "code",
   "execution_count": 5,
   "id": "25eafbbe-68e6-4d12-add5-df40be123ce3",
   "metadata": {},
   "outputs": [
    {
     "data": {
      "text/plain": [
       "FourierInterpolantFromModes (generic function with 1 method)"
      ]
     },
     "execution_count": 5,
     "metadata": {},
     "output_type": "execute_result"
    }
   ],
   "source": [
    "#Ch 1.6.1, Page 18\n",
    "#algorithm 2\n",
    "#Direct Evaluation of the Fourier Interpolant from Its Modes\n",
    "function FourierInterpolantFromModes(FK::Array{ComplexF64}, k::Array{ComplexF64}, x::Float64)\n",
    "    N = length(k)\n",
    "    s = 0.5 * ( FK[1] * exp(-1.0im * N * x/2)  + FK[end] * exp(1.0im * N * x/2) )\n",
    "    for i in 2:N-1\n",
    "        s = s + FK[i]*exp(1.0im * k[i] * x)\n",
    "        \n",
    "    end\n",
    "    return s\n",
    "\n",
    "end"
   ]
  },
  {
   "cell_type": "code",
   "execution_count": 6,
   "id": "071e43d3-2307-409e-8ac6-02b81ec9280d",
   "metadata": {},
   "outputs": [
    {
     "data": {
      "text/plain": [
       "FourierInterpolantFromNodes! (generic function with 1 method)"
      ]
     },
     "execution_count": 6,
     "metadata": {},
     "output_type": "execute_result"
    }
   ],
   "source": [
    "#Ch 1.6.1, Page 18\n",
    "#algorithm 3\n",
    "#Direct Evaluation of the Fourier Interpolant from Its Nodes\n",
    "function FourierInterpolantFromNodes!(Fj::Array{ComplexF64}, xj::Array{ComplexF64}, x::Float64, diffprec::Float64)\n",
    "    N = length(xj)\n",
    "    t = 0.0\n",
    "    s = 0.0\n",
    "    for j in 1:N\n",
    "        if abs(x-xj[j]) < diffprec\n",
    "            return Fj[j]\n",
    "            \n",
    "        else\n",
    "            t = (x - xj)/2.0\n",
    "            s = s + Fj[j]*sin(N*t)*cot(t)/2\n",
    "        end\n",
    "        \n",
    "    end\n",
    "    return s\n",
    "\n",
    "end"
   ]
  },
  {
   "cell_type": "markdown",
   "id": "525f6d40-e641-44af-9fcf-5c1d49bc0072",
   "metadata": {},
   "source": [
    "## 1.10 Polynomial Series Truncation"
   ]
  },
  {
   "cell_type": "code",
   "execution_count": 7,
   "id": "61d320c3-1fe1-4227-9c8e-940b79cbfc9a",
   "metadata": {},
   "outputs": [
    {
     "data": {
      "text/plain": [
       "LegendreDerivativeCoefficients! (generic function with 1 method)"
      ]
     },
     "execution_count": 7,
     "metadata": {},
     "output_type": "execute_result"
    }
   ],
   "source": [
    "#Ch 1.10.1, pg 31\n",
    "#algorithm 4\n",
    "#Evaluate the Legendre Coefficients of the Derivative of a Polynomial\n",
    "function LegendreDerivativeCoefficients!(dFk1::Array{ComplexF64},Fk::Array{ComplexF64})\n",
    "    N = length(Fk1)-1\n",
    "    dFk1[end] = 0\n",
    "    dFk1[end-1] = (2*N - 1) * Fk[end]\n",
    "\n",
    "    for k in N-2:-1:0\n",
    "        kk = k+1\n",
    "        dFk1[kk] = (2*k +1) * (Fk[kk+1] + dFk1[kk+2]/(2*k+5))\n",
    "        \n",
    "    end\n",
    "\n",
    "    return nothing\n",
    "\n",
    "end"
   ]
  },
  {
   "cell_type": "code",
   "execution_count": 8,
   "id": "dc51b111-9d0a-436e-b998-bd370bbd2614",
   "metadata": {},
   "outputs": [
    {
     "data": {
      "text/plain": [
       "ChebyshevDerivativeCoefficients! (generic function with 1 method)"
      ]
     },
     "execution_count": 8,
     "metadata": {},
     "output_type": "execute_result"
    }
   ],
   "source": [
    "#Ch 1.10.1, pg 31\n",
    "#algorithm 5\n",
    "#Evaluate the LChebyshev Coefficients of the Derivative of a Polynomial\n",
    "function ChebyshevDerivativeCoefficients!(dFk1::Array{ComplexF64},Fk::Array{ComplexF64})\n",
    "    N = length(Fk1)-1\n",
    "    dFk1[end] = 0\n",
    "    dFk1[end-1] = (2*N) * Fk[end]\n",
    "\n",
    "    for k in N-2:-1:1\n",
    "        kk = k+1\n",
    "        dFk1[kk] = 2.0*(k +1) *Fk[kk+1] + dFk1[kk+2]\n",
    "        \n",
    "    end\n",
    "\n",
    "    DFk1[1] = Fk[1] + DFk1[2]/2.0\n",
    "\n",
    "    return nothing\n",
    "\n",
    "end"
   ]
  },
  {
   "cell_type": "markdown",
   "id": "2c372a84-adae-4ffe-b7d6-6a738335c7f6",
   "metadata": {},
   "source": [
    "# Ch 2: Algorithms for Periodic Functions\n",
    "---"
   ]
  },
  {
   "cell_type": "markdown",
   "id": "e05b0b29-e40e-4b9c-b84e-df8adb8c661b",
   "metadata": {},
   "source": [
    "## Ch 2.1-2.2: FFT"
   ]
  },
  {
   "cell_type": "markdown",
   "id": "e52c5cc6-45c3-409a-9dc8-7f9edb3af822",
   "metadata": {},
   "source": [
    "We will use the Julia FFTW for DFFT"
   ]
  },
  {
   "cell_type": "markdown",
   "id": "ca99bfb3-2a29-4d03-a776-db26da1d6f65",
   "metadata": {},
   "source": [
    "## Ch 2.3 How to Evaluate the Fourier Interpolation Derivative by FFTT"
   ]
  },
  {
   "cell_type": "markdown",
   "id": "96cef150-6133-4864-8ce2-585e868ae5d3",
   "metadata": {},
   "source": [
    "For this example we will use the function: \n",
    "\n",
    "\\begin{align}\n",
    "    f(x) = sin(x)\n",
    "\\end{align}\n",
    "\n",
    "And calculate it's derivate via Fourier Interpolation which should match the analytical derivative:\n",
    "\n",
    "\\begin{align}\n",
    "    \\frac{d}{d x} f(x) = -cos(x)\n",
    "\\end{align}"
   ]
  },
  {
   "cell_type": "markdown",
   "id": "47f485d9-ae86-49e9-b6ba-a01331083a2a",
   "metadata": {},
   "source": [
    "Using a total of $N=20$ and $dx = \\pi/8$"
   ]
  },
  {
   "cell_type": "code",
   "execution_count": 56,
   "id": "c453dc81-46e4-49f9-9c40-8d18cac308ea",
   "metadata": {},
   "outputs": [],
   "source": [
    "N = 100\n",
    "dx = 2.0*pi/N\n",
    "xx = [-pi + i*dx for i in -0:N]\n",
    "fx = sin.(pi*xx) .+ 0.0im ; #note that we need to add imaginary zer0 here because FFT is complex"
   ]
  },
  {
   "cell_type": "markdown",
   "id": "e40d9534-6018-40a2-8e5c-bcbf674554fa",
   "metadata": {},
   "source": [
    "We can calucate the wave numbers using the `FFTW.fftfreq()` function from the FFTW package\n",
    "\n",
    "**NOTE:** That the total number of nodes are: $N_{total} = N+1$"
   ]
  },
  {
   "cell_type": "code",
   "execution_count": 57,
   "id": "fd1fa8c7-9428-48c3-a7d9-55279c16e057",
   "metadata": {},
   "outputs": [],
   "source": [
    "kxa = fftfreq(Int(N)+1,1/dx);"
   ]
  },
  {
   "cell_type": "code",
   "execution_count": 58,
   "id": "ac17d88c-8593-4672-9be8-d169d2a37a90",
   "metadata": {},
   "outputs": [
    {
     "data": {
      "text/plain": [
       "Frequencies{Float64}"
      ]
     },
     "execution_count": 58,
     "metadata": {},
     "output_type": "execute_result"
    }
   ],
   "source": [
    "typeof(kxa)"
   ]
  },
  {
   "cell_type": "markdown",
   "id": "d7d31d7b-c894-416c-9bb7-b554e7b8f01b",
   "metadata": {},
   "source": [
    "The `FFTW.fftfreq()` function does not return a regular array but it's own array datatype. We need to convert it to a Julia array. We do that by simply using the indexing colons"
   ]
  },
  {
   "cell_type": "code",
   "execution_count": 59,
   "id": "e1f0bb90-3f10-4fe3-bcbf-0065c3ab2fcf",
   "metadata": {},
   "outputs": [],
   "source": [
    "kx = kxa[:];"
   ]
  },
  {
   "cell_type": "code",
   "execution_count": 60,
   "id": "eaf25599-6aa5-4bcd-98c4-0d4baa7c5581",
   "metadata": {},
   "outputs": [
    {
     "data": {
      "text/plain": [
       "Vector{Float64}\u001b[90m (alias for \u001b[39m\u001b[90mArray{Float64, 1}\u001b[39m\u001b[90m)\u001b[39m"
      ]
     },
     "execution_count": 60,
     "metadata": {},
     "output_type": "execute_result"
    }
   ],
   "source": [
    "typeof(kx)"
   ]
  },
  {
   "cell_type": "markdown",
   "id": "106d60d1-0dd9-4af1-ba07-a743d206084b",
   "metadata": {},
   "source": [
    "Define the Fourier Derivative:"
   ]
  },
  {
   "cell_type": "code",
   "execution_count": 66,
   "id": "67f573cb-b04e-4dde-8f45-5be707e36f79",
   "metadata": {},
   "outputs": [
    {
     "data": {
      "text/plain": [
       "FourierDerivativeByFFT (generic function with 2 methods)"
      ]
     },
     "execution_count": 66,
     "metadata": {},
     "output_type": "execute_result"
    }
   ],
   "source": [
    "#Ch 2.3, pg 54\n",
    "#algorithm 17\n",
    "#Fast Evaluation of Fourier Polynomial Derivative\n",
    "function FourierDerivativeByFFT(f::Array{ComplexF64}, k::Array{Float64}, dn::Int64, planf, plani)\n",
    "\n",
    "    #fourier transform using FFTW plans\n",
    "    ftran = planf*f\n",
    "    #create d/dx derivative with wavenumber\n",
    "    ikderiv = @. 1.0im*kx^dn\n",
    "    #multiply wavenumbers by the FT(f)\n",
    "    ftran .= ikderiv.*ftran\n",
    "    #below is the part from the book that is unnecessary with Julia\n",
    "    # if mod(dn,2.0) != 0\n",
    "    #     ftran[end] = 0.0 + 0.0im\n",
    "    # end\n",
    "    #inverse fourier transform\n",
    "    g = plani * ftran\n",
    "    # @. g = g/(length(g)^2)\n",
    "    \n",
    "    return g\n",
    "\n",
    "end"
   ]
  },
  {
   "cell_type": "markdown",
   "id": "23e95fc3-d468-465a-964b-3cebacf9c723",
   "metadata": {},
   "source": [
    "Let's calculate our derivative. \n",
    "\n",
    "We can directly FFT using the `fft()` function. However, for a faster method we can create a FFTW plan such as below. We can either use Julia's in place plans such as `FFTW.plan_fft!()` which will allow us to use the same memory of the array and replace that array with its FFT. Or we create two plans, one for forward and one for backwards. We will do the latter. \n",
    "\n",
    "**NOTE:** The Julia `FFTW.jl` package is wraped under the `AbstractFFTs.jl` package which allows you to use the same functions and has better documentation here: https://juliamath.github.io/AbstractFFTs.jl/stable/"
   ]
  },
  {
   "cell_type": "markdown",
   "id": "8c74105f-01f3-45ce-a310-4595f41f4bbe",
   "metadata": {},
   "source": [
    "Below we set the `flags=FFTW.MEASURE`"
   ]
  },
  {
   "cell_type": "code",
   "execution_count": 67,
   "id": "b42cabca-f714-4caa-8ce9-bd76f41e7aad",
   "metadata": {},
   "outputs": [],
   "source": [
    "#forward plan\n",
    "fplan = plan_fft(xx; flags=FFTW.MEASURE)\n",
    "#inverse plan\n",
    "bplan = plan_bfft(xx; flags=FFTW.MEASURE);"
   ]
  },
  {
   "cell_type": "code",
   "execution_count": 68,
   "id": "b885a270-2145-4ca0-b9db-599a1939073a",
   "metadata": {},
   "outputs": [
    {
     "data": {
      "text/plain": [
       "101"
      ]
     },
     "execution_count": 68,
     "metadata": {},
     "output_type": "execute_result"
    }
   ],
   "source": [
    "length(kx)"
   ]
  },
  {
   "cell_type": "code",
   "execution_count": 69,
   "id": "37bc0320-160a-4be0-9ce8-e1a50fbc6a12",
   "metadata": {},
   "outputs": [
    {
     "data": {
      "text/plain": [
       "101"
      ]
     },
     "execution_count": 69,
     "metadata": {},
     "output_type": "execute_result"
    }
   ],
   "source": [
    "length(fx)"
   ]
  },
  {
   "cell_type": "code",
   "execution_count": 70,
   "id": "63ef5997-8d65-4230-8abd-6958947cd03e",
   "metadata": {},
   "outputs": [],
   "source": [
    "#number of derivatives to take\n",
    "dn = 1\n",
    "df = FourierDerivativeByFFT(fx, kx, dn, fplan, bplan);"
   ]
  },
  {
   "cell_type": "markdown",
   "id": "09783213-c8a5-4abc-9bed-2efe2e0e4617",
   "metadata": {},
   "source": [
    "We can now plot the results to compare to the analyitcal solutions.\n",
    "\n",
    "First let's take the real parts\n",
    "\n",
    "Note that the FFTW functions do not take the normalization into account. So for every FFT you do you need to divide by the $\\sqrt{\\frac{N+1}{2}}$"
   ]
  },
  {
   "cell_type": "code",
   "execution_count": 71,
   "id": "9d691fe1-c10d-48a5-8ee5-9035b3e1ae1c",
   "metadata": {},
   "outputs": [],
   "source": [
    "fxr = real(fx);\n",
    "dfxr = real(df)./(N+1).*2.0; #./(2.0*pi);"
   ]
  },
  {
   "cell_type": "code",
   "execution_count": 72,
   "id": "eb4789e5-6c96-42cc-beba-aa056b07f120",
   "metadata": {},
   "outputs": [
    {
     "data": {
      "image/png": "[encoded data removed]",
      "image/svg+xml": [
       "<?xml version=\"1.0\" encoding=\"utf-8\"?>\n",
       "<svg xmlns=\"http://www.w3.org/2000/svg\" xmlns:xlink=\"http://www.w3.org/1999/xlink\" width=\"600\" height=\"400\" viewBox=\"0 0 2400 1600\">\n",
       "<defs>\n",
       "  <clipPath id=\"clip060\">\n",
       "    <rect x=\"0\" y=\"0\" width=\"2400\" height=\"1600\"/>\n",
       "  </clipPath>\n",
       "</defs>\n",
       "<path clip-path=\"url(#clip060)\" d=\"M0 1600 L2400 1600 L2400 0 L0 0  Z\" fill=\"#ffffff\" fill-rule=\"evenodd\" fill-opacity=\"1\"/>\n",
       "<defs>\n",
       "  <clipPath id=\"clip061\">\n",
       "    <rect x=\"480\" y=\"0\" width=\"1681\" height=\"1600\"/>\n",
       "  </clipPath>\n",
       "</defs>\n",
       "<path clip-path=\"url(#clip060)\" d=\"M147.478 1486.45 L2352.76 1486.45 L2352.76 47.2441 L147.478 47.2441  Z\" fill=\"#ffffff\" fill-rule=\"evenodd\" fill-opacity=\"1\"/>\n",
       "<defs>\n",
       "  <clipPath id=\"clip062\">\n",
       "    <rect x=\"147\" y=\"47\" width=\"2206\" height=\"1440\"/>\n",
       "  </clipPath>\n",
       "</defs>\n",
       "<polyline clip-path=\"url(#clip062)\" style=\"stroke:#000000; stroke-linecap:round; stroke-linejoin:round; stroke-width:2; stroke-opacity:0.1; fill:none\" points=\"256.775,1486.45 256.775,47.2441 \"/>\n",
       "<polyline clip-path=\"url(#clip062)\" style=\"stroke:#000000; stroke-linecap:round; stroke-linejoin:round; stroke-width:2; stroke-opacity:0.1; fill:none\" points=\"587.889,1486.45 587.889,47.2441 \"/>\n",
       "<polyline clip-path=\"url(#clip062)\" style=\"stroke:#000000; stroke-linecap:round; stroke-linejoin:round; stroke-width:2; stroke-opacity:0.1; fill:none\" points=\"919.003,1486.45 919.003,47.2441 \"/>\n",
       "<polyline clip-path=\"url(#clip062)\" style=\"stroke:#000000; stroke-linecap:round; stroke-linejoin:round; stroke-width:2; stroke-opacity:0.1; fill:none\" points=\"1250.12,1486.45 1250.12,47.2441 \"/>\n",
       "<polyline clip-path=\"url(#clip062)\" style=\"stroke:#000000; stroke-linecap:round; stroke-linejoin:round; stroke-width:2; stroke-opacity:0.1; fill:none\" points=\"1581.23,1486.45 1581.23,47.2441 \"/>\n",
       "<polyline clip-path=\"url(#clip062)\" style=\"stroke:#000000; stroke-linecap:round; stroke-linejoin:round; stroke-width:2; stroke-opacity:0.1; fill:none\" points=\"1912.35,1486.45 1912.35,47.2441 \"/>\n",
       "<polyline clip-path=\"url(#clip062)\" style=\"stroke:#000000; stroke-linecap:round; stroke-linejoin:round; stroke-width:2; stroke-opacity:0.1; fill:none\" points=\"2243.46,1486.45 2243.46,47.2441 \"/>\n",
       "<polyline clip-path=\"url(#clip060)\" style=\"stroke:#000000; stroke-linecap:round; stroke-linejoin:round; stroke-width:4; stroke-opacity:1; fill:none\" points=\"147.478,1486.45 2352.76,1486.45 \"/>\n",
       "<polyline clip-path=\"url(#clip060)\" style=\"stroke:#000000; stroke-linecap:round; stroke-linejoin:round; stroke-width:4; stroke-opacity:1; fill:none\" points=\"256.775,1486.45 256.775,1467.55 \"/>\n",
       "<polyline clip-path=\"url(#clip060)\" style=\"stroke:#000000; stroke-linecap:round; stroke-linejoin:round; stroke-width:4; stroke-opacity:1; fill:none\" points=\"587.889,1486.45 587.889,1467.55 \"/>\n",
       "<polyline clip-path=\"url(#clip060)\" style=\"stroke:#000000; stroke-linecap:round; stroke-linejoin:round; stroke-width:4; stroke-opacity:1; fill:none\" points=\"919.003,1486.45 919.003,1467.55 \"/>\n",
       "<polyline clip-path=\"url(#clip060)\" style=\"stroke:#000000; stroke-linecap:round; stroke-linejoin:round; stroke-width:4; stroke-opacity:1; fill:none\" points=\"1250.12,1486.45 1250.12,1467.55 \"/>\n",
       "<polyline clip-path=\"url(#clip060)\" style=\"stroke:#000000; stroke-linecap:round; stroke-linejoin:round; stroke-width:4; stroke-opacity:1; fill:none\" points=\"1581.23,1486.45 1581.23,1467.55 \"/>\n",
       "<polyline clip-path=\"url(#clip060)\" style=\"stroke:#000000; stroke-linecap:round; stroke-linejoin:round; stroke-width:4; stroke-opacity:1; fill:none\" points=\"1912.35,1486.45 1912.35,1467.55 \"/>\n",
       "<polyline clip-path=\"url(#clip060)\" style=\"stroke:#000000; stroke-linecap:round; stroke-linejoin:round; stroke-width:4; stroke-opacity:1; fill:none\" points=\"2243.46,1486.45 2243.46,1467.55 \"/>\n",
       "<path clip-path=\"url(#clip060)\" d=\"M226.243 1532.02 L255.918 1532.02 L255.918 1535.95 L226.243 1535.95 L226.243 1532.02 Z\" fill=\"#000000\" fill-rule=\"nonzero\" fill-opacity=\"1\" /><path clip-path=\"url(#clip060)\" d=\"M280.177 1530.21 Q283.534 1530.93 285.409 1533.2 Q287.307 1535.47 287.307 1538.8 Q287.307 1543.92 283.789 1546.72 Q280.27 1549.52 273.789 1549.52 Q271.613 1549.52 269.298 1549.08 Q267.006 1548.66 264.552 1547.81 L264.552 1543.29 Q266.497 1544.43 268.812 1545.01 Q271.127 1545.58 273.65 1545.58 Q278.048 1545.58 280.339 1543.85 Q282.654 1542.11 282.654 1538.8 Q282.654 1535.75 280.501 1534.03 Q278.372 1532.3 274.552 1532.3 L270.525 1532.3 L270.525 1528.45 L274.738 1528.45 Q278.187 1528.45 280.015 1527.09 Q281.844 1525.7 281.844 1523.11 Q281.844 1520.45 279.946 1519.03 Q278.071 1517.6 274.552 1517.6 Q272.631 1517.6 270.432 1518.01 Q268.233 1518.43 265.594 1519.31 L265.594 1515.14 Q268.256 1514.4 270.571 1514.03 Q272.909 1513.66 274.969 1513.66 Q280.293 1513.66 283.395 1516.09 Q286.497 1518.5 286.497 1522.62 Q286.497 1525.49 284.853 1527.48 Q283.21 1529.45 280.177 1530.21 Z\" fill=\"#000000\" fill-rule=\"nonzero\" fill-opacity=\"1\" /><path clip-path=\"url(#clip060)\" d=\"M557.831 1532.02 L587.507 1532.02 L587.507 1535.95 L557.831 1535.95 L557.831 1532.02 Z\" fill=\"#000000\" fill-rule=\"nonzero\" fill-opacity=\"1\" /><path clip-path=\"url(#clip060)\" d=\"M601.627 1544.91 L617.947 1544.91 L617.947 1548.85 L596.002 1548.85 L596.002 1544.91 Q598.664 1542.16 603.248 1537.53 Q607.854 1532.88 609.035 1531.53 Q611.28 1529.01 612.16 1527.27 Q613.062 1525.51 613.062 1523.82 Q613.062 1521.07 611.118 1519.33 Q609.197 1517.6 606.095 1517.6 Q603.896 1517.6 601.442 1518.36 Q599.011 1519.13 596.234 1520.68 L596.234 1515.95 Q599.058 1514.82 601.511 1514.24 Q603.965 1513.66 606.002 1513.66 Q611.372 1513.66 614.567 1516.35 Q617.761 1519.03 617.761 1523.52 Q617.761 1525.65 616.951 1527.57 Q616.164 1529.47 614.058 1532.07 Q613.479 1532.74 610.377 1535.95 Q607.275 1539.15 601.627 1544.91 Z\" fill=\"#000000\" fill-rule=\"nonzero\" fill-opacity=\"1\" /><path clip-path=\"url(#clip060)\" d=\"M888.76 1532.02 L918.436 1532.02 L918.436 1535.95 L888.76 1535.95 L888.76 1532.02 Z\" fill=\"#000000\" fill-rule=\"nonzero\" fill-opacity=\"1\" /><path clip-path=\"url(#clip060)\" d=\"M929.338 1544.91 L936.977 1544.91 L936.977 1518.55 L928.667 1520.21 L928.667 1515.95 L936.931 1514.29 L941.607 1514.29 L941.607 1544.91 L949.246 1544.91 L949.246 1548.85 L929.338 1548.85 L929.338 1544.91 Z\" fill=\"#000000\" fill-rule=\"nonzero\" fill-opacity=\"1\" /><path clip-path=\"url(#clip060)\" d=\"M1250.12 1517.37 Q1246.51 1517.37 1244.68 1520.93 Q1242.87 1524.47 1242.87 1531.6 Q1242.87 1538.71 1244.68 1542.27 Q1246.51 1545.82 1250.12 1545.82 Q1253.75 1545.82 1255.56 1542.27 Q1257.39 1538.71 1257.39 1531.6 Q1257.39 1524.47 1255.56 1520.93 Q1253.75 1517.37 1250.12 1517.37 M1250.12 1513.66 Q1255.93 1513.66 1258.98 1518.27 Q1262.06 1522.85 1262.06 1531.6 Q1262.06 1540.33 1258.98 1544.94 Q1255.93 1549.52 1250.12 1549.52 Q1244.31 1549.52 1241.23 1544.94 Q1238.17 1540.33 1238.17 1531.6 Q1238.17 1522.85 1241.23 1518.27 Q1244.31 1513.66 1250.12 1513.66 Z\" fill=\"#000000\" fill-rule=\"nonzero\" fill-opacity=\"1\" /><path clip-path=\"url(#clip060)\" d=\"M1571.61 1544.91 L1579.25 1544.91 L1579.25 1518.55 L1570.94 1520.21 L1570.94 1515.95 L1579.21 1514.29 L1583.88 1514.29 L1583.88 1544.91 L1591.52 1544.91 L1591.52 1548.85 L1571.61 1548.85 L1571.61 1544.91 Z\" fill=\"#000000\" fill-rule=\"nonzero\" fill-opacity=\"1\" /><path clip-path=\"url(#clip060)\" d=\"M1907 1544.91 L1923.32 1544.91 L1923.32 1548.85 L1901.37 1548.85 L1901.37 1544.91 Q1904.03 1542.16 1908.62 1537.53 Q1913.22 1532.88 1914.41 1531.53 Q1916.65 1529.01 1917.53 1527.27 Q1918.43 1525.51 1918.43 1523.82 Q1918.43 1521.07 1916.49 1519.33 Q1914.57 1517.6 1911.47 1517.6 Q1909.27 1517.6 1906.81 1518.36 Q1904.38 1519.13 1901.6 1520.68 L1901.6 1515.95 Q1904.43 1514.82 1906.88 1514.24 Q1909.34 1513.66 1911.37 1513.66 Q1916.74 1513.66 1919.94 1516.35 Q1923.13 1519.03 1923.13 1523.52 Q1923.13 1525.65 1922.32 1527.57 Q1921.53 1529.47 1919.43 1532.07 Q1918.85 1532.74 1915.75 1535.95 Q1912.65 1539.15 1907 1544.91 Z\" fill=\"#000000\" fill-rule=\"nonzero\" fill-opacity=\"1\" /><path clip-path=\"url(#clip060)\" d=\"M2247.71 1530.21 Q2251.06 1530.93 2252.94 1533.2 Q2254.84 1535.47 2254.84 1538.8 Q2254.84 1543.92 2251.32 1546.72 Q2247.8 1549.52 2241.32 1549.52 Q2239.14 1549.52 2236.83 1549.08 Q2234.54 1548.66 2232.08 1547.81 L2232.08 1543.29 Q2234.03 1544.43 2236.34 1545.01 Q2238.66 1545.58 2241.18 1545.58 Q2245.58 1545.58 2247.87 1543.85 Q2250.18 1542.11 2250.18 1538.8 Q2250.18 1535.75 2248.03 1534.03 Q2245.9 1532.3 2242.08 1532.3 L2238.05 1532.3 L2238.05 1528.45 L2242.27 1528.45 Q2245.72 1528.45 2247.54 1527.09 Q2249.37 1525.7 2249.37 1523.11 Q2249.37 1520.45 2247.48 1519.03 Q2245.6 1517.6 2242.08 1517.6 Q2240.16 1517.6 2237.96 1518.01 Q2235.76 1518.43 2233.12 1519.31 L2233.12 1515.14 Q2235.79 1514.4 2238.1 1514.03 Q2240.44 1513.66 2242.5 1513.66 Q2247.82 1513.66 2250.92 1516.09 Q2254.03 1518.5 2254.03 1522.62 Q2254.03 1525.49 2252.38 1527.48 Q2250.74 1529.45 2247.71 1530.21 Z\" fill=\"#000000\" fill-rule=\"nonzero\" fill-opacity=\"1\" /><polyline clip-path=\"url(#clip062)\" style=\"stroke:#000000; stroke-linecap:round; stroke-linejoin:round; stroke-width:2; stroke-opacity:0.1; fill:none\" points=\"147.478,1296.68 2352.76,1296.68 \"/>\n",
       "<polyline clip-path=\"url(#clip062)\" style=\"stroke:#000000; stroke-linecap:round; stroke-linejoin:round; stroke-width:2; stroke-opacity:0.1; fill:none\" points=\"147.478,1041.53 2352.76,1041.53 \"/>\n",
       "<polyline clip-path=\"url(#clip062)\" style=\"stroke:#000000; stroke-linecap:round; stroke-linejoin:round; stroke-width:2; stroke-opacity:0.1; fill:none\" points=\"147.478,786.393 2352.76,786.393 \"/>\n",
       "<polyline clip-path=\"url(#clip062)\" style=\"stroke:#000000; stroke-linecap:round; stroke-linejoin:round; stroke-width:2; stroke-opacity:0.1; fill:none\" points=\"147.478,531.251 2352.76,531.251 \"/>\n",
       "<polyline clip-path=\"url(#clip062)\" style=\"stroke:#000000; stroke-linecap:round; stroke-linejoin:round; stroke-width:2; stroke-opacity:0.1; fill:none\" points=\"147.478,276.11 2352.76,276.11 \"/>\n",
       "<polyline clip-path=\"url(#clip060)\" style=\"stroke:#000000; stroke-linecap:round; stroke-linejoin:round; stroke-width:4; stroke-opacity:1; fill:none\" points=\"147.478,1486.45 147.478,47.2441 \"/>\n",
       "<polyline clip-path=\"url(#clip060)\" style=\"stroke:#000000; stroke-linecap:round; stroke-linejoin:round; stroke-width:4; stroke-opacity:1; fill:none\" points=\"147.478,1296.68 166.376,1296.68 \"/>\n",
       "<polyline clip-path=\"url(#clip060)\" style=\"stroke:#000000; stroke-linecap:round; stroke-linejoin:round; stroke-width:4; stroke-opacity:1; fill:none\" points=\"147.478,1041.53 166.376,1041.53 \"/>\n",
       "<polyline clip-path=\"url(#clip060)\" style=\"stroke:#000000; stroke-linecap:round; stroke-linejoin:round; stroke-width:4; stroke-opacity:1; fill:none\" points=\"147.478,786.393 166.376,786.393 \"/>\n",
       "<polyline clip-path=\"url(#clip060)\" style=\"stroke:#000000; stroke-linecap:round; stroke-linejoin:round; stroke-width:4; stroke-opacity:1; fill:none\" points=\"147.478,531.251 166.376,531.251 \"/>\n",
       "<polyline clip-path=\"url(#clip060)\" style=\"stroke:#000000; stroke-linecap:round; stroke-linejoin:round; stroke-width:4; stroke-opacity:1; fill:none\" points=\"147.478,276.11 166.376,276.11 \"/>\n",
       "<path clip-path=\"url(#clip060)\" d=\"M51.3625 1297.13 L81.0383 1297.13 L81.0383 1301.06 L51.3625 1301.06 L51.3625 1297.13 Z\" fill=\"#000000\" fill-rule=\"nonzero\" fill-opacity=\"1\" /><path clip-path=\"url(#clip060)\" d=\"M95.1586 1310.02 L111.478 1310.02 L111.478 1313.96 L89.5336 1313.96 L89.5336 1310.02 Q92.1956 1307.27 96.7789 1302.64 Q101.385 1297.98 102.566 1296.64 Q104.811 1294.12 105.691 1292.38 Q106.594 1290.62 106.594 1288.93 Q106.594 1286.18 104.649 1284.44 Q102.728 1282.71 99.6261 1282.71 Q97.4271 1282.71 94.9734 1283.47 Q92.5428 1284.23 89.7651 1285.78 L89.7651 1281.06 Q92.5891 1279.93 95.0428 1279.35 Q97.4965 1278.77 99.5335 1278.77 Q104.904 1278.77 108.098 1281.46 Q111.293 1284.14 111.293 1288.63 Q111.293 1290.76 110.483 1292.68 Q109.696 1294.58 107.589 1297.17 Q107.01 1297.84 103.909 1301.06 Q100.807 1304.26 95.1586 1310.02 Z\" fill=\"#000000\" fill-rule=\"nonzero\" fill-opacity=\"1\" /><path clip-path=\"url(#clip060)\" d=\"M50.9921 1041.99 L80.6679 1041.99 L80.6679 1045.92 L50.9921 1045.92 L50.9921 1041.99 Z\" fill=\"#000000\" fill-rule=\"nonzero\" fill-opacity=\"1\" /><path clip-path=\"url(#clip060)\" d=\"M91.5706 1054.88 L99.2095 1054.88 L99.2095 1028.51 L90.8993 1030.18 L90.8993 1025.92 L99.1632 1024.25 L103.839 1024.25 L103.839 1054.88 L111.478 1054.88 L111.478 1058.81 L91.5706 1058.81 L91.5706 1054.88 Z\" fill=\"#000000\" fill-rule=\"nonzero\" fill-opacity=\"1\" /><path clip-path=\"url(#clip060)\" d=\"M99.5335 772.191 Q95.9224 772.191 94.0937 775.756 Q92.2882 779.298 92.2882 786.427 Q92.2882 793.534 94.0937 797.099 Q95.9224 800.64 99.5335 800.64 Q103.168 800.64 104.973 797.099 Q106.802 793.534 106.802 786.427 Q106.802 779.298 104.973 775.756 Q103.168 772.191 99.5335 772.191 M99.5335 768.488 Q105.344 768.488 108.399 773.094 Q111.478 777.677 111.478 786.427 Q111.478 795.154 108.399 799.761 Q105.344 804.344 99.5335 804.344 Q93.7234 804.344 90.6447 799.761 Q87.5892 795.154 87.5892 786.427 Q87.5892 777.677 90.6447 773.094 Q93.7234 768.488 99.5335 768.488 Z\" fill=\"#000000\" fill-rule=\"nonzero\" fill-opacity=\"1\" /><path clip-path=\"url(#clip060)\" d=\"M91.5706 544.596 L99.2095 544.596 L99.2095 518.231 L90.8993 519.897 L90.8993 515.638 L99.1632 513.971 L103.839 513.971 L103.839 544.596 L111.478 544.596 L111.478 548.531 L91.5706 548.531 L91.5706 544.596 Z\" fill=\"#000000\" fill-rule=\"nonzero\" fill-opacity=\"1\" /><path clip-path=\"url(#clip060)\" d=\"M95.1586 289.455 L111.478 289.455 L111.478 293.39 L89.5336 293.39 L89.5336 289.455 Q92.1956 286.7 96.7789 282.071 Q101.385 277.418 102.566 276.075 Q104.811 273.552 105.691 271.816 Q106.594 270.057 106.594 268.367 Q106.594 265.612 104.649 263.876 Q102.728 262.14 99.6261 262.14 Q97.4271 262.14 94.9734 262.904 Q92.5428 263.668 89.7651 265.219 L89.7651 260.497 Q92.5891 259.362 95.0428 258.784 Q97.4965 258.205 99.5335 258.205 Q104.904 258.205 108.098 260.89 Q111.293 263.575 111.293 268.066 Q111.293 270.196 110.483 272.117 Q109.696 274.015 107.589 276.608 Q107.01 277.279 103.909 280.497 Q100.807 283.691 95.1586 289.455 Z\" fill=\"#000000\" fill-rule=\"nonzero\" fill-opacity=\"1\" /><polyline clip-path=\"url(#clip062)\" style=\"stroke:#009af9; stroke-linecap:round; stroke-linejoin:round; stroke-width:4; stroke-opacity:1; fill:none\" points=\"209.891,676.605 230.696,723.904 251.5,773.63 272.305,823.852 293.109,872.619 313.914,918.037 334.718,958.342 355.523,991.969 376.328,1017.61 397.132,1034.28 417.937,1041.31 438.741,1038.45 459.546,1025.79 480.35,1003.84 501.155,973.447 521.959,935.786 542.764,892.323 563.568,844.746 584.373,794.903 605.177,744.729 625.982,696.173 646.786,651.121 667.591,611.323 688.395,578.324 709.2,553.406 730.004,537.536 750.809,531.331 771.613,535.032 792.418,548.496 813.222,571.198 834.027,602.258 854.831,640.47 875.636,684.348 896.44,732.19 917.245,782.137 938.049,832.249 958.854,880.58 979.658,925.253 1000.46,964.534 1021.27,996.895 1042.07,1021.08 1062.88,1036.15 1083.68,1041.53 1104.49,1036.99 1125.29,1022.72 1146.09,999.271 1166.9,967.556 1187.7,928.804 1208.51,884.522 1229.31,836.429 1250.12,786.393 1270.92,736.356 1291.73,688.263 1312.53,643.981 1333.33,605.23 1354.14,573.514 1374.94,550.067 1395.75,535.797 1416.55,531.26 1437.36,536.632 1458.16,551.704 1478.97,575.89 1499.77,608.252 1520.58,647.532 1541.38,692.205 1562.18,740.536 1582.99,790.648 1603.79,840.595 1624.6,888.437 1645.4,932.316 1666.21,970.527 1687.01,1001.59 1707.82,1024.29 1728.62,1037.75 1749.43,1041.45 1770.23,1035.25 1791.03,1019.38 1811.84,994.461 1832.64,961.462 1853.45,921.664 1874.25,876.612 1895.06,828.056 1915.86,777.882 1936.67,728.039 1957.47,680.462 1978.27,636.999 1999.08,599.338 2019.88,568.942 2040.69,546.991 2061.49,534.337 2082.3,531.473 2103.1,538.509 2123.91,555.173 2144.71,580.816 2165.52,614.443 2186.32,654.749 2207.12,700.167 2227.93,748.934 2248.73,799.155 2269.54,848.881 2290.34,896.18 \"/>\n",
       "<polyline clip-path=\"url(#clip062)\" style=\"stroke:#e26f46; stroke-linecap:round; stroke-linejoin:round; stroke-width:4; stroke-opacity:1; fill:none\" points=\"209.891,87.9763 230.696,1445.72 251.5,781.605 272.305,1227.42 293.109,878.536 313.914,1126.69 334.718,871.444 355.523,1027.49 376.328,814.575 397.132,918.366 417.937,732.051 438.741,806.393 459.546,643.138 480.35,704.111 501.155,564.999 521.959,624.579 542.764,511.765 563.568,578.329 584.373,493.027 605.177,571.307 625.982,512.657 646.786,603.744 667.591,568.369 688.395,670.013 709.2,652.151 730.004,759.423 750.809,751.555 771.613,857.826 792.418,851.642 813.222,949.766 834.027,937.3 854.831,1020.84 875.636,995.585 896.44,1059.9 917.245,1017.72 938.049,1060.77 958.854,1000.47 979.658,1023.16 1000.46,946.612 1021.27,952.741 1042.07,864.539 1062.88,860.251 1083.68,766.966 1104.49,759.841 1125.29,668.97 1146.09,666.898 1166.9,585.68 1187.7,595.677 1208.51,529.945 1229.31,557.107 1250.12,510.36 1270.92,557.107 1291.73,529.945 1312.53,595.677 1333.33,585.68 1354.14,666.898 1374.94,668.97 1395.75,759.841 1416.55,766.966 1437.36,860.251 1458.16,864.539 1478.97,952.741 1499.77,946.612 1520.58,1023.16 1541.38,1000.47 1562.18,1060.77 1582.99,1017.72 1603.79,1059.9 1624.6,995.585 1645.4,1020.84 1666.21,937.3 1687.01,949.766 1707.82,851.642 1728.62,857.826 1749.43,751.555 1770.23,759.423 1791.03,652.151 1811.84,670.013 1832.64,568.369 1853.45,603.744 1874.25,512.657 1895.06,571.307 1915.86,493.027 1936.67,578.329 1957.47,511.765 1978.27,624.579 1999.08,564.999 2019.88,704.111 2040.69,643.138 2061.49,806.393 2082.3,732.051 2103.1,918.366 2123.91,814.575 2144.71,1027.49 2165.52,871.444 2186.32,1126.69 2207.12,878.536 2227.93,1227.42 2248.73,781.605 2269.54,1445.72 2290.34,87.9763 \"/>\n",
       "<path clip-path=\"url(#clip060)\" d=\"M1956.77 250.738 L2279.25 250.738 L2279.25 95.2176 L1956.77 95.2176  Z\" fill=\"#ffffff\" fill-rule=\"evenodd\" fill-opacity=\"1\"/>\n",
       "<polyline clip-path=\"url(#clip060)\" style=\"stroke:#000000; stroke-linecap:round; stroke-linejoin:round; stroke-width:4; stroke-opacity:1; fill:none\" points=\"1956.77,250.738 2279.25,250.738 2279.25,95.2176 1956.77,95.2176 1956.77,250.738 \"/>\n",
       "<polyline clip-path=\"url(#clip060)\" style=\"stroke:#009af9; stroke-linecap:round; stroke-linejoin:round; stroke-width:4; stroke-opacity:1; fill:none\" points=\"1981.27,147.058 2128.29,147.058 \"/>\n",
       "<path clip-path=\"url(#clip060)\" d=\"M2176.71 128.413 Q2176.71 129.701 2175.89 130.498 Q2175.09 131.294 2174.09 131.294 Q2173.36 131.294 2172.82 130.849 Q2172.31 130.404 2172.31 129.631 Q2172.31 128.835 2172.92 127.992 Q2173.52 127.148 2174.91 127.031 Q2173.99 126.165 2172.54 126.165 Q2171.81 126.165 2171.21 126.633 Q2170.62 127.078 2170.29 127.804 Q2169.94 128.554 2169.14 132.793 Q2168.89 134.175 2168.65 135.51 Q2168.42 136.845 2168.14 138.251 L2172.12 138.251 Q2172.63 138.251 2172.85 138.274 Q2173.06 138.297 2173.22 138.414 Q2173.41 138.532 2173.41 138.789 Q2173.41 139.445 2173.1 139.609 Q2172.82 139.75 2171.98 139.75 L2167.86 139.75 L2164.98 154.951 Q2164.91 155.396 2164.6 156.801 Q2164.32 158.183 2163.64 160.455 Q2162.96 162.75 2162.28 164.109 Q2161.91 164.882 2161.42 165.608 Q2160.95 166.357 2160.27 167.107 Q2159.59 167.857 2158.7 168.302 Q2157.81 168.77 2156.87 168.77 Q2155.28 168.77 2154.04 167.88 Q2152.8 166.99 2152.8 165.467 Q2152.8 164.179 2153.59 163.383 Q2154.41 162.586 2155.42 162.586 Q2156.15 162.586 2156.66 163.031 Q2157.2 163.477 2157.2 164.249 Q2157.2 164.577 2157.08 164.952 Q2156.96 165.327 2156.71 165.748 Q2156.45 166.194 2155.89 166.498 Q2155.33 166.802 2154.55 166.849 Q2155.47 167.716 2156.87 167.716 Q2157.32 167.716 2157.71 167.529 Q2158.11 167.365 2158.44 166.943 Q2158.79 166.521 2159.05 166.1 Q2159.31 165.702 2159.56 164.929 Q2159.82 164.179 2159.99 163.617 Q2160.15 163.055 2160.36 162.048 Q2160.6 161.041 2160.71 160.432 Q2160.83 159.846 2161.04 158.698 L2164.62 139.75 L2161.46 139.75 Q2160.9 139.75 2160.67 139.726 Q2160.45 139.703 2160.29 139.586 Q2160.13 139.445 2160.13 139.164 Q2160.13 138.719 2160.31 138.532 Q2160.53 138.321 2160.76 138.297 Q2160.99 138.251 2161.56 138.251 L2164.88 138.251 Q2166.01 132.325 2166.45 130.732 Q2166.97 129.046 2167.76 127.874 Q2168.56 126.68 2169.45 126.118 Q2170.34 125.556 2171.07 125.345 Q2171.81 125.111 2172.54 125.111 Q2174.18 125.111 2175.45 126.001 Q2176.71 126.867 2176.71 128.413 Z\" fill=\"#000000\" fill-rule=\"nonzero\" fill-opacity=\"1\" /><path clip-path=\"url(#clip060)\" d=\"M2183.16 146.94 Q2183.16 138.836 2186.18 132.301 Q2187.47 129.561 2189.28 127.265 Q2191.08 124.97 2192.27 123.963 Q2193.47 122.956 2193.8 122.956 Q2194.26 122.956 2194.29 123.424 Q2194.29 123.658 2193.66 124.244 Q2185.93 132.114 2185.95 146.94 Q2185.95 161.814 2193.47 169.379 Q2194.29 170.199 2194.29 170.456 Q2194.29 170.925 2193.8 170.925 Q2193.47 170.925 2192.32 169.965 Q2191.17 169.004 2189.39 166.802 Q2187.61 164.601 2186.32 161.907 Q2183.16 155.372 2183.16 146.94 Z\" fill=\"#000000\" fill-rule=\"nonzero\" fill-opacity=\"1\" /><path clip-path=\"url(#clip060)\" d=\"M2221.82 140.897 Q2221.82 142.209 2221 142.958 Q2220.18 143.685 2219.24 143.685 Q2218.35 143.685 2217.89 143.169 Q2217.42 142.654 2217.42 141.998 Q2217.42 141.108 2218.07 140.335 Q2218.73 139.562 2219.71 139.398 Q2218.75 138.789 2217.32 138.789 Q2216.39 138.789 2215.57 139.281 Q2214.77 139.773 2214.28 140.405 Q2213.81 141.038 2213.39 141.951 Q2212.99 142.841 2212.83 143.38 Q2212.69 143.895 2212.57 144.457 L2210.93 151.016 Q2210.13 154.131 2210.13 155.232 Q2210.13 156.59 2210.79 157.504 Q2211.44 158.394 2212.76 158.394 Q2213.27 158.394 2213.86 158.253 Q2214.44 158.089 2215.19 157.668 Q2215.97 157.223 2216.64 156.567 Q2217.35 155.888 2218.03 154.74 Q2218.71 153.592 2219.15 152.117 Q2219.29 151.601 2219.76 151.601 Q2220.35 151.601 2220.35 152.07 Q2220.35 152.468 2220.02 153.311 Q2219.71 154.131 2219.03 155.208 Q2218.38 156.262 2217.51 157.223 Q2216.64 158.16 2215.36 158.815 Q2214.07 159.471 2212.66 159.471 Q2210.65 159.471 2209.31 158.394 Q2207.98 157.316 2207.49 155.817 Q2207.37 156.028 2207.21 156.309 Q2207.04 156.59 2206.55 157.223 Q2206.08 157.832 2205.54 158.3 Q2205 158.745 2204.16 159.097 Q2203.34 159.471 2202.45 159.471 Q2201.33 159.471 2200.32 159.143 Q2199.34 158.815 2198.63 158.066 Q2197.93 157.316 2197.93 156.286 Q2197.93 155.138 2198.7 154.342 Q2199.5 153.522 2200.58 153.522 Q2201.26 153.522 2201.79 153.92 Q2202.36 154.318 2202.36 155.185 Q2202.36 156.145 2201.7 156.871 Q2201.05 157.597 2200.11 157.785 Q2201.07 158.394 2202.5 158.394 Q2204.04 158.394 2205.26 157.035 Q2206.48 155.677 2207.06 153.405 Q2208.52 147.947 2209.08 145.511 Q2209.64 143.052 2209.64 141.998 Q2209.64 141.014 2209.38 140.335 Q2209.13 139.656 2208.68 139.351 Q2208.26 139.023 2207.86 138.906 Q2207.49 138.789 2207.06 138.789 Q2206.36 138.789 2205.57 139.07 Q2204.79 139.351 2203.86 140.007 Q2202.94 140.64 2202.08 141.951 Q2201.21 143.263 2200.62 145.066 Q2200.51 145.605 2199.99 145.605 Q2199.43 145.582 2199.43 145.113 Q2199.43 144.715 2199.73 143.895 Q2200.06 143.052 2200.72 141.998 Q2201.4 140.944 2202.26 140.007 Q2203.15 139.047 2204.44 138.391 Q2205.75 137.735 2207.16 137.735 Q2207.79 137.735 2208.4 137.876 Q2209.03 137.993 2209.78 138.344 Q2210.55 138.696 2211.23 139.469 Q2211.91 140.241 2212.34 141.366 Q2212.62 140.827 2212.99 140.312 Q2213.39 139.796 2214 139.164 Q2214.63 138.508 2215.5 138.133 Q2216.39 137.735 2217.37 137.735 Q2218.33 137.735 2219.27 137.993 Q2220.2 138.227 2221 139 Q2221.82 139.75 2221.82 140.897 Z\" fill=\"#000000\" fill-rule=\"nonzero\" fill-opacity=\"1\" /><path clip-path=\"url(#clip060)\" d=\"M2226.43 170.456 Q2226.43 170.222 2227.04 169.637 Q2234.77 161.767 2234.77 146.94 Q2234.77 132.067 2227.35 124.548 Q2226.43 123.682 2226.43 123.424 Q2226.43 122.956 2226.9 122.956 Q2227.23 122.956 2228.38 123.916 Q2229.55 124.876 2231.31 127.078 Q2233.09 129.28 2234.4 131.973 Q2237.56 138.508 2237.56 146.94 Q2237.56 155.044 2234.54 161.579 Q2233.25 164.32 2231.45 166.615 Q2229.64 168.911 2228.45 169.918 Q2227.25 170.925 2226.9 170.925 Q2226.43 170.925 2226.43 170.456 Z\" fill=\"#000000\" fill-rule=\"nonzero\" fill-opacity=\"1\" /><polyline clip-path=\"url(#clip060)\" style=\"stroke:#e26f46; stroke-linecap:round; stroke-linejoin:round; stroke-width:4; stroke-opacity:1; fill:none\" points=\"1981.27,198.898 2128.29,198.898 \"/>\n",
       "<path clip-path=\"url(#clip060)\" d=\"M2176.71 180.253 Q2176.71 181.541 2175.89 182.338 Q2175.09 183.134 2174.09 183.134 Q2173.36 183.134 2172.82 182.689 Q2172.31 182.244 2172.31 181.471 Q2172.31 180.675 2172.92 179.832 Q2173.52 178.988 2174.91 178.871 Q2173.99 178.005 2172.54 178.005 Q2171.81 178.005 2171.21 178.473 Q2170.62 178.918 2170.29 179.644 Q2169.94 180.394 2169.14 184.633 Q2168.89 186.015 2168.65 187.35 Q2168.42 188.685 2168.14 190.091 L2172.12 190.091 Q2172.63 190.091 2172.85 190.114 Q2173.06 190.137 2173.22 190.254 Q2173.41 190.372 2173.41 190.629 Q2173.41 191.285 2173.1 191.449 Q2172.82 191.59 2171.98 191.59 L2167.86 191.59 L2164.98 206.791 Q2164.91 207.236 2164.6 208.641 Q2164.32 210.023 2163.64 212.295 Q2162.96 214.59 2162.28 215.949 Q2161.91 216.722 2161.42 217.448 Q2160.95 218.197 2160.27 218.947 Q2159.59 219.697 2158.7 220.142 Q2157.81 220.61 2156.87 220.61 Q2155.28 220.61 2154.04 219.72 Q2152.8 218.83 2152.8 217.307 Q2152.8 216.019 2153.59 215.223 Q2154.41 214.426 2155.42 214.426 Q2156.15 214.426 2156.66 214.871 Q2157.2 215.317 2157.2 216.089 Q2157.2 216.417 2157.08 216.792 Q2156.96 217.167 2156.71 217.588 Q2156.45 218.034 2155.89 218.338 Q2155.33 218.642 2154.55 218.689 Q2155.47 219.556 2156.87 219.556 Q2157.32 219.556 2157.71 219.369 Q2158.11 219.205 2158.44 218.783 Q2158.79 218.361 2159.05 217.94 Q2159.31 217.542 2159.56 216.769 Q2159.82 216.019 2159.99 215.457 Q2160.15 214.895 2160.36 213.888 Q2160.6 212.881 2160.71 212.272 Q2160.83 211.686 2161.04 210.538 L2164.62 191.59 L2161.46 191.59 Q2160.9 191.59 2160.67 191.566 Q2160.45 191.543 2160.29 191.426 Q2160.13 191.285 2160.13 191.004 Q2160.13 190.559 2160.31 190.372 Q2160.53 190.161 2160.76 190.137 Q2160.99 190.091 2161.56 190.091 L2164.88 190.091 Q2166.01 184.165 2166.45 182.572 Q2166.97 180.886 2167.76 179.714 Q2168.56 178.52 2169.45 177.958 Q2170.34 177.396 2171.07 177.185 Q2171.81 176.951 2172.54 176.951 Q2174.18 176.951 2175.45 177.841 Q2176.71 178.707 2176.71 180.253 Z\" fill=\"#000000\" fill-rule=\"nonzero\" fill-opacity=\"1\" /><path clip-path=\"url(#clip060)\" d=\"M2179.86 178.918 Q2179.86 177.723 2180.59 177.232 Q2181.31 176.716 2182.09 176.716 Q2183.05 176.716 2183.65 177.302 Q2184.29 177.864 2184.29 178.918 Q2184.29 179.386 2184.24 179.644 L2182.65 194.119 L2181.55 194.119 L2179.91 179.644 Q2179.86 179.386 2179.86 178.918 Z\" fill=\"#000000\" fill-rule=\"nonzero\" fill-opacity=\"1\" /><path clip-path=\"url(#clip060)\" d=\"M2193.06 198.78 Q2193.06 190.676 2196.08 184.141 Q2197.37 181.401 2199.17 179.105 Q2200.97 176.81 2202.17 175.803 Q2203.36 174.796 2203.69 174.796 Q2204.16 174.796 2204.18 175.264 Q2204.18 175.498 2203.55 176.084 Q2195.82 183.954 2195.84 198.78 Q2195.84 213.654 2203.36 221.219 Q2204.18 222.039 2204.18 222.296 Q2204.18 222.765 2203.69 222.765 Q2203.36 222.765 2202.22 221.805 Q2201.07 220.844 2199.29 218.642 Q2197.51 216.441 2196.22 213.747 Q2193.06 207.212 2193.06 198.78 Z\" fill=\"#000000\" fill-rule=\"nonzero\" fill-opacity=\"1\" /><path clip-path=\"url(#clip060)\" d=\"M2231.72 192.737 Q2231.72 194.049 2230.9 194.798 Q2230.08 195.525 2229.14 195.525 Q2228.25 195.525 2227.78 195.009 Q2227.31 194.494 2227.31 193.838 Q2227.31 192.948 2227.97 192.175 Q2228.62 191.402 2229.61 191.238 Q2228.65 190.629 2227.22 190.629 Q2226.28 190.629 2225.46 191.121 Q2224.67 191.613 2224.17 192.245 Q2223.71 192.878 2223.28 193.791 Q2222.89 194.681 2222.72 195.22 Q2222.58 195.735 2222.46 196.297 L2220.82 202.856 Q2220.03 205.971 2220.03 207.072 Q2220.03 208.43 2220.68 209.344 Q2221.34 210.234 2222.65 210.234 Q2223.17 210.234 2223.75 210.093 Q2224.34 209.929 2225.09 209.508 Q2225.86 209.063 2226.54 208.407 Q2227.24 207.728 2227.92 206.58 Q2228.6 205.432 2229.05 203.957 Q2229.19 203.441 2229.65 203.441 Q2230.24 203.441 2230.24 203.91 Q2230.24 204.308 2229.91 205.151 Q2229.61 205.971 2228.93 207.048 Q2228.27 208.102 2227.41 209.063 Q2226.54 210 2225.25 210.655 Q2223.96 211.311 2222.56 211.311 Q2220.54 211.311 2219.21 210.234 Q2217.87 209.156 2217.38 207.657 Q2217.26 207.868 2217.1 208.149 Q2216.94 208.43 2216.44 209.063 Q2215.98 209.672 2215.44 210.14 Q2214.9 210.585 2214.05 210.937 Q2213.24 211.311 2212.35 211.311 Q2211.22 211.311 2210.21 210.983 Q2209.23 210.655 2208.53 209.906 Q2207.82 209.156 2207.82 208.126 Q2207.82 206.978 2208.6 206.182 Q2209.39 205.362 2210.47 205.362 Q2211.15 205.362 2211.69 205.76 Q2212.25 206.158 2212.25 207.025 Q2212.25 207.985 2211.6 208.711 Q2210.94 209.437 2210 209.625 Q2210.96 210.234 2212.39 210.234 Q2213.94 210.234 2215.16 208.875 Q2216.37 207.517 2216.96 205.245 Q2218.41 199.787 2218.97 197.351 Q2219.54 194.892 2219.54 193.838 Q2219.54 192.854 2219.28 192.175 Q2219.02 191.496 2218.58 191.191 Q2218.15 190.863 2217.76 190.746 Q2217.38 190.629 2216.96 190.629 Q2216.26 190.629 2215.46 190.91 Q2214.69 191.191 2213.75 191.847 Q2212.84 192.48 2211.97 193.791 Q2211.1 195.103 2210.52 196.906 Q2210.4 197.445 2209.89 197.445 Q2209.32 197.422 2209.32 196.953 Q2209.32 196.555 2209.63 195.735 Q2209.96 194.892 2210.61 193.838 Q2211.29 192.784 2212.16 191.847 Q2213.05 190.887 2214.34 190.231 Q2215.65 189.575 2217.05 189.575 Q2217.69 189.575 2218.29 189.716 Q2218.93 189.833 2219.68 190.184 Q2220.45 190.536 2221.13 191.309 Q2221.81 192.081 2222.23 193.206 Q2222.51 192.667 2222.89 192.152 Q2223.28 191.636 2223.89 191.004 Q2224.52 190.348 2225.39 189.973 Q2226.28 189.575 2227.27 189.575 Q2228.23 189.575 2229.16 189.833 Q2230.1 190.067 2230.9 190.84 Q2231.72 191.59 2231.72 192.737 Z\" fill=\"#000000\" fill-rule=\"nonzero\" fill-opacity=\"1\" /><path clip-path=\"url(#clip060)\" d=\"M2236.33 222.296 Q2236.33 222.062 2236.94 221.477 Q2244.67 213.607 2244.67 198.78 Q2244.67 183.907 2237.24 176.388 Q2236.33 175.522 2236.33 175.264 Q2236.33 174.796 2236.8 174.796 Q2237.12 174.796 2238.27 175.756 Q2239.44 176.716 2241.2 178.918 Q2242.98 181.12 2244.29 183.813 Q2247.45 190.348 2247.45 198.78 Q2247.45 206.884 2244.43 213.419 Q2243.14 216.16 2241.34 218.455 Q2239.54 220.751 2238.34 221.758 Q2237.15 222.765 2236.8 222.765 Q2236.33 222.765 2236.33 222.296 Z\" fill=\"#000000\" fill-rule=\"nonzero\" fill-opacity=\"1\" /></svg>\n"
      ],
      "text/html": [
       "<img src=\"data:image/png;base64,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\" />"
      ]
     },
     "execution_count": 72,
     "metadata": {},
     "output_type": "execute_result"
    }
   ],
   "source": [
    "plot(xx, fxr, fmt = :png, label=L\"f(x)\")\n",
    "plot!(xx, dfxr, fmt = :png, label=L\"f'(x)\")"
   ]
  },
  {
   "cell_type": "markdown",
   "id": "cea52ec2-0fb2-461c-8594-2c8d30c52178",
   "metadata": {},
   "source": [
    "Good enough for now"
   ]
  },
  {
   "cell_type": "markdown",
   "id": "e4837586-7352-4f22-88e6-c9296616e8c8",
   "metadata": {},
   "source": [
    "## Ch 2.4 How to compute derivatives by Matrix Multiplication"
   ]
  },
  {
   "cell_type": "markdown",
   "id": "01f564cb-a8ef-41dd-83a1-8eb497f0dfb8",
   "metadata": {},
   "source": [
    "We won't go too much into detail in this section because it won't be necessary in the end"
   ]
  },
  {
   "cell_type": "code",
   "execution_count": 21,
   "id": "63f45059-2ea4-4ff0-8a07-e56809026401",
   "metadata": {},
   "outputs": [
    {
     "data": {
      "text/plain": [
       "FourierDerivativeMatrix (generic function with 1 method)"
      ]
     },
     "execution_count": 21,
     "metadata": {},
     "output_type": "execute_result"
    }
   ],
   "source": [
    "#ch 2.4, pg 55\n",
    "#algorithm 18\n",
    "#Computation of Fourier Derivative Matrix using negative sum trick\n",
    "function FourierDerivativeMatrix(N::Int64)\n",
    "\n",
    "    D = zeros(Float64,(N,N))\n",
    "    ii= 0\n",
    "    jj = 0\n",
    "    for i in 0:(N-1)\n",
    "        ii = i+1\n",
    "        D[ii,ii] = 0.0\n",
    "        for j in 0:(N-1)\n",
    "            jj = j+1\n",
    "            if j!=i\n",
    "                D[ii,jj] = 0.5 * (-1.0)^(i+j) * cot((i-j)*pi/N)\n",
    "                D[ii,ii] = D[ii,ii] - D[ii,jj]\n",
    "            end\n",
    "\n",
    "        end\n",
    "\n",
    "    end\n",
    "    return D\n",
    "\n",
    "end"
   ]
  },
  {
   "cell_type": "code",
   "execution_count": 22,
   "id": "492bbc78-d7d1-4223-b9ba-823c0dd0e8ec",
   "metadata": {},
   "outputs": [],
   "source": [
    "#algorithm 19\n",
    "#just matrix vector multiplication"
   ]
  },
  {
   "cell_type": "markdown",
   "id": "db14a4b9-ecd2-43be-957c-4ff701b2c0eb",
   "metadata": {},
   "source": [
    "# Ch 3: Algorithms for Non-Periodic Functions\n",
    "---"
   ]
  },
  {
   "cell_type": "markdown",
   "id": "7012af1d-b3aa-44a8-8005-0959a3a0d7db",
   "metadata": {},
   "source": [
    "## 3.1 How to Compute the Legendre and Chebyshev Polynomials"
   ]
  },
  {
   "cell_type": "markdown",
   "id": "9fa204cd-70c9-427e-bd2c-3a8a4a2ca9bb",
   "metadata": {},
   "source": [
    "Here we calculate the Legendre polynomials at a certain point in space $x$.\n",
    "\n",
    "We add the `LegendreSum()` function in order to add the sum of the Legendre Polynimals that approximate the function at point $x$"
   ]
  },
  {
   "cell_type": "code",
   "execution_count": 23,
   "id": "c344e7b6-7cdf-42ae-b7d7-b2f3c99029d0",
   "metadata": {},
   "outputs": [
    {
     "data": {
      "text/plain": [
       "LegendreSum (generic function with 1 method)"
      ]
     },
     "execution_count": 23,
     "metadata": {},
     "output_type": "execute_result"
    }
   ],
   "source": [
    "#ch 3.1 pg 60\n",
    "#Algorithm 20\n",
    "#evaluate Legendre Polynomials of Degree k using three term recursion\n",
    "function LegendrePolynomial(k::Int64, x::Float64)\n",
    "    if k==0\n",
    "        return 1.0\n",
    "\n",
    "    elseif k==1\n",
    "        return x\n",
    "    end\n",
    "    Lk = 0.0\n",
    "    Lkm2 = 1 # L_{k-2}\n",
    "    Lkm1 = x #L_{k-1}\n",
    "    for j in 2:k\n",
    "        Lk = (2.0*j - 1)/j *x *Lkm1 - (j-1)/j * Lkm2\n",
    "        Lkm2 = Lkm1\n",
    "        Lkm1 = Lk\n",
    "    end\n",
    "\n",
    "    return Lk\n",
    "    \n",
    "end\n",
    "\n",
    "#sum of Legendre series polynimoals at point x\n",
    "#\n",
    "function LegendreSum(k::Int64, x::Float64)\n",
    "\n",
    "    if k==0\n",
    "    return 1.0\n",
    "\n",
    "    elseif k==1\n",
    "        return x\n",
    "    end\n",
    "    Lk = 0.0\n",
    "    \n",
    "    Lkm2 = 1 # L_{k-2}\n",
    "    Lkm1 = x #L_{k-1}\n",
    "    Lksum = Lkm2 + Lkm1\n",
    "    for j in 2:k\n",
    "        Lk = (2.0*j - 1)/j *x *Lkm1 - (j-1)/j * Lkm2\n",
    "        Lkm2 = Lkm1\n",
    "        Lkm1 = Lk\n",
    "        Lksum = Lksum + Lk\n",
    "    end\n",
    "\n",
    "    return Lksum\n",
    "end"
   ]
  },
  {
   "cell_type": "markdown",
   "id": "5649ff01-d1fb-4111-a326-cd7d522f64d9",
   "metadata": {},
   "source": [
    "Let's look at the polynomials to make sure we got them correct"
   ]
  },
  {
   "cell_type": "code",
   "execution_count": 24,
   "id": "51f4852a-dd5f-474c-868e-05eb82546d2a",
   "metadata": {},
   "outputs": [],
   "source": [
    "#testing legendre polynomials\n",
    "xx = [i for i in -1:0.01:1];\n",
    "\n",
    "l0 = LegendrePolynomial.(0, xx)\n",
    "l1 = LegendrePolynomial.(1, xx)\n",
    "l2 = LegendrePolynomial.(2, xx)\n",
    "l3 = LegendrePolynomial.(3, xx)\n",
    "l4 = LegendrePolynomial.(4, xx);\n",
    "l5 = LegendrePolynomial.(5, xx);"
   ]
  },
  {
   "cell_type": "code",
   "execution_count": 25,
   "id": "aae423fd-5666-45e5-b6f5-1c42e2dd14ba",
   "metadata": {},
   "outputs": [
    {
     "data": {
      "image/png": "[encoded data removed]",
      "image/svg+xml": [
       "<?xml version=\"1.0\" encoding=\"utf-8\"?>\n",
       "<svg xmlns=\"http://www.w3.org/2000/svg\" xmlns:xlink=\"http://www.w3.org/1999/xlink\" width=\"600\" height=\"400\" viewBox=\"0 0 2400 1600\">\n",
       "<defs>\n",
       "  <clipPath id=\"clip000\">\n",
       "    <rect x=\"0\" y=\"0\" width=\"2400\" height=\"1600\"/>\n",
       "  </clipPath>\n",
       "</defs>\n",
       "<path clip-path=\"url(#clip000)\" d=\"M0 1600 L2400 1600 L2400 0 L0 0  Z\" fill=\"#ffffff\" fill-rule=\"evenodd\" fill-opacity=\"1\"/>\n",
       "<defs>\n",
       "  <clipPath id=\"clip001\">\n",
       "    <rect x=\"480\" y=\"0\" width=\"1681\" height=\"1600\"/>\n",
       "  </clipPath>\n",
       "</defs>\n",
       "<path clip-path=\"url(#clip000)\" d=\"M193.936 1486.45 L2352.76 1486.45 L2352.76 47.2441 L193.936 47.2441  Z\" fill=\"#ffffff\" fill-rule=\"evenodd\" fill-opacity=\"1\"/>\n",
       "<defs>\n",
       "  <clipPath id=\"clip002\">\n",
       "    <rect x=\"193\" y=\"47\" width=\"2160\" height=\"1440\"/>\n",
       "  </clipPath>\n",
       "</defs>\n",
       "<polyline clip-path=\"url(#clip002)\" style=\"stroke:#000000; stroke-linecap:round; stroke-linejoin:round; stroke-width:2; stroke-opacity:0.1; fill:none\" points=\"255.035,1486.45 255.035,47.2441 \"/>\n",
       "<polyline clip-path=\"url(#clip002)\" style=\"stroke:#000000; stroke-linecap:round; stroke-linejoin:round; stroke-width:2; stroke-opacity:0.1; fill:none\" points=\"764.19,1486.45 764.19,47.2441 \"/>\n",
       "<polyline clip-path=\"url(#clip002)\" style=\"stroke:#000000; stroke-linecap:round; stroke-linejoin:round; stroke-width:2; stroke-opacity:0.1; fill:none\" points=\"1273.35,1486.45 1273.35,47.2441 \"/>\n",
       "<polyline clip-path=\"url(#clip002)\" style=\"stroke:#000000; stroke-linecap:round; stroke-linejoin:round; stroke-width:2; stroke-opacity:0.1; fill:none\" points=\"1782.5,1486.45 1782.5,47.2441 \"/>\n",
       "<polyline clip-path=\"url(#clip002)\" style=\"stroke:#000000; stroke-linecap:round; stroke-linejoin:round; stroke-width:2; stroke-opacity:0.1; fill:none\" points=\"2291.66,1486.45 2291.66,47.2441 \"/>\n",
       "<polyline clip-path=\"url(#clip000)\" style=\"stroke:#000000; stroke-linecap:round; stroke-linejoin:round; stroke-width:4; stroke-opacity:1; fill:none\" points=\"193.936,1486.45 2352.76,1486.45 \"/>\n",
       "<polyline clip-path=\"url(#clip000)\" style=\"stroke:#000000; stroke-linecap:round; stroke-linejoin:round; stroke-width:4; stroke-opacity:1; fill:none\" points=\"255.035,1486.45 255.035,1467.55 \"/>\n",
       "<polyline clip-path=\"url(#clip000)\" style=\"stroke:#000000; stroke-linecap:round; stroke-linejoin:round; stroke-width:4; stroke-opacity:1; fill:none\" points=\"764.19,1486.45 764.19,1467.55 \"/>\n",
       "<polyline clip-path=\"url(#clip000)\" style=\"stroke:#000000; stroke-linecap:round; stroke-linejoin:round; stroke-width:4; stroke-opacity:1; fill:none\" points=\"1273.35,1486.45 1273.35,1467.55 \"/>\n",
       "<polyline clip-path=\"url(#clip000)\" style=\"stroke:#000000; stroke-linecap:round; stroke-linejoin:round; stroke-width:4; stroke-opacity:1; fill:none\" points=\"1782.5,1486.45 1782.5,1467.55 \"/>\n",
       "<polyline clip-path=\"url(#clip000)\" style=\"stroke:#000000; stroke-linecap:round; stroke-linejoin:round; stroke-width:4; stroke-opacity:1; fill:none\" points=\"2291.66,1486.45 2291.66,1467.55 \"/>\n",
       "<path clip-path=\"url(#clip000)\" d=\"M201.563 1532.02 L231.239 1532.02 L231.239 1535.95 L201.563 1535.95 L201.563 1532.02 Z\" fill=\"#000000\" fill-rule=\"nonzero\" fill-opacity=\"1\" /><path clip-path=\"url(#clip000)\" d=\"M242.141 1544.91 L249.78 1544.91 L249.78 1518.55 L241.47 1520.21 L241.47 1515.95 L249.734 1514.29 L254.41 1514.29 L254.41 1544.91 L262.049 1544.91 L262.049 1548.85 L242.141 1548.85 L242.141 1544.91 Z\" fill=\"#000000\" fill-rule=\"nonzero\" fill-opacity=\"1\" /><path clip-path=\"url(#clip000)\" d=\"M271.493 1542.97 L276.377 1542.97 L276.377 1548.85 L271.493 1548.85 L271.493 1542.97 Z\" fill=\"#000000\" fill-rule=\"nonzero\" fill-opacity=\"1\" /><path clip-path=\"url(#clip000)\" d=\"M296.562 1517.37 Q292.951 1517.37 291.122 1520.93 Q289.317 1524.47 289.317 1531.6 Q289.317 1538.71 291.122 1542.27 Q292.951 1545.82 296.562 1545.82 Q300.196 1545.82 302.002 1542.27 Q303.831 1538.71 303.831 1531.6 Q303.831 1524.47 302.002 1520.93 Q300.196 1517.37 296.562 1517.37 M296.562 1513.66 Q302.372 1513.66 305.428 1518.27 Q308.507 1522.85 308.507 1531.6 Q308.507 1540.33 305.428 1544.94 Q302.372 1549.52 296.562 1549.52 Q290.752 1549.52 287.673 1544.94 Q284.618 1540.33 284.618 1531.6 Q284.618 1522.85 287.673 1518.27 Q290.752 1513.66 296.562 1513.66 Z\" fill=\"#000000\" fill-rule=\"nonzero\" fill-opacity=\"1\" /><path clip-path=\"url(#clip000)\" d=\"M711.216 1532.02 L740.892 1532.02 L740.892 1535.95 L711.216 1535.95 L711.216 1532.02 Z\" fill=\"#000000\" fill-rule=\"nonzero\" fill-opacity=\"1\" /><path clip-path=\"url(#clip000)\" d=\"M760.984 1517.37 Q757.373 1517.37 755.545 1520.93 Q753.739 1524.47 753.739 1531.6 Q753.739 1538.71 755.545 1542.27 Q757.373 1545.82 760.984 1545.82 Q764.619 1545.82 766.424 1542.27 Q768.253 1538.71 768.253 1531.6 Q768.253 1524.47 766.424 1520.93 Q764.619 1517.37 760.984 1517.37 M760.984 1513.66 Q766.794 1513.66 769.85 1518.27 Q772.929 1522.85 772.929 1531.6 Q772.929 1540.33 769.85 1544.94 Q766.794 1549.52 760.984 1549.52 Q755.174 1549.52 752.095 1544.94 Q749.04 1540.33 749.04 1531.6 Q749.04 1522.85 752.095 1518.27 Q755.174 1513.66 760.984 1513.66 Z\" fill=\"#000000\" fill-rule=\"nonzero\" fill-opacity=\"1\" /><path clip-path=\"url(#clip000)\" d=\"M781.146 1542.97 L786.03 1542.97 L786.03 1548.85 L781.146 1548.85 L781.146 1542.97 Z\" fill=\"#000000\" fill-rule=\"nonzero\" fill-opacity=\"1\" /><path clip-path=\"url(#clip000)\" d=\"M796.262 1514.29 L814.618 1514.29 L814.618 1518.22 L800.544 1518.22 L800.544 1526.7 Q801.563 1526.35 802.581 1526.19 Q803.6 1526 804.618 1526 Q810.405 1526 813.785 1529.17 Q817.165 1532.34 817.165 1537.76 Q817.165 1543.34 813.692 1546.44 Q810.22 1549.52 803.901 1549.52 Q801.725 1549.52 799.456 1549.15 Q797.211 1548.78 794.804 1548.04 L794.804 1543.34 Q796.887 1544.47 799.109 1545.03 Q801.331 1545.58 803.808 1545.58 Q807.813 1545.58 810.151 1543.48 Q812.489 1541.37 812.489 1537.76 Q812.489 1534.15 810.151 1532.04 Q807.813 1529.94 803.808 1529.94 Q801.933 1529.94 800.058 1530.35 Q798.206 1530.77 796.262 1531.65 L796.262 1514.29 Z\" fill=\"#000000\" fill-rule=\"nonzero\" fill-opacity=\"1\" /><path clip-path=\"url(#clip000)\" d=\"M1250.73 1517.37 Q1247.12 1517.37 1245.29 1520.93 Q1243.49 1524.47 1243.49 1531.6 Q1243.49 1538.71 1245.29 1542.27 Q1247.12 1545.82 1250.73 1545.82 Q1254.36 1545.82 1256.17 1542.27 Q1258 1538.71 1258 1531.6 Q1258 1524.47 1256.17 1520.93 Q1254.36 1517.37 1250.73 1517.37 M1250.73 1513.66 Q1256.54 1513.66 1259.6 1518.27 Q1262.67 1522.85 1262.67 1531.6 Q1262.67 1540.33 1259.6 1544.94 Q1256.54 1549.52 1250.73 1549.52 Q1244.92 1549.52 1241.84 1544.94 Q1238.79 1540.33 1238.79 1531.6 Q1238.79 1522.85 1241.84 1518.27 Q1244.92 1513.66 1250.73 1513.66 Z\" fill=\"#000000\" fill-rule=\"nonzero\" fill-opacity=\"1\" /><path clip-path=\"url(#clip000)\" d=\"M1270.89 1542.97 L1275.78 1542.97 L1275.78 1548.85 L1270.89 1548.85 L1270.89 1542.97 Z\" fill=\"#000000\" fill-rule=\"nonzero\" fill-opacity=\"1\" /><path clip-path=\"url(#clip000)\" d=\"M1295.96 1517.37 Q1292.35 1517.37 1290.52 1520.93 Q1288.72 1524.47 1288.72 1531.6 Q1288.72 1538.71 1290.52 1542.27 Q1292.35 1545.82 1295.96 1545.82 Q1299.6 1545.82 1301.4 1542.27 Q1303.23 1538.71 1303.23 1531.6 Q1303.23 1524.47 1301.4 1520.93 Q1299.6 1517.37 1295.96 1517.37 M1295.96 1513.66 Q1301.77 1513.66 1304.83 1518.27 Q1307.91 1522.85 1307.91 1531.6 Q1307.91 1540.33 1304.83 1544.94 Q1301.77 1549.52 1295.96 1549.52 Q1290.15 1549.52 1287.07 1544.94 Q1284.02 1540.33 1284.02 1531.6 Q1284.02 1522.85 1287.07 1518.27 Q1290.15 1513.66 1295.96 1513.66 Z\" fill=\"#000000\" fill-rule=\"nonzero\" fill-opacity=\"1\" /><path clip-path=\"url(#clip000)\" d=\"M1760.38 1517.37 Q1756.77 1517.37 1754.94 1520.93 Q1753.14 1524.47 1753.14 1531.6 Q1753.14 1538.71 1754.94 1542.27 Q1756.77 1545.82 1760.38 1545.82 Q1764.02 1545.82 1765.82 1542.27 Q1767.65 1538.71 1767.65 1531.6 Q1767.65 1524.47 1765.82 1520.93 Q1764.02 1517.37 1760.38 1517.37 M1760.38 1513.66 Q1766.19 1513.66 1769.25 1518.27 Q1772.33 1522.85 1772.33 1531.6 Q1772.33 1540.33 1769.25 1544.94 Q1766.19 1549.52 1760.38 1549.52 Q1754.57 1549.52 1751.49 1544.94 Q1748.44 1540.33 1748.44 1531.6 Q1748.44 1522.85 1751.49 1518.27 Q1754.57 1513.66 1760.38 1513.66 Z\" fill=\"#000000\" fill-rule=\"nonzero\" fill-opacity=\"1\" /><path clip-path=\"url(#clip000)\" d=\"M1780.55 1542.97 L1785.43 1542.97 L1785.43 1548.85 L1780.55 1548.85 L1780.55 1542.97 Z\" fill=\"#000000\" fill-rule=\"nonzero\" fill-opacity=\"1\" /><path clip-path=\"url(#clip000)\" d=\"M1795.66 1514.29 L1814.02 1514.29 L1814.02 1518.22 L1799.94 1518.22 L1799.94 1526.7 Q1800.96 1526.35 1801.98 1526.19 Q1803 1526 1804.02 1526 Q1809.8 1526 1813.18 1529.17 Q1816.56 1532.34 1816.56 1537.76 Q1816.56 1543.34 1813.09 1546.44 Q1809.62 1549.52 1803.3 1549.52 Q1801.12 1549.52 1798.86 1549.15 Q1796.61 1548.78 1794.2 1548.04 L1794.2 1543.34 Q1796.29 1544.47 1798.51 1545.03 Q1800.73 1545.58 1803.21 1545.58 Q1807.21 1545.58 1809.55 1543.48 Q1811.89 1541.37 1811.89 1537.76 Q1811.89 1534.15 1809.55 1532.04 Q1807.21 1529.94 1803.21 1529.94 Q1801.33 1529.94 1799.46 1530.35 Q1797.61 1530.77 1795.66 1531.65 L1795.66 1514.29 Z\" fill=\"#000000\" fill-rule=\"nonzero\" fill-opacity=\"1\" /><path clip-path=\"url(#clip000)\" d=\"M2258.81 1544.91 L2266.45 1544.91 L2266.45 1518.55 L2258.14 1520.21 L2258.14 1515.95 L2266.4 1514.29 L2271.08 1514.29 L2271.08 1544.91 L2278.72 1544.91 L2278.72 1548.85 L2258.81 1548.85 L2258.81 1544.91 Z\" fill=\"#000000\" fill-rule=\"nonzero\" fill-opacity=\"1\" /><path clip-path=\"url(#clip000)\" d=\"M2288.16 1542.97 L2293.05 1542.97 L2293.05 1548.85 L2288.16 1548.85 L2288.16 1542.97 Z\" fill=\"#000000\" fill-rule=\"nonzero\" fill-opacity=\"1\" /><path clip-path=\"url(#clip000)\" d=\"M2313.23 1517.37 Q2309.62 1517.37 2307.79 1520.93 Q2305.99 1524.47 2305.99 1531.6 Q2305.99 1538.71 2307.79 1542.27 Q2309.62 1545.82 2313.23 1545.82 Q2316.87 1545.82 2318.67 1542.27 Q2320.5 1538.71 2320.5 1531.6 Q2320.5 1524.47 2318.67 1520.93 Q2316.87 1517.37 2313.23 1517.37 M2313.23 1513.66 Q2319.04 1513.66 2322.1 1518.27 Q2325.18 1522.85 2325.18 1531.6 Q2325.18 1540.33 2322.1 1544.94 Q2319.04 1549.52 2313.23 1549.52 Q2307.42 1549.52 2304.34 1544.94 Q2301.29 1540.33 2301.29 1531.6 Q2301.29 1522.85 2304.34 1518.27 Q2307.42 1513.66 2313.23 1513.66 Z\" fill=\"#000000\" fill-rule=\"nonzero\" fill-opacity=\"1\" /><polyline clip-path=\"url(#clip002)\" style=\"stroke:#000000; stroke-linecap:round; stroke-linejoin:round; stroke-width:2; stroke-opacity:0.1; fill:none\" points=\"193.936,1445.72 2352.76,1445.72 \"/>\n",
       "<polyline clip-path=\"url(#clip002)\" style=\"stroke:#000000; stroke-linecap:round; stroke-linejoin:round; stroke-width:2; stroke-opacity:0.1; fill:none\" points=\"193.936,1106.28 2352.76,1106.28 \"/>\n",
       "<polyline clip-path=\"url(#clip002)\" style=\"stroke:#000000; stroke-linecap:round; stroke-linejoin:round; stroke-width:2; stroke-opacity:0.1; fill:none\" points=\"193.936,766.846 2352.76,766.846 \"/>\n",
       "<polyline clip-path=\"url(#clip002)\" style=\"stroke:#000000; stroke-linecap:round; stroke-linejoin:round; stroke-width:2; stroke-opacity:0.1; fill:none\" points=\"193.936,427.411 2352.76,427.411 \"/>\n",
       "<polyline clip-path=\"url(#clip002)\" style=\"stroke:#000000; stroke-linecap:round; stroke-linejoin:round; stroke-width:2; stroke-opacity:0.1; fill:none\" points=\"193.936,87.9763 2352.76,87.9763 \"/>\n",
       "<polyline clip-path=\"url(#clip000)\" style=\"stroke:#000000; stroke-linecap:round; stroke-linejoin:round; stroke-width:4; stroke-opacity:1; fill:none\" points=\"193.936,1486.45 193.936,47.2441 \"/>\n",
       "<polyline clip-path=\"url(#clip000)\" style=\"stroke:#000000; stroke-linecap:round; stroke-linejoin:round; stroke-width:4; stroke-opacity:1; fill:none\" points=\"193.936,1445.72 212.834,1445.72 \"/>\n",
       "<polyline clip-path=\"url(#clip000)\" style=\"stroke:#000000; stroke-linecap:round; stroke-linejoin:round; stroke-width:4; stroke-opacity:1; fill:none\" points=\"193.936,1106.28 212.834,1106.28 \"/>\n",
       "<polyline clip-path=\"url(#clip000)\" style=\"stroke:#000000; stroke-linecap:round; stroke-linejoin:round; stroke-width:4; stroke-opacity:1; fill:none\" points=\"193.936,766.846 212.834,766.846 \"/>\n",
       "<polyline clip-path=\"url(#clip000)\" style=\"stroke:#000000; stroke-linecap:round; stroke-linejoin:round; stroke-width:4; stroke-opacity:1; fill:none\" points=\"193.936,427.411 212.834,427.411 \"/>\n",
       "<polyline clip-path=\"url(#clip000)\" style=\"stroke:#000000; stroke-linecap:round; stroke-linejoin:round; stroke-width:4; stroke-opacity:1; fill:none\" points=\"193.936,87.9763 212.834,87.9763 \"/>\n",
       "<path clip-path=\"url(#clip000)\" d=\"M50.9921 1446.17 L80.6679 1446.17 L80.6679 1450.1 L50.9921 1450.1 L50.9921 1446.17 Z\" fill=\"#000000\" fill-rule=\"nonzero\" fill-opacity=\"1\" /><path clip-path=\"url(#clip000)\" d=\"M91.5706 1459.06 L99.2095 1459.06 L99.2095 1432.69 L90.8993 1434.36 L90.8993 1430.1 L99.1632 1428.44 L103.839 1428.44 L103.839 1459.06 L111.478 1459.06 L111.478 1463 L91.5706 1463 L91.5706 1459.06 Z\" fill=\"#000000\" fill-rule=\"nonzero\" fill-opacity=\"1\" /><path clip-path=\"url(#clip000)\" d=\"M120.922 1457.12 L125.807 1457.12 L125.807 1463 L120.922 1463 L120.922 1457.12 Z\" fill=\"#000000\" fill-rule=\"nonzero\" fill-opacity=\"1\" /><path clip-path=\"url(#clip000)\" d=\"M145.992 1431.51 Q142.381 1431.51 140.552 1435.08 Q138.746 1438.62 138.746 1445.75 Q138.746 1452.86 140.552 1456.42 Q142.381 1459.96 145.992 1459.96 Q149.626 1459.96 151.431 1456.42 Q153.26 1452.86 153.26 1445.75 Q153.26 1438.62 151.431 1435.08 Q149.626 1431.51 145.992 1431.51 M145.992 1427.81 Q151.802 1427.81 154.857 1432.42 Q157.936 1437 157.936 1445.75 Q157.936 1454.48 154.857 1459.08 Q151.802 1463.67 145.992 1463.67 Q140.181 1463.67 137.103 1459.08 Q134.047 1454.48 134.047 1445.75 Q134.047 1437 137.103 1432.42 Q140.181 1427.81 145.992 1427.81 Z\" fill=\"#000000\" fill-rule=\"nonzero\" fill-opacity=\"1\" /><path clip-path=\"url(#clip000)\" d=\"M51.9875 1106.73 L81.6633 1106.73 L81.6633 1110.67 L51.9875 1110.67 L51.9875 1106.73 Z\" fill=\"#000000\" fill-rule=\"nonzero\" fill-opacity=\"1\" /><path clip-path=\"url(#clip000)\" d=\"M101.756 1092.08 Q98.1447 1092.08 96.316 1095.64 Q94.5104 1099.19 94.5104 1106.32 Q94.5104 1113.42 96.316 1116.99 Q98.1447 1120.53 101.756 1120.53 Q105.39 1120.53 107.196 1116.99 Q109.024 1113.42 109.024 1106.32 Q109.024 1099.19 107.196 1095.64 Q105.39 1092.08 101.756 1092.08 M101.756 1088.38 Q107.566 1088.38 110.621 1092.98 Q113.7 1097.57 113.7 1106.32 Q113.7 1115.04 110.621 1119.65 Q107.566 1124.23 101.756 1124.23 Q95.9456 1124.23 92.8669 1119.65 Q89.8114 1115.04 89.8114 1106.32 Q89.8114 1097.57 92.8669 1092.98 Q95.9456 1088.38 101.756 1088.38 Z\" fill=\"#000000\" fill-rule=\"nonzero\" fill-opacity=\"1\" /><path clip-path=\"url(#clip000)\" d=\"M121.918 1117.68 L126.802 1117.68 L126.802 1123.56 L121.918 1123.56 L121.918 1117.68 Z\" fill=\"#000000\" fill-rule=\"nonzero\" fill-opacity=\"1\" /><path clip-path=\"url(#clip000)\" d=\"M137.033 1089 L155.39 1089 L155.39 1092.94 L141.316 1092.94 L141.316 1101.41 Q142.334 1101.06 143.353 1100.9 Q144.371 1100.71 145.39 1100.71 Q151.177 1100.71 154.556 1103.89 Q157.936 1107.06 157.936 1112.47 Q157.936 1118.05 154.464 1121.15 Q150.992 1124.23 144.672 1124.23 Q142.496 1124.23 140.228 1123.86 Q137.982 1123.49 135.575 1122.75 L135.575 1118.05 Q137.658 1119.19 139.881 1119.74 Q142.103 1120.3 144.58 1120.3 Q148.584 1120.3 150.922 1118.19 Q153.26 1116.08 153.26 1112.47 Q153.26 1108.86 150.922 1106.76 Q148.584 1104.65 144.58 1104.65 Q142.705 1104.65 140.83 1105.07 Q138.978 1105.48 137.033 1106.36 L137.033 1089 Z\" fill=\"#000000\" fill-rule=\"nonzero\" fill-opacity=\"1\" /><path clip-path=\"url(#clip000)\" d=\"M100.76 752.645 Q97.1493 752.645 95.3206 756.209 Q93.515 759.751 93.515 766.881 Q93.515 773.987 95.3206 777.552 Q97.1493 781.094 100.76 781.094 Q104.395 781.094 106.2 777.552 Q108.029 773.987 108.029 766.881 Q108.029 759.751 106.2 756.209 Q104.395 752.645 100.76 752.645 M100.76 748.941 Q106.571 748.941 109.626 753.547 Q112.705 758.131 112.705 766.881 Q112.705 775.608 109.626 780.214 Q106.571 784.797 100.76 784.797 Q94.9502 784.797 91.8715 780.214 Q88.816 775.608 88.816 766.881 Q88.816 758.131 91.8715 753.547 Q94.9502 748.941 100.76 748.941 Z\" fill=\"#000000\" fill-rule=\"nonzero\" fill-opacity=\"1\" /><path clip-path=\"url(#clip000)\" d=\"M120.922 778.246 L125.807 778.246 L125.807 784.126 L120.922 784.126 L120.922 778.246 Z\" fill=\"#000000\" fill-rule=\"nonzero\" fill-opacity=\"1\" /><path clip-path=\"url(#clip000)\" d=\"M145.992 752.645 Q142.381 752.645 140.552 756.209 Q138.746 759.751 138.746 766.881 Q138.746 773.987 140.552 777.552 Q142.381 781.094 145.992 781.094 Q149.626 781.094 151.431 777.552 Q153.26 773.987 153.26 766.881 Q153.26 759.751 151.431 756.209 Q149.626 752.645 145.992 752.645 M145.992 748.941 Q151.802 748.941 154.857 753.547 Q157.936 758.131 157.936 766.881 Q157.936 775.608 154.857 780.214 Q151.802 784.797 145.992 784.797 Q140.181 784.797 137.103 780.214 Q134.047 775.608 134.047 766.881 Q134.047 758.131 137.103 753.547 Q140.181 748.941 145.992 748.941 Z\" fill=\"#000000\" fill-rule=\"nonzero\" fill-opacity=\"1\" /><path clip-path=\"url(#clip000)\" d=\"M101.756 413.21 Q98.1447 413.21 96.316 416.775 Q94.5104 420.316 94.5104 427.446 Q94.5104 434.552 96.316 438.117 Q98.1447 441.659 101.756 441.659 Q105.39 441.659 107.196 438.117 Q109.024 434.552 109.024 427.446 Q109.024 420.316 107.196 416.775 Q105.39 413.21 101.756 413.21 M101.756 409.506 Q107.566 409.506 110.621 414.113 Q113.7 418.696 113.7 427.446 Q113.7 436.173 110.621 440.779 Q107.566 445.362 101.756 445.362 Q95.9456 445.362 92.8669 440.779 Q89.8114 436.173 89.8114 427.446 Q89.8114 418.696 92.8669 414.113 Q95.9456 409.506 101.756 409.506 Z\" fill=\"#000000\" fill-rule=\"nonzero\" fill-opacity=\"1\" /><path clip-path=\"url(#clip000)\" d=\"M121.918 438.812 L126.802 438.812 L126.802 444.691 L121.918 444.691 L121.918 438.812 Z\" fill=\"#000000\" fill-rule=\"nonzero\" fill-opacity=\"1\" /><path clip-path=\"url(#clip000)\" d=\"M137.033 410.131 L155.39 410.131 L155.39 414.066 L141.316 414.066 L141.316 422.538 Q142.334 422.191 143.353 422.029 Q144.371 421.844 145.39 421.844 Q151.177 421.844 154.556 425.015 Q157.936 428.187 157.936 433.603 Q157.936 439.182 154.464 442.284 Q150.992 445.362 144.672 445.362 Q142.496 445.362 140.228 444.992 Q137.982 444.622 135.575 443.881 L135.575 439.182 Q137.658 440.316 139.881 440.872 Q142.103 441.427 144.58 441.427 Q148.584 441.427 150.922 439.321 Q153.26 437.214 153.26 433.603 Q153.26 429.992 150.922 427.886 Q148.584 425.779 144.58 425.779 Q142.705 425.779 140.83 426.196 Q138.978 426.613 137.033 427.492 L137.033 410.131 Z\" fill=\"#000000\" fill-rule=\"nonzero\" fill-opacity=\"1\" /><path clip-path=\"url(#clip000)\" d=\"M91.5706 101.321 L99.2095 101.321 L99.2095 74.9555 L90.8993 76.6222 L90.8993 72.3629 L99.1632 70.6963 L103.839 70.6963 L103.839 101.321 L111.478 101.321 L111.478 105.256 L91.5706 105.256 L91.5706 101.321 Z\" fill=\"#000000\" fill-rule=\"nonzero\" fill-opacity=\"1\" /><path clip-path=\"url(#clip000)\" d=\"M120.922 99.3767 L125.807 99.3767 L125.807 105.256 L120.922 105.256 L120.922 99.3767 Z\" fill=\"#000000\" fill-rule=\"nonzero\" fill-opacity=\"1\" /><path clip-path=\"url(#clip000)\" d=\"M145.992 73.775 Q142.381 73.775 140.552 77.3398 Q138.746 80.8814 138.746 88.011 Q138.746 95.1174 140.552 98.6822 Q142.381 102.224 145.992 102.224 Q149.626 102.224 151.431 98.6822 Q153.26 95.1174 153.26 88.011 Q153.26 80.8814 151.431 77.3398 Q149.626 73.775 145.992 73.775 M145.992 70.0713 Q151.802 70.0713 154.857 74.6777 Q157.936 79.261 157.936 88.011 Q157.936 96.7378 154.857 101.344 Q151.802 105.928 145.992 105.928 Q140.181 105.928 137.103 101.344 Q134.047 96.7378 134.047 88.011 Q134.047 79.261 137.103 74.6777 Q140.181 70.0713 145.992 70.0713 Z\" fill=\"#000000\" fill-rule=\"nonzero\" fill-opacity=\"1\" /><polyline clip-path=\"url(#clip002)\" style=\"stroke:#009af9; stroke-linecap:round; stroke-linejoin:round; stroke-width:4; stroke-opacity:1; fill:none\" points=\"255.035,87.9763 265.218,87.9763 275.401,87.9763 285.584,87.9763 295.767,87.9763 305.95,87.9763 316.133,87.9763 326.316,87.9763 336.5,87.9763 346.683,87.9763 356.866,87.9763 367.049,87.9763 377.232,87.9763 387.415,87.9763 397.598,87.9763 407.781,87.9763 417.964,87.9763 428.148,87.9763 438.331,87.9763 448.514,87.9763 458.697,87.9763 468.88,87.9763 479.063,87.9763 489.246,87.9763 499.429,87.9763 509.612,87.9763 519.796,87.9763 529.979,87.9763 540.162,87.9763 550.345,87.9763 560.528,87.9763 570.711,87.9763 580.894,87.9763 591.077,87.9763 601.261,87.9763 611.444,87.9763 621.627,87.9763 631.81,87.9763 641.993,87.9763 652.176,87.9763 662.359,87.9763 672.542,87.9763 682.725,87.9763 692.909,87.9763 703.092,87.9763 713.275,87.9763 723.458,87.9763 733.641,87.9763 743.824,87.9763 754.007,87.9763 764.19,87.9763 774.373,87.9763 784.557,87.9763 794.74,87.9763 804.923,87.9763 815.106,87.9763 825.289,87.9763 835.472,87.9763 845.655,87.9763 855.838,87.9763 866.021,87.9763 876.205,87.9763 886.388,87.9763 896.571,87.9763 906.754,87.9763 916.937,87.9763 927.12,87.9763 937.303,87.9763 947.486,87.9763 957.669,87.9763 967.853,87.9763 978.036,87.9763 988.219,87.9763 998.402,87.9763 1008.59,87.9763 1018.77,87.9763 1028.95,87.9763 1039.13,87.9763 1049.32,87.9763 1059.5,87.9763 1069.68,87.9763 1079.87,87.9763 1090.05,87.9763 1100.23,87.9763 1110.42,87.9763 1120.6,87.9763 1130.78,87.9763 1140.97,87.9763 1151.15,87.9763 1161.33,87.9763 1171.51,87.9763 1181.7,87.9763 1191.88,87.9763 1202.06,87.9763 1212.25,87.9763 1222.43,87.9763 1232.61,87.9763 1242.8,87.9763 1252.98,87.9763 1263.16,87.9763 1273.35,87.9763 1283.53,87.9763 1293.71,87.9763 1303.9,87.9763 1314.08,87.9763 1324.26,87.9763 1334.44,87.9763 1344.63,87.9763 1354.81,87.9763 1364.99,87.9763 1375.18,87.9763 1385.36,87.9763 1395.54,87.9763 1405.73,87.9763 1415.91,87.9763 1426.09,87.9763 1436.28,87.9763 1446.46,87.9763 1456.64,87.9763 1466.83,87.9763 1477.01,87.9763 1487.19,87.9763 1497.37,87.9763 1507.56,87.9763 1517.74,87.9763 1527.92,87.9763 1538.11,87.9763 1548.29,87.9763 1558.47,87.9763 1568.66,87.9763 1578.84,87.9763 1589.02,87.9763 1599.21,87.9763 1609.39,87.9763 1619.57,87.9763 1629.75,87.9763 1639.94,87.9763 1650.12,87.9763 1660.3,87.9763 1670.49,87.9763 1680.67,87.9763 1690.85,87.9763 1701.04,87.9763 1711.22,87.9763 1721.4,87.9763 1731.59,87.9763 1741.77,87.9763 1751.95,87.9763 1762.14,87.9763 1772.32,87.9763 1782.5,87.9763 1792.68,87.9763 1802.87,87.9763 1813.05,87.9763 1823.23,87.9763 1833.42,87.9763 1843.6,87.9763 1853.78,87.9763 1863.97,87.9763 1874.15,87.9763 1884.33,87.9763 1894.52,87.9763 1904.7,87.9763 1914.88,87.9763 1925.07,87.9763 1935.25,87.9763 1945.43,87.9763 1955.61,87.9763 1965.8,87.9763 1975.98,87.9763 1986.16,87.9763 1996.35,87.9763 2006.53,87.9763 2016.71,87.9763 2026.9,87.9763 2037.08,87.9763 2047.26,87.9763 2057.45,87.9763 2067.63,87.9763 2077.81,87.9763 2087.99,87.9763 2098.18,87.9763 2108.36,87.9763 2118.54,87.9763 2128.73,87.9763 2138.91,87.9763 2149.09,87.9763 2159.28,87.9763 2169.46,87.9763 2179.64,87.9763 2189.83,87.9763 2200.01,87.9763 2210.19,87.9763 2220.38,87.9763 2230.56,87.9763 2240.74,87.9763 2250.92,87.9763 2261.11,87.9763 2271.29,87.9763 2281.47,87.9763 2291.66,87.9763 \"/>\n",
       "<polyline clip-path=\"url(#clip002)\" style=\"stroke:#e26f46; stroke-linecap:round; stroke-linejoin:round; stroke-width:4; stroke-opacity:1; fill:none\" points=\"255.035,1445.72 265.218,1438.93 275.401,1432.14 285.584,1425.35 295.767,1418.56 305.95,1411.77 316.133,1404.98 326.316,1398.19 336.5,1391.41 346.683,1384.62 356.866,1377.83 367.049,1371.04 377.232,1364.25 387.415,1357.46 397.598,1350.67 407.781,1343.89 417.964,1337.1 428.148,1330.31 438.331,1323.52 448.514,1316.73 458.697,1309.94 468.88,1303.15 479.063,1296.36 489.246,1289.58 499.429,1282.79 509.612,1276 519.796,1269.21 529.979,1262.42 540.162,1255.63 550.345,1248.84 560.528,1242.05 570.711,1235.27 580.894,1228.48 591.077,1221.69 601.261,1214.9 611.444,1208.11 621.627,1201.32 631.81,1194.53 641.993,1187.75 652.176,1180.96 662.359,1174.17 672.542,1167.38 682.725,1160.59 692.909,1153.8 703.092,1147.01 713.275,1140.22 723.458,1133.44 733.641,1126.65 743.824,1119.86 754.007,1113.07 764.19,1106.28 774.373,1099.49 784.557,1092.7 794.74,1085.91 804.923,1079.13 815.106,1072.34 825.289,1065.55 835.472,1058.76 845.655,1051.97 855.838,1045.18 866.021,1038.39 876.205,1031.61 886.388,1024.82 896.571,1018.03 906.754,1011.24 916.937,1004.45 927.12,997.662 937.303,990.873 947.486,984.084 957.669,977.296 967.853,970.507 978.036,963.718 988.219,956.93 998.402,950.141 1008.59,943.352 1018.77,936.563 1028.95,929.775 1039.13,922.986 1049.32,916.197 1059.5,909.409 1069.68,902.62 1079.87,895.831 1090.05,889.043 1100.23,882.254 1110.42,875.465 1120.6,868.676 1130.78,861.888 1140.97,855.099 1151.15,848.31 1161.33,841.522 1171.51,834.733 1181.7,827.944 1191.88,821.156 1202.06,814.367 1212.25,807.578 1222.43,800.789 1232.61,794.001 1242.8,787.212 1252.98,780.423 1263.16,773.635 1273.35,766.846 1283.53,760.057 1293.71,753.269 1303.9,746.48 1314.08,739.691 1324.26,732.902 1334.44,726.114 1344.63,719.325 1354.81,712.536 1364.99,705.748 1375.18,698.959 1385.36,692.17 1395.54,685.382 1405.73,678.593 1415.91,671.804 1426.09,665.016 1436.28,658.227 1446.46,651.438 1456.64,644.649 1466.83,637.861 1477.01,631.072 1487.19,624.283 1497.37,617.495 1507.56,610.706 1517.74,603.917 1527.92,597.129 1538.11,590.34 1548.29,583.551 1558.47,576.762 1568.66,569.974 1578.84,563.185 1589.02,556.396 1599.21,549.608 1609.39,542.819 1619.57,536.03 1629.75,529.242 1639.94,522.453 1650.12,515.664 1660.3,508.875 1670.49,502.087 1680.67,495.298 1690.85,488.509 1701.04,481.721 1711.22,474.932 1721.4,468.143 1731.59,461.355 1741.77,454.566 1751.95,447.777 1762.14,440.989 1772.32,434.2 1782.5,427.411 1792.68,420.622 1802.87,413.834 1813.05,407.045 1823.23,400.256 1833.42,393.468 1843.6,386.679 1853.78,379.89 1863.97,373.102 1874.15,366.313 1884.33,359.524 1894.52,352.735 1904.7,345.947 1914.88,339.158 1925.07,332.369 1935.25,325.581 1945.43,318.792 1955.61,312.003 1965.8,305.215 1975.98,298.426 1986.16,291.637 1996.35,284.848 2006.53,278.06 2016.71,271.271 2026.9,264.482 2037.08,257.694 2047.26,250.905 2057.45,244.116 2067.63,237.328 2077.81,230.539 2087.99,223.75 2098.18,216.962 2108.36,210.173 2118.54,203.384 2128.73,196.595 2138.91,189.807 2149.09,183.018 2159.28,176.229 2169.46,169.441 2179.64,162.652 2189.83,155.863 2200.01,149.075 2210.19,142.286 2220.38,135.497 2230.56,128.708 2240.74,121.92 2250.92,115.131 2261.11,108.342 2271.29,101.554 2281.47,94.765 2291.66,87.9763 \"/>\n",
       "<polyline clip-path=\"url(#clip002)\" style=\"stroke:#3da44d; stroke-linecap:round; stroke-linejoin:round; stroke-width:4; stroke-opacity:1; fill:none\" points=\"255.035,87.9763 265.218,108.241 275.401,128.301 285.584,148.158 295.767,167.811 305.95,187.261 316.133,206.507 326.316,225.549 336.5,244.388 346.683,263.023 356.866,281.454 367.049,299.682 377.232,317.706 387.415,335.526 397.598,353.143 407.781,370.556 417.964,387.765 428.148,404.771 438.331,421.573 448.514,438.171 458.697,454.566 468.88,470.757 479.063,486.744 489.246,502.528 499.429,518.108 509.612,533.485 519.796,548.657 529.979,563.626 540.162,578.392 550.345,592.954 560.528,607.312 570.711,621.466 580.894,635.417 591.077,649.164 601.261,662.707 611.444,676.047 621.627,689.183 631.81,702.116 641.993,714.845 652.176,727.37 662.359,739.691 672.542,751.809 682.725,763.723 692.909,775.434 703.092,786.941 713.275,798.244 723.458,809.343 733.641,820.239 743.824,830.931 754.007,841.42 764.19,851.705 774.373,861.786 784.557,871.663 794.74,881.337 804.923,890.808 815.106,900.074 825.289,909.137 835.472,917.996 845.655,926.652 855.838,935.104 866.021,943.352 876.205,951.397 886.388,959.238 896.571,966.875 906.754,974.309 916.937,981.539 927.12,988.565 937.303,995.387 947.486,1002.01 957.669,1008.42 967.853,1014.63 978.036,1020.64 988.219,1026.45 998.402,1032.05 1008.59,1037.44 1018.77,1042.64 1028.95,1047.63 1039.13,1052.41 1049.32,1056.99 1059.5,1061.37 1069.68,1065.55 1079.87,1069.52 1090.05,1073.29 1100.23,1076.85 1110.42,1080.21 1120.6,1083.37 1130.78,1086.32 1140.97,1089.07 1151.15,1091.62 1161.33,1093.96 1171.51,1096.1 1181.7,1098.03 1191.88,1099.76 1202.06,1101.29 1212.25,1102.61 1222.43,1103.74 1232.61,1104.65 1242.8,1105.36 1252.98,1105.87 1263.16,1106.18 1273.35,1106.28 1283.53,1106.18 1293.71,1105.87 1303.9,1105.36 1314.08,1104.65 1324.26,1103.74 1334.44,1102.61 1344.63,1101.29 1354.81,1099.76 1364.99,1098.03 1375.18,1096.1 1385.36,1093.96 1395.54,1091.62 1405.73,1089.07 1415.91,1086.32 1426.09,1083.37 1436.28,1080.21 1446.46,1076.85 1456.64,1073.29 1466.83,1069.52 1477.01,1065.55 1487.19,1061.37 1497.37,1056.99 1507.56,1052.41 1517.74,1047.63 1527.92,1042.64 1538.11,1037.44 1548.29,1032.05 1558.47,1026.45 1568.66,1020.64 1578.84,1014.63 1589.02,1008.42 1599.21,1002.01 1609.39,995.387 1619.57,988.565 1629.75,981.539 1639.94,974.309 1650.12,966.875 1660.3,959.238 1670.49,951.397 1680.67,943.352 1690.85,935.104 1701.04,926.652 1711.22,917.996 1721.4,909.137 1731.59,900.074 1741.77,890.808 1751.95,881.337 1762.14,871.663 1772.32,861.786 1782.5,851.705 1792.68,841.42 1802.87,830.931 1813.05,820.239 1823.23,809.343 1833.42,798.244 1843.6,786.941 1853.78,775.434 1863.97,763.723 1874.15,751.809 1884.33,739.691 1894.52,727.37 1904.7,714.845 1914.88,702.116 1925.07,689.183 1935.25,676.047 1945.43,662.707 1955.61,649.164 1965.8,635.417 1975.98,621.466 1986.16,607.312 1996.35,592.954 2006.53,578.392 2016.71,563.626 2026.9,548.657 2037.08,533.485 2047.26,518.108 2057.45,502.528 2067.63,486.744 2077.81,470.757 2087.99,454.566 2098.18,438.171 2108.36,421.573 2118.54,404.771 2128.73,387.765 2138.91,370.556 2149.09,353.143 2159.28,335.526 2169.46,317.706 2179.64,299.682 2189.83,281.454 2200.01,263.023 2210.19,244.388 2220.38,225.549 2230.56,206.507 2240.74,187.261 2250.92,167.811 2261.11,148.158 2271.29,128.301 2281.47,108.241 2291.66,87.9763 \"/>\n",
       "<polyline clip-path=\"url(#clip002)\" style=\"stroke:#c271d2; stroke-linecap:round; stroke-linejoin:round; stroke-width:4; stroke-opacity:1; fill:none\" points=\"255.035,1445.72 265.218,1405.49 275.401,1366.27 285.584,1328.06 295.767,1290.82 305.95,1254.57 316.133,1219.29 326.316,1184.96 336.5,1151.58 346.683,1119.13 356.866,1087.61 367.049,1057.01 377.232,1027.31 387.415,998.515 397.598,970.602 407.781,943.564 417.964,917.392 428.148,892.075 438.331,867.604 448.514,843.967 458.697,821.156 468.88,799.158 479.063,777.966 489.246,757.568 499.429,737.953 509.612,719.113 519.796,701.036 529.979,683.713 540.162,667.134 550.345,651.287 560.528,636.164 570.711,621.753 580.894,608.045 591.077,595.029 601.261,582.696 611.444,571.035 621.627,560.035 631.81,549.687 641.993,539.981 652.176,530.907 662.359,522.453 672.542,514.61 682.725,507.368 692.909,500.717 703.092,494.646 713.275,489.146 723.458,484.205 733.641,479.815 743.824,475.964 754.007,472.643 764.19,469.84 774.373,467.548 784.557,465.754 794.74,464.449 804.923,463.622 815.106,463.264 825.289,463.364 835.472,463.912 845.655,464.898 855.838,466.312 866.021,468.143 876.205,470.382 886.388,473.018 896.571,476.04 906.754,479.44 916.937,483.206 927.12,487.328 937.303,491.797 947.486,496.602 957.669,501.732 967.853,507.178 978.036,512.93 988.219,518.977 998.402,525.309 1008.59,531.916 1018.77,538.788 1028.95,545.915 1039.13,553.285 1049.32,560.89 1059.5,568.72 1069.68,576.762 1079.87,585.009 1090.05,593.449 1100.23,602.072 1110.42,610.869 1120.6,619.828 1130.78,628.94 1140.97,638.195 1151.15,647.582 1161.33,657.091 1171.51,666.713 1181.7,676.436 1191.88,686.251 1202.06,696.147 1212.25,706.114 1222.43,716.143 1232.61,726.222 1242.8,736.343 1252.98,746.493 1263.16,756.665 1273.35,766.846 1283.53,777.027 1293.71,787.198 1303.9,797.349 1314.08,807.47 1324.26,817.549 1334.44,827.578 1344.63,837.545 1354.81,847.441 1364.99,857.256 1375.18,866.979 1385.36,876.601 1395.54,886.11 1405.73,895.497 1415.91,904.752 1426.09,913.864 1436.28,922.823 1446.46,931.62 1456.64,940.243 1466.83,948.683 1477.01,956.93 1487.19,964.972 1497.37,972.801 1507.56,980.407 1517.74,987.777 1527.92,994.904 1538.11,1001.78 1548.29,1008.38 1558.47,1014.71 1568.66,1020.76 1578.84,1026.51 1589.02,1031.96 1599.21,1037.09 1609.39,1041.9 1619.57,1046.36 1629.75,1050.49 1639.94,1054.25 1650.12,1057.65 1660.3,1060.67 1670.49,1063.31 1680.67,1065.55 1690.85,1067.38 1701.04,1068.79 1711.22,1069.78 1721.4,1070.33 1731.59,1070.43 1741.77,1070.07 1751.95,1069.24 1762.14,1067.94 1772.32,1066.14 1782.5,1063.85 1792.68,1061.05 1802.87,1057.73 1813.05,1053.88 1823.23,1049.49 1833.42,1044.55 1843.6,1039.05 1853.78,1032.97 1863.97,1026.32 1874.15,1019.08 1884.33,1011.24 1894.52,1002.79 1904.7,993.711 1914.88,984.005 1925.07,973.657 1935.25,962.657 1945.43,950.996 1955.61,938.663 1965.8,925.647 1975.98,911.939 1986.16,897.528 1996.35,882.405 2006.53,866.558 2016.71,849.979 2026.9,832.656 2037.08,814.579 2047.26,795.739 2057.45,776.124 2067.63,755.726 2077.81,734.533 2087.99,712.536 2098.18,689.725 2108.36,666.088 2118.54,641.617 2128.73,616.3 2138.91,590.128 2149.09,563.09 2159.28,535.177 2169.46,506.377 2179.64,476.682 2189.83,446.08 2200.01,414.562 2210.19,382.117 2220.38,348.735 2230.56,314.406 2240.74,279.121 2250.92,242.867 2261.11,205.636 2271.29,167.418 2281.47,128.201 2291.66,87.9763 \"/>\n",
       "<polyline clip-path=\"url(#clip002)\" style=\"stroke:#ac8d18; stroke-linecap:round; stroke-linejoin:round; stroke-width:4; stroke-opacity:1; fill:none\" points=\"255.035,87.9763 265.218,154.348 275.401,217.735 285.584,278.208 295.767,335.838 305.95,390.691 316.133,442.837 326.316,492.343 336.5,539.276 346.683,583.701 356.866,625.684 367.049,665.288 377.232,702.579 387.415,737.619 397.598,770.471 407.781,801.195 417.964,829.854 428.148,856.507 438.331,881.213 448.514,904.033 458.697,925.023 468.88,944.241 479.063,961.744 489.246,977.587 499.429,991.827 509.612,1004.52 519.796,1015.71 529.979,1025.46 540.162,1033.82 550.345,1040.85 560.528,1046.58 570.711,1051.08 580.894,1054.39 591.077,1056.56 601.261,1057.64 611.444,1057.68 621.627,1056.72 631.81,1054.81 641.993,1052 652.176,1048.32 662.359,1043.82 672.542,1038.56 682.725,1032.56 692.909,1025.87 703.092,1018.53 713.275,1010.58 723.458,1002.07 733.641,993.023 743.824,983.485 754.007,973.492 764.19,963.082 774.373,952.289 784.557,941.15 794.74,929.699 804.923,917.97 815.106,905.996 825.289,893.809 835.472,881.441 845.655,868.923 855.838,856.286 866.021,843.558 876.205,830.77 886.388,817.948 896.571,805.121 906.754,792.315 916.937,779.556 927.12,766.87 937.303,754.281 947.486,741.813 957.669,729.488 967.853,717.331 978.036,705.362 988.219,693.602 998.402,682.072 1008.59,670.791 1018.77,659.778 1028.95,649.052 1039.13,638.629 1049.32,628.527 1059.5,618.762 1069.68,609.348 1079.87,600.301 1090.05,591.635 1100.23,583.362 1110.42,575.495 1120.6,568.046 1130.78,561.026 1140.97,554.445 1151.15,548.313 1161.33,542.639 1171.51,537.43 1181.7,532.696 1191.88,528.441 1202.06,524.673 1212.25,521.396 1222.43,518.616 1232.61,516.335 1242.8,514.559 1252.98,513.288 1263.16,512.524 1273.35,512.27 1283.53,512.524 1293.71,513.288 1303.9,514.559 1314.08,516.335 1324.26,518.616 1334.44,521.396 1344.63,524.673 1354.81,528.441 1364.99,532.696 1375.18,537.43 1385.36,542.639 1395.54,548.313 1405.73,554.445 1415.91,561.026 1426.09,568.046 1436.28,575.495 1446.46,583.362 1456.64,591.635 1466.83,600.301 1477.01,609.348 1487.19,618.762 1497.37,628.527 1507.56,638.629 1517.74,649.052 1527.92,659.778 1538.11,670.791 1548.29,682.072 1558.47,693.602 1568.66,705.362 1578.84,717.331 1589.02,729.488 1599.21,741.813 1609.39,754.281 1619.57,766.87 1629.75,779.556 1639.94,792.315 1650.12,805.121 1660.3,817.948 1670.49,830.77 1680.67,843.558 1690.85,856.286 1701.04,868.923 1711.22,881.441 1721.4,893.809 1731.59,905.996 1741.77,917.97 1751.95,929.699 1762.14,941.15 1772.32,952.289 1782.5,963.082 1792.68,973.492 1802.87,983.485 1813.05,993.023 1823.23,1002.07 1833.42,1010.58 1843.6,1018.53 1853.78,1025.87 1863.97,1032.56 1874.15,1038.56 1884.33,1043.82 1894.52,1048.32 1904.7,1052 1914.88,1054.81 1925.07,1056.72 1935.25,1057.68 1945.43,1057.64 1955.61,1056.56 1965.8,1054.39 1975.98,1051.08 1986.16,1046.58 1996.35,1040.85 2006.53,1033.82 2016.71,1025.46 2026.9,1015.71 2037.08,1004.52 2047.26,991.827 2057.45,977.587 2067.63,961.744 2077.81,944.241 2087.99,925.023 2098.18,904.033 2108.36,881.213 2118.54,856.507 2128.73,829.854 2138.91,801.195 2149.09,770.471 2159.28,737.619 2169.46,702.579 2179.64,665.288 2189.83,625.684 2200.01,583.701 2210.19,539.276 2220.38,492.343 2230.56,442.837 2240.74,390.691 2250.92,335.838 2261.11,278.208 2271.29,217.735 2281.47,154.348 2291.66,87.9763 \"/>\n",
       "<polyline clip-path=\"url(#clip002)\" style=\"stroke:#00a9ad; stroke-linecap:round; stroke-linejoin:round; stroke-width:4; stroke-opacity:1; fill:none\" points=\"255.035,1445.72 265.218,1347.4 275.401,1255.94 285.584,1171.04 295.767,1092.45 305.95,1019.89 316.133,953.117 326.316,891.875 336.5,835.919 346.683,785.01 356.866,738.916 367.049,697.41 377.232,660.269 387.415,627.28 397.598,598.23 407.781,572.917 417.964,551.141 428.148,532.709 438.331,517.434 448.514,505.131 458.697,495.624 468.88,488.741 479.063,484.314 489.246,482.182 499.429,482.187 509.612,484.177 519.796,488.005 529.979,493.53 540.162,500.612 550.345,509.119 560.528,518.924 570.711,529.901 580.894,541.931 591.077,554.901 601.261,568.699 611.444,583.219 621.627,598.358 631.81,614.021 641.993,630.111 652.176,646.541 662.359,663.223 672.542,680.077 682.725,697.025 692.909,713.992 703.092,730.907 713.275,747.705 723.458,764.322 733.641,780.698 743.824,796.778 754.007,812.508 764.19,827.838 774.373,842.724 784.557,857.121 794.74,870.99 804.923,884.294 815.106,897 825.289,909.077 835.472,920.497 845.655,931.234 855.838,941.267 866.021,950.575 876.205,959.143 886.388,966.955 896.571,973.999 906.754,980.267 916.937,985.751 927.12,990.446 937.303,994.349 947.486,997.461 957.669,999.783 967.853,1001.32 978.036,1002.07 988.219,1002.06 998.402,1001.28 1008.59,999.743 1018.77,997.473 1028.95,994.478 1039.13,990.776 1049.32,986.385 1059.5,981.323 1069.68,975.612 1079.87,969.274 1090.05,962.332 1100.23,954.811 1110.42,946.737 1120.6,938.136 1130.78,929.037 1140.97,919.469 1151.15,909.46 1161.33,899.043 1171.51,888.247 1181.7,877.106 1191.88,865.653 1202.06,853.919 1212.25,841.94 1222.43,829.749 1232.61,817.382 1242.8,804.872 1252.98,792.256 1263.16,779.569 1273.35,766.846 1283.53,754.123 1293.71,741.436 1303.9,728.82 1314.08,716.31 1324.26,703.943 1334.44,691.752 1344.63,679.773 1354.81,668.039 1364.99,656.585 1375.18,645.445 1385.36,634.649 1395.54,624.232 1405.73,614.223 1415.91,604.655 1426.09,595.556 1436.28,586.955 1446.46,578.881 1456.64,571.36 1466.83,564.418 1477.01,558.08 1487.19,552.369 1497.37,547.307 1507.56,542.916 1517.74,539.214 1527.92,536.219 1538.11,533.948 1548.29,532.416 1558.47,531.636 1568.66,531.618 1578.84,532.374 1589.02,533.909 1599.21,536.231 1609.39,539.343 1619.57,543.246 1629.75,547.941 1639.94,553.425 1650.12,559.693 1660.3,566.737 1670.49,574.549 1680.67,583.117 1690.85,592.425 1701.04,602.458 1711.22,613.195 1721.4,624.615 1731.59,636.692 1741.77,649.398 1751.95,662.702 1762.14,676.571 1772.32,690.968 1782.5,705.854 1792.68,721.184 1802.87,736.914 1813.05,752.994 1823.23,769.37 1833.42,785.987 1843.6,802.784 1853.78,819.7 1863.97,836.667 1874.15,853.615 1884.33,870.469 1894.52,887.151 1904.7,903.581 1914.88,919.671 1925.07,935.334 1935.25,950.473 1945.43,964.993 1955.61,978.791 1965.8,991.76 1975.98,1003.79 1986.16,1014.77 1996.35,1024.57 2006.53,1033.08 2016.71,1040.16 2026.9,1045.69 2037.08,1049.51 2047.26,1051.51 2057.45,1051.51 2067.63,1049.38 2077.81,1044.95 2087.99,1038.07 2098.18,1028.56 2108.36,1016.26 2118.54,1000.98 2128.73,982.551 2138.91,960.775 2149.09,935.462 2159.28,906.412 2169.46,873.423 2179.64,836.282 2189.83,794.776 2200.01,748.682 2210.19,697.773 2220.38,641.817 2230.56,580.575 2240.74,513.802 2250.92,441.246 2261.11,362.653 2271.29,277.757 2281.47,186.29 2291.66,87.9763 \"/>\n",
       "<path clip-path=\"url(#clip000)\" d=\"M2006.03 1438.47 L2280.8 1438.47 L2280.8 1075.59 L2006.03 1075.59  Z\" fill=\"#ffffff\" fill-rule=\"evenodd\" fill-opacity=\"1\"/>\n",
       "<polyline clip-path=\"url(#clip000)\" style=\"stroke:#000000; stroke-linecap:round; stroke-linejoin:round; stroke-width:4; stroke-opacity:1; fill:none\" points=\"2006.03,1438.47 2280.8,1438.47 2280.8,1075.59 2006.03,1075.59 2006.03,1438.47 \"/>\n",
       "<polyline clip-path=\"url(#clip000)\" style=\"stroke:#009af9; stroke-linecap:round; stroke-linejoin:round; stroke-width:4; stroke-opacity:1; fill:none\" points=\"2030.02,1127.43 2173.94,1127.43 \"/>\n",
       "<path clip-path=\"url(#clip000)\" d=\"M2232.17 1111.12 Q2232.17 1113.74 2230.23 1116.16 Q2228.31 1118.57 2225.17 1120.04 Q2222.05 1121.5 2218.7 1121.5 L2210.55 1121.5 L2207.58 1133.49 Q2207.56 1133.56 2207.49 1133.86 Q2207.42 1134.14 2207.42 1134.31 Q2207.42 1134.89 2208.14 1135.03 Q2208.89 1135.17 2210.55 1135.17 Q2211.63 1135.17 2211.8 1135.36 Q2211.89 1135.48 2211.89 1135.69 Q2211.89 1136.02 2211.8 1136.25 Q2211.7 1136.46 2211.51 1136.53 Q2211.35 1136.6 2211.23 1136.63 Q2211.12 1136.65 2210.93 1136.65 Q2210.44 1136.65 2209.38 1136.6 Q2208.35 1136.56 2207.81 1136.56 L2204.75 1136.51 L2198.66 1136.65 Q2197.93 1136.65 2197.93 1136.06 Q2197.93 1135.62 2198.12 1135.43 Q2198.3 1135.22 2198.51 1135.2 Q2198.73 1135.17 2199.26 1135.17 Q2200.44 1135.17 2201.14 1135.1 Q2201.84 1135.03 2202.29 1134.94 Q2202.75 1134.82 2202.99 1134.5 Q2203.25 1134.17 2203.36 1133.89 Q2203.48 1133.58 2203.64 1132.9 L2210.06 1107.14 Q2210.25 1106.36 2210.25 1106.25 Q2210.25 1105.85 2210.02 1105.71 Q2209.8 1105.55 2209.2 1105.47 Q2208.02 1105.38 2207.13 1105.38 Q2206.55 1105.38 2206.31 1105.36 Q2206.1 1105.33 2205.92 1105.22 Q2205.75 1105.08 2205.75 1104.8 Q2205.75 1104.35 2205.94 1104.16 Q2206.15 1103.95 2206.38 1103.93 Q2206.62 1103.88 2207.18 1103.88 L2222.73 1103.88 Q2227.21 1103.88 2229.69 1106.01 Q2232.17 1108.14 2232.17 1111.12 M2227.72 1109.97 Q2227.72 1105.38 2221.19 1105.38 L2216.6 1105.38 Q2215.07 1105.38 2214.7 1105.66 Q2214.33 1105.92 2214 1107.21 L2210.74 1120.25 L2217.51 1120.25 Q2222.05 1120.25 2224.89 1117.7 Q2226.18 1116.53 2226.95 1114.09 Q2227.72 1111.66 2227.72 1109.97 Z\" fill=\"#000000\" fill-rule=\"nonzero\" fill-opacity=\"1\" /><path clip-path=\"url(#clip000)\" d=\"M2236.96 1139.2 Q2236.96 1134.26 2238.2 1131.58 Q2239.94 1127.58 2244.04 1127.58 Q2244.91 1127.58 2245.81 1127.82 Q2246.73 1128.05 2247.88 1128.95 Q2249.04 1129.85 2249.74 1131.33 Q2251.09 1134.18 2251.09 1139.2 Q2251.09 1144.1 2249.84 1146.77 Q2248.02 1150.68 2244.01 1150.68 Q2242.5 1150.68 2240.96 1149.91 Q2239.43 1149.14 2238.46 1147.28 Q2236.96 1144.51 2236.96 1139.2 M2239.74 1138.79 Q2239.74 1143.86 2240.1 1145.87 Q2240.51 1148.05 2241.63 1149 Q2242.76 1149.94 2244.01 1149.94 Q2245.35 1149.94 2246.47 1148.94 Q2247.6 1147.92 2247.94 1145.74 Q2248.32 1143.59 2248.3 1138.79 Q2248.3 1134.12 2247.97 1132.25 Q2247.53 1130.07 2246.35 1129.2 Q2245.19 1128.31 2244.01 1128.31 Q2243.56 1128.31 2243.09 1128.44 Q2242.63 1128.58 2241.96 1128.95 Q2241.28 1129.33 2240.76 1130.26 Q2240.25 1131.2 2240.01 1132.61 Q2239.74 1134.43 2239.74 1138.79 Z\" fill=\"#000000\" fill-rule=\"nonzero\" fill-opacity=\"1\" /><polyline clip-path=\"url(#clip000)\" style=\"stroke:#e26f46; stroke-linecap:round; stroke-linejoin:round; stroke-width:4; stroke-opacity:1; fill:none\" points=\"2030.02,1179.27 2173.94,1179.27 \"/>\n",
       "<path clip-path=\"url(#clip000)\" d=\"M2232.17 1163.33 Q2232.17 1165.95 2230.23 1168.36 Q2228.31 1170.77 2225.17 1172.25 Q2222.05 1173.7 2218.7 1173.7 L2210.55 1173.7 L2207.58 1185.69 Q2207.56 1185.76 2207.49 1186.07 Q2207.42 1186.35 2207.42 1186.51 Q2207.42 1187.1 2208.14 1187.24 Q2208.89 1187.38 2210.55 1187.38 Q2211.63 1187.38 2211.8 1187.57 Q2211.89 1187.69 2211.89 1187.9 Q2211.89 1188.22 2211.8 1188.46 Q2211.7 1188.67 2211.51 1188.74 Q2211.35 1188.81 2211.23 1188.83 Q2211.12 1188.86 2210.93 1188.86 Q2210.44 1188.86 2209.38 1188.81 Q2208.35 1188.76 2207.81 1188.76 L2204.75 1188.72 L2198.66 1188.86 Q2197.93 1188.86 2197.93 1188.27 Q2197.93 1187.83 2198.12 1187.64 Q2198.3 1187.43 2198.51 1187.4 Q2198.73 1187.38 2199.26 1187.38 Q2200.44 1187.38 2201.14 1187.31 Q2201.84 1187.24 2202.29 1187.15 Q2202.75 1187.03 2202.99 1186.7 Q2203.25 1186.37 2203.36 1186.09 Q2203.48 1185.79 2203.64 1185.11 L2210.06 1159.34 Q2210.25 1158.57 2210.25 1158.45 Q2210.25 1158.06 2210.02 1157.92 Q2209.8 1157.75 2209.2 1157.68 Q2208.02 1157.59 2207.13 1157.59 Q2206.55 1157.59 2206.31 1157.56 Q2206.1 1157.54 2205.92 1157.42 Q2205.75 1157.28 2205.75 1157 Q2205.75 1156.56 2205.94 1156.37 Q2206.15 1156.16 2206.38 1156.14 Q2206.62 1156.09 2207.18 1156.09 L2222.73 1156.09 Q2227.21 1156.09 2229.69 1158.22 Q2232.17 1160.35 2232.17 1163.33 M2227.72 1162.18 Q2227.72 1157.59 2221.19 1157.59 L2216.6 1157.59 Q2215.07 1157.59 2214.7 1157.87 Q2214.33 1158.13 2214 1159.41 L2210.74 1172.46 L2217.51 1172.46 Q2222.05 1172.46 2224.89 1169.91 Q2226.18 1168.74 2226.95 1166.3 Q2227.72 1163.86 2227.72 1162.18 Z\" fill=\"#000000\" fill-rule=\"nonzero\" fill-opacity=\"1\" /><path clip-path=\"url(#clip000)\" d=\"M2236.96 1182.98 L2236.96 1181.93 Q2240.99 1181.93 2243.07 1179.78 Q2243.64 1179.78 2243.74 1179.91 Q2243.84 1180.04 2243.84 1180.65 L2243.84 1199.49 Q2243.84 1200.49 2244.33 1200.8 Q2244.83 1201.11 2246.97 1201.11 L2248.04 1201.11 L2248.04 1202.15 Q2246.86 1202.05 2242.6 1202.05 Q2238.33 1202.05 2237.17 1202.15 L2237.17 1201.11 L2238.23 1201.11 Q2240.35 1201.11 2240.86 1200.82 Q2241.37 1200.51 2241.37 1199.49 L2241.37 1182.09 Q2239.61 1182.98 2236.96 1182.98 Z\" fill=\"#000000\" fill-rule=\"nonzero\" fill-opacity=\"1\" /><polyline clip-path=\"url(#clip000)\" style=\"stroke:#3da44d; stroke-linecap:round; stroke-linejoin:round; stroke-width:4; stroke-opacity:1; fill:none\" points=\"2030.02,1231.11 2173.94,1231.11 \"/>\n",
       "<path clip-path=\"url(#clip000)\" d=\"M2232.17 1215.17 Q2232.17 1217.79 2230.23 1220.2 Q2228.31 1222.61 2225.17 1224.09 Q2222.05 1225.54 2218.7 1225.54 L2210.55 1225.54 L2207.58 1237.53 Q2207.56 1237.6 2207.49 1237.91 Q2207.42 1238.19 2207.42 1238.35 Q2207.42 1238.94 2208.14 1239.08 Q2208.89 1239.22 2210.55 1239.22 Q2211.63 1239.22 2211.8 1239.41 Q2211.89 1239.53 2211.89 1239.74 Q2211.89 1240.06 2211.8 1240.3 Q2211.7 1240.51 2211.51 1240.58 Q2211.35 1240.65 2211.23 1240.67 Q2211.12 1240.7 2210.93 1240.7 Q2210.44 1240.7 2209.38 1240.65 Q2208.35 1240.6 2207.81 1240.6 L2204.75 1240.56 L2198.66 1240.7 Q2197.93 1240.7 2197.93 1240.11 Q2197.93 1239.67 2198.12 1239.48 Q2198.3 1239.27 2198.51 1239.24 Q2198.73 1239.22 2199.26 1239.22 Q2200.44 1239.22 2201.14 1239.15 Q2201.84 1239.08 2202.29 1238.99 Q2202.75 1238.87 2202.99 1238.54 Q2203.25 1238.21 2203.36 1237.93 Q2203.48 1237.63 2203.64 1236.95 L2210.06 1211.18 Q2210.25 1210.41 2210.25 1210.29 Q2210.25 1209.9 2210.02 1209.76 Q2209.8 1209.59 2209.2 1209.52 Q2208.02 1209.43 2207.13 1209.43 Q2206.55 1209.43 2206.31 1209.4 Q2206.1 1209.38 2205.92 1209.26 Q2205.75 1209.12 2205.75 1208.84 Q2205.75 1208.4 2205.94 1208.21 Q2206.15 1208 2206.38 1207.98 Q2206.62 1207.93 2207.18 1207.93 L2222.73 1207.93 Q2227.21 1207.93 2229.69 1210.06 Q2232.17 1212.19 2232.17 1215.17 M2227.72 1214.02 Q2227.72 1209.43 2221.19 1209.43 L2216.6 1209.43 Q2215.07 1209.43 2214.7 1209.71 Q2214.33 1209.97 2214 1211.25 L2210.74 1224.3 L2217.51 1224.3 Q2222.05 1224.3 2224.89 1221.75 Q2226.18 1220.58 2226.95 1218.14 Q2227.72 1215.7 2227.72 1214.02 Z\" fill=\"#000000\" fill-rule=\"nonzero\" fill-opacity=\"1\" /><path clip-path=\"url(#clip000)\" d=\"M2236.96 1253.99 Q2236.96 1253.38 2237 1253.2 Q2237.07 1253.02 2237.33 1252.74 L2243.78 1245.56 Q2247.3 1241.59 2247.3 1238.13 Q2247.3 1235.88 2246.12 1234.28 Q2244.96 1232.67 2242.81 1232.67 Q2241.33 1232.67 2240.09 1233.57 Q2238.84 1234.47 2238.27 1236.08 Q2238.37 1236.05 2238.71 1236.05 Q2239.55 1236.05 2240.01 1236.57 Q2240.48 1237.1 2240.48 1237.8 Q2240.48 1238.7 2239.89 1239.15 Q2239.32 1239.57 2238.74 1239.57 Q2238.51 1239.57 2238.2 1239.52 Q2237.91 1239.48 2237.43 1239.02 Q2236.96 1238.54 2236.96 1237.7 Q2236.96 1235.36 2238.73 1233.49 Q2240.51 1231.62 2243.24 1231.62 Q2246.32 1231.62 2248.33 1233.46 Q2250.37 1235.28 2250.37 1238.13 Q2250.37 1239.13 2250.06 1240.05 Q2249.76 1240.95 2249.35 1241.66 Q2248.96 1242.36 2247.88 1243.49 Q2246.79 1244.62 2245.92 1245.43 Q2245.06 1246.23 2243.1 1247.94 L2239.55 1251.39 L2245.6 1251.39 Q2248.55 1251.39 2248.78 1251.13 Q2249.1 1250.66 2249.51 1248.15 L2250.37 1248.15 L2249.42 1253.99 L2236.96 1253.99 Z\" fill=\"#000000\" fill-rule=\"nonzero\" fill-opacity=\"1\" /><polyline clip-path=\"url(#clip000)\" style=\"stroke:#c271d2; stroke-linecap:round; stroke-linejoin:round; stroke-width:4; stroke-opacity:1; fill:none\" points=\"2030.02,1282.95 2173.94,1282.95 \"/>\n",
       "<path clip-path=\"url(#clip000)\" d=\"M2232.17 1266.64 Q2232.17 1269.26 2230.23 1271.68 Q2228.31 1274.09 2225.17 1275.56 Q2222.05 1277.02 2218.7 1277.02 L2210.55 1277.02 L2207.58 1289.01 Q2207.56 1289.08 2207.49 1289.38 Q2207.42 1289.66 2207.42 1289.83 Q2207.42 1290.41 2208.14 1290.55 Q2208.89 1290.69 2210.55 1290.69 Q2211.63 1290.69 2211.8 1290.88 Q2211.89 1291 2211.89 1291.21 Q2211.89 1291.54 2211.8 1291.77 Q2211.7 1291.98 2211.51 1292.05 Q2211.35 1292.12 2211.23 1292.15 Q2211.12 1292.17 2210.93 1292.17 Q2210.44 1292.17 2209.38 1292.12 Q2208.35 1292.08 2207.81 1292.08 L2204.75 1292.03 L2198.66 1292.17 Q2197.93 1292.17 2197.93 1291.58 Q2197.93 1291.14 2198.12 1290.95 Q2198.3 1290.74 2198.51 1290.72 Q2198.73 1290.69 2199.26 1290.69 Q2200.44 1290.69 2201.14 1290.62 Q2201.84 1290.55 2202.29 1290.46 Q2202.75 1290.34 2202.99 1290.02 Q2203.25 1289.69 2203.36 1289.41 Q2203.48 1289.1 2203.64 1288.42 L2210.06 1262.66 Q2210.25 1261.88 2210.25 1261.77 Q2210.25 1261.37 2210.02 1261.23 Q2209.8 1261.07 2209.2 1260.99 Q2208.02 1260.9 2207.13 1260.9 Q2206.55 1260.9 2206.31 1260.88 Q2206.1 1260.85 2205.92 1260.74 Q2205.75 1260.6 2205.75 1260.32 Q2205.75 1259.87 2205.94 1259.68 Q2206.15 1259.47 2206.38 1259.45 Q2206.62 1259.4 2207.18 1259.4 L2222.73 1259.4 Q2227.21 1259.4 2229.69 1261.53 Q2232.17 1263.66 2232.17 1266.64 M2227.72 1265.49 Q2227.72 1260.9 2221.19 1260.9 L2216.6 1260.9 Q2215.07 1260.9 2214.7 1261.18 Q2214.33 1261.44 2214 1262.73 L2210.74 1275.77 L2217.51 1275.77 Q2222.05 1275.77 2224.89 1273.22 Q2226.18 1272.05 2226.95 1269.61 Q2227.72 1267.18 2227.72 1265.49 Z\" fill=\"#000000\" fill-rule=\"nonzero\" fill-opacity=\"1\" /><path clip-path=\"url(#clip000)\" d=\"M2236.96 1300.93 Q2236.96 1299.93 2237.53 1299.46 Q2238.1 1298.98 2238.84 1298.98 Q2239.61 1298.98 2240.15 1299.49 Q2240.71 1299.98 2240.71 1300.85 Q2240.71 1301.79 2240.05 1302.31 Q2239.41 1302.84 2238.5 1302.7 Q2239.3 1304.05 2240.78 1304.66 Q2242.27 1305.26 2243.64 1305.26 Q2245.09 1305.26 2246.25 1304.02 Q2247.43 1302.77 2247.43 1299.72 Q2247.43 1297.13 2246.42 1295.64 Q2245.42 1294.15 2243.43 1294.15 L2241.96 1294.15 Q2241.45 1294.15 2241.3 1294.1 Q2241.15 1294.05 2241.15 1293.77 Q2241.15 1293.44 2241.66 1293.38 Q2242.17 1293.38 2242.97 1293.28 Q2244.92 1293.21 2245.96 1291.52 Q2246.89 1289.95 2246.89 1287.7 Q2246.89 1285.65 2245.91 1284.8 Q2244.94 1283.93 2243.68 1283.93 Q2242.5 1283.93 2241.2 1284.42 Q2239.91 1284.92 2239.2 1286.01 Q2241.28 1286.01 2241.28 1287.7 Q2241.28 1288.44 2240.81 1288.93 Q2240.35 1289.41 2239.58 1289.41 Q2238.84 1289.41 2238.35 1288.95 Q2237.86 1288.47 2237.86 1287.67 Q2237.86 1285.75 2239.56 1284.42 Q2241.28 1283.1 2243.81 1283.1 Q2246.3 1283.1 2248.14 1284.41 Q2249.99 1285.72 2249.99 1287.74 Q2249.99 1289.72 2248.68 1291.34 Q2247.37 1292.97 2245.28 1293.64 Q2247.84 1294.15 2249.37 1295.88 Q2250.89 1297.61 2250.89 1299.72 Q2250.89 1302.34 2248.83 1304.28 Q2246.76 1306.2 2243.74 1306.2 Q2240.96 1306.2 2238.96 1304.69 Q2236.96 1303.18 2236.96 1300.93 Z\" fill=\"#000000\" fill-rule=\"nonzero\" fill-opacity=\"1\" /><polyline clip-path=\"url(#clip000)\" style=\"stroke:#ac8d18; stroke-linecap:round; stroke-linejoin:round; stroke-width:4; stroke-opacity:1; fill:none\" points=\"2030.02,1334.79 2173.94,1334.79 \"/>\n",
       "<path clip-path=\"url(#clip000)\" d=\"M2232.17 1318.73 Q2232.17 1321.36 2230.23 1323.77 Q2228.31 1326.18 2225.17 1327.66 Q2222.05 1329.11 2218.7 1329.11 L2210.55 1329.11 L2207.58 1341.1 Q2207.56 1341.17 2207.49 1341.48 Q2207.42 1341.76 2207.42 1341.92 Q2207.42 1342.51 2208.14 1342.65 Q2208.89 1342.79 2210.55 1342.79 Q2211.63 1342.79 2211.8 1342.98 Q2211.89 1343.09 2211.89 1343.3 Q2211.89 1343.63 2211.8 1343.87 Q2211.7 1344.08 2211.51 1344.15 Q2211.35 1344.22 2211.23 1344.24 Q2211.12 1344.26 2210.93 1344.26 Q2210.44 1344.26 2209.38 1344.22 Q2208.35 1344.17 2207.81 1344.17 L2204.75 1344.12 L2198.66 1344.26 Q2197.93 1344.26 2197.93 1343.68 Q2197.93 1343.23 2198.12 1343.05 Q2198.3 1342.84 2198.51 1342.81 Q2198.73 1342.79 2199.26 1342.79 Q2200.44 1342.79 2201.14 1342.72 Q2201.84 1342.65 2202.29 1342.56 Q2202.75 1342.44 2202.99 1342.11 Q2203.25 1341.78 2203.36 1341.5 Q2203.48 1341.2 2203.64 1340.52 L2210.06 1314.75 Q2210.25 1313.98 2210.25 1313.86 Q2210.25 1313.46 2210.02 1313.32 Q2209.8 1313.16 2209.2 1313.09 Q2208.02 1313 2207.13 1313 Q2206.55 1313 2206.31 1312.97 Q2206.1 1312.95 2205.92 1312.83 Q2205.75 1312.69 2205.75 1312.41 Q2205.75 1311.97 2205.94 1311.78 Q2206.15 1311.57 2206.38 1311.54 Q2206.62 1311.5 2207.18 1311.5 L2222.73 1311.5 Q2227.21 1311.5 2229.69 1313.63 Q2232.17 1315.76 2232.17 1318.73 M2227.72 1317.59 Q2227.72 1313 2221.19 1313 L2216.6 1313 Q2215.07 1313 2214.7 1313.28 Q2214.33 1313.53 2214 1314.82 L2210.74 1327.87 L2217.51 1327.87 Q2222.05 1327.87 2224.89 1325.32 Q2226.18 1324.15 2226.95 1321.71 Q2227.72 1319.27 2227.72 1317.59 Z\" fill=\"#000000\" fill-rule=\"nonzero\" fill-opacity=\"1\" /><path clip-path=\"url(#clip000)\" d=\"M2236.96 1352.24 L2236.96 1351.2 L2247.27 1335.45 Q2247.53 1335.04 2247.94 1335.05 Q2248.32 1335.05 2248.4 1335.2 Q2248.48 1335.35 2248.48 1335.92 L2248.48 1351.2 L2251.84 1351.2 L2251.84 1352.24 L2248.48 1352.24 L2248.48 1355.15 Q2248.48 1356.12 2248.88 1356.43 Q2249.29 1356.74 2251.02 1356.74 L2251.73 1356.74 L2251.73 1357.78 Q2250.35 1357.68 2247.17 1357.68 Q2244.01 1357.68 2242.63 1357.78 L2242.63 1356.74 L2243.33 1356.74 Q2245.07 1356.74 2245.48 1356.45 Q2245.89 1356.14 2245.89 1355.15 L2245.89 1352.24 L2236.96 1352.24 M2237.91 1351.2 L2246.09 1351.2 L2246.09 1338.68 L2237.91 1351.2 Z\" fill=\"#000000\" fill-rule=\"nonzero\" fill-opacity=\"1\" /><polyline clip-path=\"url(#clip000)\" style=\"stroke:#00a9ad; stroke-linecap:round; stroke-linejoin:round; stroke-width:4; stroke-opacity:1; fill:none\" points=\"2030.02,1386.63 2173.94,1386.63 \"/>\n",
       "<path clip-path=\"url(#clip000)\" d=\"M2232.17 1370.32 Q2232.17 1372.94 2230.23 1375.36 Q2228.31 1377.77 2225.17 1379.24 Q2222.05 1380.7 2218.7 1380.7 L2210.55 1380.7 L2207.58 1392.69 Q2207.56 1392.76 2207.49 1393.06 Q2207.42 1393.34 2207.42 1393.51 Q2207.42 1394.09 2208.14 1394.23 Q2208.89 1394.37 2210.55 1394.37 Q2211.63 1394.37 2211.8 1394.56 Q2211.89 1394.68 2211.89 1394.89 Q2211.89 1395.22 2211.8 1395.45 Q2211.7 1395.66 2211.51 1395.73 Q2211.35 1395.8 2211.23 1395.83 Q2211.12 1395.85 2210.93 1395.85 Q2210.44 1395.85 2209.38 1395.8 Q2208.35 1395.76 2207.81 1395.76 L2204.75 1395.71 L2198.66 1395.85 Q2197.93 1395.85 2197.93 1395.26 Q2197.93 1394.82 2198.12 1394.63 Q2198.3 1394.42 2198.51 1394.4 Q2198.73 1394.37 2199.26 1394.37 Q2200.44 1394.37 2201.14 1394.3 Q2201.84 1394.23 2202.29 1394.14 Q2202.75 1394.02 2202.99 1393.7 Q2203.25 1393.37 2203.36 1393.09 Q2203.48 1392.78 2203.64 1392.1 L2210.06 1366.34 Q2210.25 1365.56 2210.25 1365.45 Q2210.25 1365.05 2210.02 1364.91 Q2209.8 1364.75 2209.2 1364.67 Q2208.02 1364.58 2207.13 1364.58 Q2206.55 1364.58 2206.31 1364.56 Q2206.1 1364.53 2205.92 1364.42 Q2205.75 1364.28 2205.75 1364 Q2205.75 1363.55 2205.94 1363.36 Q2206.15 1363.15 2206.38 1363.13 Q2206.62 1363.08 2207.18 1363.08 L2222.73 1363.08 Q2227.21 1363.08 2229.69 1365.21 Q2232.17 1367.34 2232.17 1370.32 M2227.72 1369.17 Q2227.72 1364.58 2221.19 1364.58 L2216.6 1364.58 Q2215.07 1364.58 2214.7 1364.86 Q2214.33 1365.12 2214 1366.41 L2210.74 1379.45 L2217.51 1379.45 Q2222.05 1379.45 2224.89 1376.9 Q2226.18 1375.73 2226.95 1373.29 Q2227.72 1370.86 2227.72 1369.17 Z\" fill=\"#000000\" fill-rule=\"nonzero\" fill-opacity=\"1\" /><path clip-path=\"url(#clip000)\" d=\"M2236.96 1403.73 Q2236.96 1402.73 2237.5 1402.35 Q2238.04 1401.96 2238.61 1401.96 Q2239.38 1401.96 2239.82 1402.45 Q2240.28 1402.93 2240.28 1403.6 Q2240.28 1404.27 2239.82 1404.76 Q2239.38 1405.24 2238.61 1405.24 Q2238.23 1405.24 2238.04 1405.17 Q2238.48 1406.71 2239.82 1407.83 Q2241.19 1408.94 2242.97 1408.94 Q2245.22 1408.94 2246.56 1406.76 Q2247.37 1405.35 2247.37 1402.15 Q2247.37 1399.33 2246.76 1397.92 Q2245.83 1395.78 2243.91 1395.78 Q2241.19 1395.78 2239.58 1398.12 Q2239.38 1398.42 2239.15 1398.43 Q2238.82 1398.43 2238.74 1398.25 Q2238.68 1398.06 2238.68 1397.55 L2238.68 1387.61 Q2238.68 1386.81 2239.01 1386.81 Q2239.14 1386.81 2239.41 1386.91 Q2241.53 1387.84 2243.87 1387.86 Q2246.28 1387.86 2248.45 1386.87 Q2248.61 1386.78 2248.71 1386.78 Q2249.04 1386.78 2249.06 1387.15 Q2249.06 1387.28 2248.78 1387.68 Q2248.51 1388.05 2247.94 1388.56 Q2247.37 1389.05 2246.63 1389.53 Q2245.89 1390.01 2244.81 1390.33 Q2243.74 1390.64 2242.56 1390.64 Q2241.15 1390.64 2239.71 1390.2 L2239.71 1396.74 Q2241.45 1395.04 2243.97 1395.04 Q2246.66 1395.04 2248.51 1397.2 Q2250.37 1399.37 2250.37 1402.38 Q2250.37 1405.55 2248.17 1407.71 Q2245.99 1409.88 2243.04 1409.88 Q2240.35 1409.88 2238.64 1407.96 Q2236.96 1406.04 2236.96 1403.73 Z\" fill=\"#000000\" fill-rule=\"nonzero\" fill-opacity=\"1\" /></svg>\n"
      ],
      "text/html": [
       "<img src=\"data:image/png;base64,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\" />"
      ]
     },
     "execution_count": 25,
     "metadata": {},
     "output_type": "execute_result"
    }
   ],
   "source": [
    "plot(xx, l0, fmt = :png, label=L\"P_0\")\n",
    "plot!(xx, l1, fmt = :png, label=L\"P_1\")\n",
    "plot!(xx, l2, fmt = :png, label=L\"P_2\")\n",
    "plot!(xx, l3, fmt = :png, label=L\"P_3\")\n",
    "plot!(xx, l4, fmt = :png, label=L\"P_4\")\n",
    "plot!(xx, l5, fmt = :png, label=L\"P_5\")"
   ]
  },
  {
   "cell_type": "markdown",
   "id": "c034dc9e-272c-476c-a120-9655e540acdf",
   "metadata": {},
   "source": [
    "Below we calculate the Chebyshev polynomials. We have also added the iteration method. Go ahead and plot to check."
   ]
  },
  {
   "cell_type": "code",
   "execution_count": 26,
   "id": "5a9f341d-3406-46d7-ab0a-f7b41dae1b76",
   "metadata": {},
   "outputs": [
    {
     "data": {
      "text/plain": [
       "ChebyshevPolynomialIter (generic function with 1 method)"
      ]
     },
     "execution_count": 26,
     "metadata": {},
     "output_type": "execute_result"
    }
   ],
   "source": [
    "# ch 3.1, page 60\n",
    "#Algorithm 21\n",
    "#evaluate Chebyshev Polynomials of Degree k using three term recursion and trigonometric forms\n",
    "function ChebyshevPolynomialTrig(k::Int64, x::Float64)\n",
    "    if k==0\n",
    "        return 1.0\n",
    "\n",
    "    elseif k==1\n",
    "        return x\n",
    "    end\n",
    "\n",
    "    return cos(k*acos(x))\n",
    "    \n",
    "end\n",
    "\n",
    "function ChebyshevPolynomialIter(k::Int64, x::Float64, Ks::Int64)\n",
    "    if k==0\n",
    "        return 1.0\n",
    "\n",
    "    elseif k==1\n",
    "        return x\n",
    "    end\n",
    "    Tk = 0.0\n",
    "    Tkm2 = 1 # T_{k-2}\n",
    "    Tkm1 = x #T_{k-1}\n",
    "    for j in 2:k\n",
    "        Tk = 2.0*x *Tkm1 - Tkm2\n",
    "        Tkm2 = Tkm1\n",
    "        Tkm1 = Tk\n",
    "    end\n",
    "\n",
    "    return Tk\n",
    "    \n",
    "end"
   ]
  },
  {
   "cell_type": "markdown",
   "id": "b8333143-4196-4a1f-9f6f-995e03866a91",
   "metadata": {},
   "source": [
    "## Comparing speed of Polynomials Functions vs SpecialPolynomials"
   ]
  },
  {
   "cell_type": "markdown",
   "id": "349b3556-3eae-49b9-9027-bd2c4ad850f7",
   "metadata": {},
   "source": [
    "As you might have guessed, these polynomials are used in a wide variety of applications. So someone has probably already written something like this in Julia. Yes, the package is `SpecialPolynomials.jl`\n",
    "\n",
    "We can test it agains our own function to see how fast it is. "
   ]
  },
  {
   "cell_type": "markdown",
   "id": "c5de347a-ac21-451c-ad20-3b597a96e49b",
   "metadata": {},
   "source": [
    "We'll use $N_{total} = N+1 = 31$"
   ]
  },
  {
   "cell_type": "code",
   "execution_count": 27,
   "id": "23e69c63-5dff-42c0-867f-5f79daf1d5dc",
   "metadata": {},
   "outputs": [
    {
     "data": {
      "text/plain": [
       "0.1"
      ]
     },
     "execution_count": 27,
     "metadata": {},
     "output_type": "execute_result"
    }
   ],
   "source": [
    "#o1 = ones(Float64, 7);\n",
    "N= 30\n",
    "i = N+1\n",
    "xx = 0.1\n",
    "#Lfunc = (z^2 -1)^N"
   ]
  },
  {
   "cell_type": "code",
   "execution_count": 28,
   "id": "0e614f25-a5a1-4864-b3ff-4a466892a3f7",
   "metadata": {},
   "outputs": [
    {
     "data": {
      "text/plain": [
       "0.14429161321150832"
      ]
     },
     "execution_count": 28,
     "metadata": {},
     "output_type": "execute_result"
    }
   ],
   "source": [
    "#Using SpecialPolynomials package\n",
    "o1 = zeros(Float64, N+1);\n",
    "o1[i] = 1.0\n",
    "Ls = SpecialPolynomials.Legendre(o1)\n",
    "Ls(xx)"
   ]
  },
  {
   "cell_type": "code",
   "execution_count": 29,
   "id": "7b65c685-9cc7-4c52-9601-470349991842",
   "metadata": {},
   "outputs": [
    {
     "data": {
      "text/plain": [
       "0.14429161321150838"
      ]
     },
     "execution_count": 29,
     "metadata": {},
     "output_type": "execute_result"
    }
   ],
   "source": [
    "test1 = LegendrePolynomial(N, xx)"
   ]
  },
  {
   "cell_type": "markdown",
   "id": "fb541282-6e76-4857-b621-d18556638f43",
   "metadata": {},
   "source": [
    "Let's define our Legendre Polynomial function calculator that uses the `SpecialPolynomials.jl`"
   ]
  },
  {
   "cell_type": "code",
   "execution_count": 30,
   "id": "427c9c8e-0a6e-4b36-8dc4-3af9e4c49ebc",
   "metadata": {},
   "outputs": [
    {
     "data": {
      "text/plain": [
       "SPLegendre (generic function with 1 method)"
      ]
     },
     "execution_count": 30,
     "metadata": {},
     "output_type": "execute_result"
    }
   ],
   "source": [
    "function SPLegendre(j::Int64,x::Float64)\n",
    "    oo = ones(Float64, j+1);\n",
    "    Ls = SpecialPolynomials.Legendre(oo)\n",
    "    return Ls(x)\n",
    "    \n",
    "\n",
    "end"
   ]
  },
  {
   "cell_type": "markdown",
   "id": "24d17fcf-eb58-4843-98bb-2086387ab81c",
   "metadata": {},
   "source": [
    "We will now benchmark with the $N_{total} = N+1 = 17$ at point $x = 0.5$"
   ]
  },
  {
   "cell_type": "code",
   "execution_count": 31,
   "id": "406272e0-5444-4a60-b2cf-d8df1a4041ce",
   "metadata": {},
   "outputs": [
    {
     "data": {
      "text/plain": [
       "0.5"
      ]
     },
     "execution_count": 31,
     "metadata": {},
     "output_type": "execute_result"
    }
   ],
   "source": [
    "N = 16\n",
    "xx = 0.5"
   ]
  },
  {
   "cell_type": "code",
   "execution_count": 32,
   "id": "81a886ed-efd1-4626-91d3-ae5218f46838",
   "metadata": {},
   "outputs": [
    {
     "data": {
      "text/plain": [
       "0.801283226814121"
      ]
     },
     "execution_count": 32,
     "metadata": {},
     "output_type": "execute_result"
    }
   ],
   "source": [
    "LegendreSum(N,xx)"
   ]
  },
  {
   "cell_type": "code",
   "execution_count": 33,
   "id": "142c4722-03da-41c3-9f7c-ad0aeeaaa6a9",
   "metadata": {},
   "outputs": [
    {
     "data": {
      "text/plain": [
       "0.801283226814121"
      ]
     },
     "execution_count": 33,
     "metadata": {},
     "output_type": "execute_result"
    }
   ],
   "source": [
    "SPLegendre(N,xx)"
   ]
  },
  {
   "cell_type": "markdown",
   "id": "524f5ba5-e3b7-4cc2-b69c-6374e174c6e0",
   "metadata": {},
   "source": [
    "Looks good. Now let's do a speed test with $N_{total} = 1001$"
   ]
  },
  {
   "cell_type": "code",
   "execution_count": 34,
   "id": "4a6879fb-77ed-4c27-b833-ce69dc0b06f3",
   "metadata": {},
   "outputs": [
    {
     "name": "stdout",
     "output_type": "stream",
     "text": [
      "  3.777 μs (0 allocations: 0 bytes)\n"
     ]
    },
    {
     "data": {
      "text/plain": [
       "0.7616876774637876"
      ]
     },
     "execution_count": 34,
     "metadata": {},
     "output_type": "execute_result"
    }
   ],
   "source": [
    "@btime LegendreSum(1000,0.1)"
   ]
  },
  {
   "cell_type": "code",
   "execution_count": 35,
   "id": "dde1573d-e87d-4f52-a85f-a1e72a7715fe",
   "metadata": {},
   "outputs": [
    {
     "name": "stdout",
     "output_type": "stream",
     "text": [
      "  11.835 μs (2 allocations: 16.00 KiB)\n"
     ]
    },
    {
     "data": {
      "text/plain": [
       "0.7616876774637886"
      ]
     },
     "execution_count": 35,
     "metadata": {},
     "output_type": "execute_result"
    }
   ],
   "source": [
    "@btime SPLegendre(1000,0.1)"
   ]
  },
  {
   "cell_type": "markdown",
   "id": "55e51710-c92f-4da2-9b4f-4adbe5009d6e",
   "metadata": {},
   "source": [
    "Our own function `LegendreSum()` is faster. Probably because of all the overhead that comes with packages. "
   ]
  },
  {
   "cell_type": "markdown",
   "id": "20b1de13-132c-4383-92a8-e5bb830dc9cd",
   "metadata": {},
   "source": [
    "## 3.2 How to Compute the Gauss Quadrature Nodes and Weights\n",
    "---"
   ]
  },
  {
   "cell_type": "markdown",
   "id": "e19c15d7-4407-48a8-a47c-48a8fefb4efa",
   "metadata": {},
   "source": [
    "Below we present the calculation of the Legendre Polynomial of degree k and its derivative so that the Gauss nodes and weights can be calcualted"
   ]
  },
  {
   "cell_type": "code",
   "execution_count": 36,
   "id": "50868dc5-3813-4062-a767-ca3bde728205",
   "metadata": {},
   "outputs": [
    {
     "data": {
      "text/plain": [
       "LegendrePolynomialandDerivative (generic function with 1 method)"
      ]
     },
     "execution_count": 36,
     "metadata": {},
     "output_type": "execute_result"
    }
   ],
   "source": [
    "#Ch 3.2.1 pg 63\n",
    "#Algorithm 22\n",
    "#The Legendre Polynomial of degree k and its Derivative using Three Term Recursion\n",
    "function LegendrePolynomialandDerivative(N::Int64, x::Float64)\n",
    "    Ln =0.0\n",
    "    Lnm1 = 0.0\n",
    "    Lnm2 = 0.0\n",
    "    dLn =0.0\n",
    "    dLnm1 = 0.0\n",
    "    dLnm2 = 0.0\n",
    "    if N==0\n",
    "        Ln = 1\n",
    "        dLn = 0\n",
    "    elseif N==1\n",
    "        Ln = x\n",
    "        dLn = 1\n",
    "    else\n",
    "        Lnm2 = 1\n",
    "        Lnm1 = x\n",
    "        dLnm2 = 0\n",
    "        dLnm1 = 1\n",
    "\n",
    "        for j in 2:N\n",
    "            Ln = (2.0*j - 1)/j *x *Lnm1 - (j-1)/j * Lnm2\n",
    "            dLn = dLnm2 + (2.0*j-1.0)*Lnm1\n",
    "            Lnm2 = Lnm1\n",
    "            Lnm1 = Ln\n",
    "            dLnm2 = dLnm1\n",
    "            dLnm1 = dLn\n",
    "            #Lnsum = Lksum + Lk\n",
    "\n",
    "        end\n",
    "        \n",
    "    end\n",
    "\n",
    "    return Ln, dLn\n",
    "\n",
    "end"
   ]
  },
  {
   "cell_type": "code",
   "execution_count": 37,
   "id": "5045ea92-8b57-49df-af95-8dcdfdb13bd4",
   "metadata": {},
   "outputs": [
    {
     "data": {
      "text/plain": [
       "LegendreGaussNodesAndWeights (generic function with 1 method)"
      ]
     },
     "execution_count": 37,
     "metadata": {},
     "output_type": "execute_result"
    }
   ],
   "source": [
    "#Ch 3.2.1 pg 64\n",
    "#algorithm 23\n",
    "function LegendreGaussNodesAndWeights(N::Int64, nit::Int64, TOL::Float64)\n",
    "\n",
    "    x = zeros(Float64,N+1)\n",
    "    w = zeros(Float64,N+1)\n",
    "\n",
    "    if N==0\n",
    "        x[1] = 0.0\n",
    "        w[1] = 2.0\n",
    "    elseif N ==1\n",
    "        x[1] = -1.0*sqrt(1/3)\n",
    "        w[1] = 1.0\n",
    "        x[2] = -x0\n",
    "        w[2] = w0\n",
    "    else\n",
    "        for j in 0:(floor(Int64,((N+1)/2))-1)\n",
    "            x[j+1] = - cos((2*j+1)/(2*N+2)*pi)\n",
    "            for k in 0:nit\n",
    "                Lnp1, dLnp1 = LegendrePolynomialandDerivative(N+1, x[j+1])\n",
    "                delta = -Lnp1/dLnp1\n",
    "                x[j+1] = x[j+1] + delta\n",
    "                if abs(delta) < TOL*abs(x[j+1])\n",
    "                    break\n",
    "                end\n",
    "            end\n",
    "            Lnp1, dLnp1 = LegendrePolynomialandDerivative(N+1, x[j+1])\n",
    "            x[end-j] =-x[j+1]\n",
    "            w[j+1] = 2.0/(1.0 - x[j+1]^2) / dLnp1^2\n",
    "            w[end-j] = w[j+1]\n",
    "\n",
    "        end\n",
    "        \n",
    "    end\n",
    "    if mod(N,2) == 0\n",
    "        Lnp1, dLnp1 = LegendrePolynomialandDerivative(N+1, 0.0)\n",
    "        x[ceil(Int64,N/2)+1] = 0.0\n",
    "        w[ceil(Int64,N/2)+1] = 2.0 / dLnp1^2\n",
    "        \n",
    "    end\n",
    "\n",
    "    return x, w\n",
    "\n",
    "\n",
    "end"
   ]
  },
  {
   "cell_type": "markdown",
   "id": "46d75614-b318-40d9-9f25-5e9448353a90",
   "metadata": {},
   "source": [
    "Now let's test this algorithm. We will test it against the `FastQuadrature.jl` package"
   ]
  },
  {
   "cell_type": "code",
   "execution_count": 38,
   "id": "0a59293f-79ab-44a6-b47f-ad6be2880b7d",
   "metadata": {},
   "outputs": [
    {
     "data": {
      "text/plain": [
       "([-0.9997193395298375, -0.9985215119897575, -0.9963677327909441, -0.9932595861878675, -0.9891999908750336, -0.9841928216302206, -0.9782428702864434, -0.9713558345581712, -0.9635383108331345, -0.9547977872711914  …  0.9547977872711914, 0.9635383108331345, 0.9713558345581712, 0.9782428702864434, 0.9841928216302206, 0.9891999908750336, 0.9932595861878675, 0.9963677327909441, 0.9985215119897575, 0.9997193395298375], [0.0007202317062293601, 0.0016758927604990648, 0.002631364873182426, 0.0035844393988022764, 0.004534105010092991, 0.005479434683782079, 0.006419518270177569, 0.007353453674791237, 0.0082803456257234, 0.009199305940921405  …  0.009199305940921405, 0.0082803456257234, 0.007353453674791237, 0.006419518270177569, 0.005479434683782079, 0.004534105010092991, 0.0035844393988022764, 0.002631364873182426, 0.0016758927604990648, 0.0007202317062293601])"
      ]
     },
     "execution_count": 38,
     "metadata": {},
     "output_type": "execute_result"
    }
   ],
   "source": [
    "xx, ww = LegendreGaussNodesAndWeights(100, 5, 1e-8)"
   ]
  },
  {
   "cell_type": "code",
   "execution_count": 39,
   "id": "5a200bd3-cdcf-41f3-8a3d-0bd8dcd27ada",
   "metadata": {},
   "outputs": [
    {
     "data": {
      "text/plain": [
       "([-0.9997193395297703, -0.9985215119897575, -0.9963677327909441, -0.9932595861878675, -0.9891999908750336, -0.9841928216302206, -0.9782428702864434, -0.9713558345581712, -0.9635383108331345, -0.9547977872711914  …  0.9547977872711914, 0.9635383108331345, 0.9713558345581712, 0.9782428702864434, 0.9841928216302206, 0.9891999908750336, 0.9932595861878675, 0.9963677327909441, 0.9985215119897575, 0.9997193395297703], [0.0007202317064018636, 0.0016758927604990288, 0.0026313648731823435, 0.003584439398802249, 0.004534105010093023, 0.005479434683782081, 0.006419518270177546, 0.007353453674791277, 0.008280345625723362, 0.009199305940921432  …  0.009199305940921432, 0.008280345625723362, 0.007353453674791277, 0.006419518270177546, 0.005479434683782081, 0.004534105010093023, 0.003584439398802249, 0.0026313648731823435, 0.0016758927604990288, 0.0007202317064018636])"
      ]
     },
     "execution_count": 39,
     "metadata": {},
     "output_type": "execute_result"
    }
   ],
   "source": [
    "## FastGaussQuadrature library\n",
    "xxx, www = gausslegendre(101)"
   ]
  },
  {
   "cell_type": "markdown",
   "id": "63cf09a6-d938-4714-8370-8ced451a3cb2",
   "metadata": {},
   "source": [
    "Let's benchmark the time"
   ]
  },
  {
   "cell_type": "code",
   "execution_count": 40,
   "id": "58b05955-b894-4095-a99e-c7c21b63c776",
   "metadata": {},
   "outputs": [
    {
     "name": "stdout",
     "output_type": "stream",
     "text": [
      "  73.251 μs (2 allocations: 1.75 KiB)\n"
     ]
    }
   ],
   "source": [
    "@btime LegendreGaussNodesAndWeights(100, 100, 1e-8);"
   ]
  },
  {
   "cell_type": "code",
   "execution_count": 41,
   "id": "1aef73a9-4db7-4a67-8de3-e030277cfef9",
   "metadata": {},
   "outputs": [
    {
     "name": "stdout",
     "output_type": "stream",
     "text": [
      "  3.841 μs (6 allocations: 4.84 KiB)\n"
     ]
    }
   ],
   "source": [
    "@btime gausslegendre(101);"
   ]
  },
  {
   "cell_type": "markdown",
   "id": "5a3c9c35-0939-48b0-897b-34110d618802",
   "metadata": {},
   "source": [
    "Clearly the `FastQuadrature.jl` is much faster"
   ]
  },
  {
   "cell_type": "markdown",
   "id": "9d549710-4189-4b46-98eb-09e090d359e8",
   "metadata": {},
   "source": [
    "### 3.2.2 Legendre Gauss-Lobatto Quadrature"
   ]
  },
  {
   "cell_type": "markdown",
   "id": "62e12b0d-842a-49bc-9435-0770e7442df5",
   "metadata": {},
   "source": [
    "For the Guass-Lobatto Legendre points, we want to find the zeros of $L_{n}'$"
   ]
  },
  {
   "cell_type": "markdown",
   "id": "61a06e56-47e3-4e76-86a0-26309a71566c",
   "metadata": {},
   "source": [
    "Unfortunately the book is mistaken on this one. \n",
    "\n",
    "$q$ and $q'$ from equation **3.4** should be:\n",
    "\n",
    "\\begin{align}\n",
    "    q &= L_n'(x) \\\\\n",
    "    q' &= L_n''(x)\n",
    "\\tag{3.4a}\n",
    "\\end{align}"
   ]
  },
  {
   "cell_type": "markdown",
   "id": "78f3d822-6aaa-4564-9030-3dfe03f80817",
   "metadata": {},
   "source": [
    "From wikipedia: https://en.wikipedia.org/wiki/Legendre_polynomials#Rodrigues'_formula_and_other_explicit_formulas\n",
    "\n",
    "We have that the second derivative:\n",
    "\n",
    "\\begin{align}\n",
    "    L_n''(x) = \\frac{1}{1-x^2} \\left[ 2x\\: L_n'(x) - n(n+1) L_n(x) \\right]\n",
    "\\end{align}\n",
    "\n",
    "Thus we only need to change the last part of the algorithm"
   ]
  },
  {
   "cell_type": "code",
   "execution_count": 42,
   "id": "09c52259-a485-406b-a091-82cee44b299c",
   "metadata": {},
   "outputs": [
    {
     "data": {
      "text/plain": [
       "qAndLEvaluation (generic function with 1 method)"
      ]
     },
     "execution_count": 42,
     "metadata": {},
     "output_type": "execute_result"
    }
   ],
   "source": [
    "# Ch 3.2.2 pg 65\n",
    "#algorithm 24\n",
    "#Combined algorithm to compute Ln(x), q(x) = L_{N+1}(x) - L_{N-1}, and q'(x)\n",
    "function qAndLEvaluation(N::Int64, x::Float64)\n",
    "\n",
    "    k=2\n",
    "    Lnm2 = 1.0\n",
    "    Lnm1 = x\n",
    "    Ln =0.0\n",
    "    dLn = 0.0\n",
    "    dLnm2 = 0.0\n",
    "    dLnm1 = 1.0\n",
    "\n",
    "\n",
    "    for j in 2:N\n",
    "        Ln = (2.0*j - 1)/j *x *Lnm1 - (j-1)/j * Lnm2\n",
    "        dLn = dLnm2 + (2.0*j-1.0)*Lnm1\n",
    "        Lnm2 = Lnm1\n",
    "        Lnm1 = Ln\n",
    "        dLnm2 = dLnm1\n",
    "        dLnm1 = dLn\n",
    "        #Lnsum = Lksum + Lk\n",
    "\n",
    "    end\n",
    "\n",
    "    q = dLn\n",
    "    #second derivative from https://en.wikipedia.org/wiki/Legendre_polynomials#Rodrigues'_formula_and_other_explicit_formulas\n",
    "    dq = (2*x*dLn - N*(N+1)*Ln)/(1-x^2) #ddLn\n",
    "    \n",
    "    # k = N+1\n",
    "    # Lnp1 = (2*k-1)/k * x * Ln - (k-1)/k * Lnm1\n",
    "    # dLnp1 = dLnm1 + (2*k-1)*Ln\n",
    "\n",
    "    # q = Lnp1 - Lnm1\n",
    "    # dq = dLnp1 - dLnm1\n",
    "    \n",
    "        \n",
    "    \n",
    "\n",
    "    return q, dq, Ln\n",
    "\n",
    "\n",
    "\n",
    "end"
   ]
  },
  {
   "cell_type": "code",
   "execution_count": 43,
   "id": "df02b650-ab26-4bd8-9833-658a958834cc",
   "metadata": {},
   "outputs": [
    {
     "data": {
      "text/plain": [
       "LegendreGaussLobattoNodesAndWeights (generic function with 1 method)"
      ]
     },
     "execution_count": 43,
     "metadata": {},
     "output_type": "execute_result"
    }
   ],
   "source": [
    "# Ch 3.2.2 pg 66\n",
    "#algorithm 25\n",
    "#calculates the gauss lobatto nodes and weights\n",
    "function LegendreGaussLobattoNodesAndWeights(N::Int64, nit::Int64, TOL::Float64)\n",
    "\n",
    "    x = zeros(Float64,N+1)\n",
    "    w = zeros(Float64,N+1)\n",
    "    xold = 0.0\n",
    "\n",
    "    if N ==1\n",
    "        x[1] = -1.0\n",
    "        w[1] = 1.0\n",
    "        x[2] = 1.0\n",
    "        w[2] = w[1]\n",
    "    else\n",
    "        x[1] = -1.0\n",
    "        w[1] = 2.0/(N*(N+1))\n",
    "        x[end] = 1.0\n",
    "        w[end] = w[1]\n",
    "        #xold = 0.0\n",
    "        \n",
    "        for j in 1:(floor(Int64,((N+1)/2))-1)\n",
    "            x[j+1] = - cos((j+0.25)/N*pi - 3.0/(8.0*N*pi) /(j + 0.25))\n",
    "            #println(j)\n",
    "            #x[j+1] = -cos(pi*j/N)\n",
    "            for k in 0:nit\n",
    "                q, dq, Ln = qAndLEvaluation(N, x[j+1])\n",
    "                delta = -q/dq\n",
    "                xold = x[j+1]\n",
    "                x[j+1] = x[j+1] + delta\n",
    "                if abs(x[j+1] - xold) < TOL #abs(delta) < TOL*abs(x[j])\n",
    "                    break\n",
    "                end\n",
    "                if k==nit-1\n",
    "                    println(\"Reached Iterator Max\")\n",
    "                end\n",
    "            end\n",
    "            q, dq, Ln = qAndLEvaluation(N, x[j+1])\n",
    "            x[end-j] =-x[j+1]\n",
    "            w[j+1] = 2.0/(N*(N+1)) / Ln^2\n",
    "            w[end-j] = w[j+1]\n",
    "\n",
    "        end\n",
    "        \n",
    "    end\n",
    "    if mod(N,2) == 0\n",
    "        q, dq, Ln = qAndLEvaluation(N, 0.0)\n",
    "        x[ceil(Int64,N/2)+1] = 0.0\n",
    "        w[ceil(Int64,N/2)+1] = 2.0/(N*(N+1)) / Ln^2\n",
    "        \n",
    "    end\n",
    "\n",
    "    return x, w\n",
    "\n",
    "\n",
    "\n",
    "end"
   ]
  },
  {
   "cell_type": "markdown",
   "id": "2618b0b9-d69b-4882-881c-4b8f59eef310",
   "metadata": {},
   "source": [
    "We can double check that our Legendre-Gauss-Lobatto points are indeed the zeros of $L_n'(x)$"
   ]
  },
  {
   "cell_type": "code",
   "execution_count": 44,
   "id": "e4e95dbb-f31b-4691-848d-b9ec8c975828",
   "metadata": {},
   "outputs": [
    {
     "data": {
      "text/plain": [
       "([-1.0, -0.934001430408059, -0.7844834736631444, -0.565235326996205, -0.29575813558693936, 0.0, 0.29575813558693936, 0.565235326996205, 0.7844834736631444, 0.934001430408059, 1.0], [0.01818181818181818, 0.10961227326699492, 0.18716988178030533, 0.2480481042640283, 0.2868791247790081, 0.30021759545569066, 0.2868791247790081, 0.2480481042640283, 0.18716988178030533, 0.10961227326699492, 0.01818181818181818])"
      ]
     },
     "execution_count": 44,
     "metadata": {},
     "output_type": "execute_result"
    }
   ],
   "source": [
    "xl, wl = LegendreGaussLobattoNodesAndWeights(10,10000000,1e-12)"
   ]
  },
  {
   "cell_type": "markdown",
   "id": "cb76ffd7-29bb-47f8-9291-4f2e719c2e59",
   "metadata": {},
   "source": [
    "Using our previous function:"
   ]
  },
  {
   "cell_type": "code",
   "execution_count": 45,
   "id": "2a6d7b4e-8534-4e20-90f2-07a18d539163",
   "metadata": {},
   "outputs": [
    {
     "data": {
      "text/plain": [
       "(0.31167406997533376, 3.552713678800501e-15)"
      ]
     },
     "execution_count": 45,
     "metadata": {},
     "output_type": "execute_result"
    }
   ],
   "source": [
    "LegendrePolynomialandDerivative(10, xl[9])"
   ]
  },
  {
   "cell_type": "markdown",
   "id": "1f527e1b-00b2-4d76-a036-1e56cce2f7a3",
   "metadata": {},
   "source": [
    "The $3.0e-15$ is close enough to zero"
   ]
  },
  {
   "cell_type": "code",
   "execution_count": 46,
   "id": "1509fdd4-6d4a-4854-9577-11a87aeeb2ab",
   "metadata": {},
   "outputs": [
    {
     "data": {
      "text/plain": [
       "(3.552713678800501e-15, -89.14566901569283, 0.31167406997533376)"
      ]
     },
     "execution_count": 46,
     "metadata": {},
     "output_type": "execute_result"
    }
   ],
   "source": [
    "qAndLEvaluation(10, xl[9])"
   ]
  },
  {
   "cell_type": "markdown",
   "id": "91cb5207-dcb0-444b-b85b-d663a46db3cf",
   "metadata": {},
   "source": [
    "Let's the the Chebyshev version"
   ]
  },
  {
   "cell_type": "code",
   "execution_count": 47,
   "id": "49600546-88cf-4018-ab22-c32a0c6e5c6a",
   "metadata": {},
   "outputs": [
    {
     "data": {
      "text/plain": [
       "ChebyshevGaussNodesAndWeights (generic function with 1 method)"
      ]
     },
     "execution_count": 47,
     "metadata": {},
     "output_type": "execute_result"
    }
   ],
   "source": [
    "# Ch 3.2.3 pg 67\n",
    "#algorithm 26\n",
    "#Calculates Chebyshev Guass Nodes and Weights\n",
    "function ChebyshevGaussNodesAndWeights(N::Int64)\n",
    "    x = zeros(Float64,N+1)\n",
    "    w = zeros(Float64,N+1)\n",
    "\n",
    "    for j in 0:N\n",
    "        x[j+1] = -cos((2*j+1)*pi/(2*N+2))\n",
    "        w[j+1] = pi/(N+1)\n",
    "\n",
    "    end\n",
    "\n",
    "    return x, w\n",
    "\n",
    "end"
   ]
  },
  {
   "cell_type": "code",
   "execution_count": 48,
   "id": "5c223f41-8507-45d0-9470-6c2e1d0e1e42",
   "metadata": {},
   "outputs": [
    {
     "data": {
      "text/plain": [
       "ChebyshevGaussLobattoNodesAndWeights (generic function with 1 method)"
      ]
     },
     "execution_count": 48,
     "metadata": {},
     "output_type": "execute_result"
    }
   ],
   "source": [
    "# Ch 3.2.3 pg 68\n",
    "#algorithm 27\n",
    "#Calculates Chebyshev Guass Nodes and Weights\n",
    "function  ChebyshevGaussLobattoNodesAndWeights(N::Int64)\n",
    "\n",
    "    x = zeros(Float64,N+1)\n",
    "    w = zeros(Float64,N+1)\n",
    "\n",
    "    for j in 0:N\n",
    "        x[j+1] = -cos(pi*j/N)\n",
    "        w[j+1] = pi/(N)\n",
    "\n",
    "    end\n",
    "    w[1] = w[1]/2.0\n",
    "    w[end] = w[end]/2.0\n",
    "    \n",
    "    return x, w\n",
    "\n",
    "end"
   ]
  },
  {
   "cell_type": "markdown",
   "id": "14b83826-1c7a-4133-9ad8-70d0e35d471d",
   "metadata": {},
   "source": [
    "Let's check our Chebyshev functions with those from the `FastTransforms.jl` package"
   ]
  },
  {
   "cell_type": "code",
   "execution_count": 49,
   "id": "b453f23c-0d53-4572-8137-196d1abcd7c1",
   "metadata": {},
   "outputs": [
    {
     "data": {
      "text/plain": [
       "([-0.9749279121818236, -0.7818314824680298, -0.4338837391175582, -6.123233995736766e-17, 0.43388373911755806, 0.7818314824680295, 0.9749279121818237], [0.4487989505128276, 0.4487989505128276, 0.4487989505128276, 0.4487989505128276, 0.4487989505128276, 0.4487989505128276, 0.4487989505128276])"
      ]
     },
     "execution_count": 49,
     "metadata": {},
     "output_type": "execute_result"
    }
   ],
   "source": [
    "ChebyshevGaussNodesAndWeights(6)"
   ]
  },
  {
   "cell_type": "code",
   "execution_count": 50,
   "id": "40b8a494-6403-42f5-b940-4363dd10d5e0",
   "metadata": {},
   "outputs": [
    {
     "data": {
      "text/plain": [
       "7-element FastTransforms.ChebyshevGrid{1, Float64}:\n",
       "  0.9749279121818236\n",
       "  0.7818314824680298\n",
       "  0.4338837391175581\n",
       "  0.0\n",
       " -0.4338837391175581\n",
       " -0.7818314824680298\n",
       " -0.9749279121818236"
      ]
     },
     "execution_count": 50,
     "metadata": {},
     "output_type": "execute_result"
    }
   ],
   "source": [
    "chebyshevpoints(Float64, 7, Val(1))"
   ]
  },
  {
   "cell_type": "markdown",
   "id": "c4ce92a3-7d88-46f2-be5c-6bc3742dfc72",
   "metadata": {},
   "source": [
    "Looking pretty good"
   ]
  },
  {
   "cell_type": "markdown",
   "id": "59992ecc-b576-48d8-b346-634e213c06fe",
   "metadata": {},
   "source": [
    "Let's Benchmark Speed"
   ]
  },
  {
   "cell_type": "code",
   "execution_count": 52,
   "id": "10530b5c-eeda-48a1-ad28-61a13f1176af",
   "metadata": {},
   "outputs": [
    {
     "name": "stdout",
     "output_type": "stream",
     "text": [
      "  1.616 μs (2 allocations: 1.75 KiB)\n"
     ]
    }
   ],
   "source": [
    "@btime ChebyshevGaussNodesAndWeights(100);"
   ]
  },
  {
   "cell_type": "code",
   "execution_count": 53,
   "id": "964b521f-b9ed-4c5a-b1a8-170f9793a6f9",
   "metadata": {},
   "outputs": [
    {
     "name": "stdout",
     "output_type": "stream",
     "text": [
      "  1.589 ns (0 allocations: 0 bytes)\n"
     ]
    }
   ],
   "source": [
    "@btime chebyshevpoints(Float64, 101, Val(1));"
   ]
  },
  {
   "cell_type": "code",
   "execution_count": 54,
   "id": "200341da-257c-4e2f-8120-588484381f64",
   "metadata": {},
   "outputs": [
    {
     "name": "stdout",
     "output_type": "stream",
     "text": [
      "  1.637 μs (2 allocations: 1.75 KiB)\n"
     ]
    }
   ],
   "source": [
    "@btime ChebyshevGaussLobattoNodesAndWeights(100);"
   ]
  },
  {
   "cell_type": "code",
   "execution_count": 55,
   "id": "7effd5b8-6492-449b-9126-f7076cab931d",
   "metadata": {},
   "outputs": [
    {
     "name": "stdout",
     "output_type": "stream",
     "text": [
      "  1.590 ns (0 allocations: 0 bytes)\n"
     ]
    }
   ],
   "source": [
    "@btime chebyshevpoints(Float64, 101, Val(2));"
   ]
  },
  {
   "cell_type": "markdown",
   "id": "23723815-1a38-4923-9d34-8d76e274d610",
   "metadata": {},
   "source": [
    "Overall, they are very similar in speed"
   ]
  },
  {
   "cell_type": "markdown",
   "id": "cc049a6b-c7c2-47da-b260-ef19360d5753",
   "metadata": {},
   "source": [
    "## 3.3 How to Evaluate Chebyshev Interpolants via the FFT\n",
    "---"
   ]
  },
  {
   "cell_type": "markdown",
   "id": "cd639c2d-642b-4fcc-812e-9f78d366cb84",
   "metadata": {},
   "source": [
    "## Chebyshev Tranfrom"
   ]
  },
  {
   "cell_type": "markdown",
   "id": "7087ddec-7978-4c6f-826f-122d715df52a",
   "metadata": {},
   "source": [
    "The Chebyshev Transform are defined below with the formulas for the Chebyshev transform coefficients ($\\tilde{f}_k$) and the inverse back to position space $f_j$ as: \n",
    "\n",
    "\n",
    "\\begin{align}\n",
    "\\tilde{f}_k &= \\frac{2}{N\\:\\bar{c}_k} \\sum^{N}_{j=0} \\frac{f_j}{\\bar{c}_j} cos\\left( \\frac{j\\cdot k \\cdot \\pi}{N} \\right) \\\\\n",
    "f_j &= \\sum^{N}_{k=0} \\tilde{f}_k cos\\left( \\frac{j\\cdot k \\cdot \\pi}{N} \\right)\n",
    "\\tag{3.11}\n",
    "\\end{align}\n",
    "ion} lign}\n",
    "\n",
    "\n"
   ]
  },
  {
   "cell_type": "markdown",
   "id": "e561630a-72dc-4e56-b449-5c130563c223",
   "metadata": {},
   "source": [
    "\\begin{align}\n",
    "    \\bar{c}_j = \\left \\{\n",
    "    \\begin{aligned}\n",
    "        &2, && j=0,N \\\\\n",
    "        &1, && j=1,...N-1\n",
    "    \\end{aligned} \\right.\n",
    "\\tag{3.12}\n",
    "\\end{align}"
   ]
  },
  {
   "cell_type": "markdown",
   "id": "e6cc0df3-9251-42d3-80e3-e33359feeeea",
   "metadata": {},
   "source": [
    "We can use the discrete cosine transform (DCT) from the FFTW package:\n",
    "<br>\n",
    "http://www.fftw.org/doc/1d-Real_002deven-DFTs-_0028DCTs_0029.html\n",
    "\n",
    "We see that the closest DCT is the type REDFT00 (DCT-I or DCT type 1). The transform from spatial domain to spectral domain is given by the following equation for a vector of size '$n$' :"
   ]
  },
  {
   "cell_type": "markdown",
   "id": "3c955b84-d669-4adb-843c-f98ba3360aaa",
   "metadata": {},
   "source": [
    "\\begin{align}\n",
    "    F_k = f_0 + \\left(-1 \\right)^k f_{n-1} + 2 \\sum_{j=1}^{n-2} f_j cos\\left(\\frac{j\\cdot k \\cdot \\pi}{n-1} \\right)\n",
    "\\tag{REDFT00 \\:\\:DCT-I}\n",
    "\\end{align}"
   ]
  },
  {
   "cell_type": "markdown",
   "id": "55a3b8b3-2935-4129-8ba1-e625f16edf31",
   "metadata": {},
   "source": [
    "We first note that our indexing number '$j$' spans:\n",
    "\n",
    "\\begin{align}\n",
    "    j = 0,1,...,N\n",
    "\\end{align}\n",
    "\n",
    "Thus, our vector we've been using has a size of: $N+1$\n",
    "\n",
    "So our '$N$' is related to the FFTW '$n$' as follows: \n",
    "\n",
    "\\begin{align}\n",
    "    n = N+1\n",
    "\\end{align}\n",
    "\n",
    "or\n",
    "\n",
    "\\begin{align}\n",
    "    N = n-1\n",
    "\\end{align}\n",
    "\n",
    "Using this relation, we replace the '$n-1$' in the FFTW DCT-I formula:"
   ]
  },
  {
   "cell_type": "markdown",
   "id": "6f550837-e203-46c8-8028-51d8a6d12fb2",
   "metadata": {},
   "source": [
    "\\begin{align}\n",
    "    F_k = f_0 + \\left(-1 \\right)^k f_{N} + 2 \\sum_{j=1}^{N-1} f_j cos\\left(\\frac{j\\cdot k \\cdot \\pi}{N} \\right)\n",
    "\\tag{REDFT00 \\:\\:DCT-I}\n",
    "\\end{align}\n",
    "\n",
    "Which looks closer to Equation (3.11)."
   ]
  },
  {
   "cell_type": "markdown",
   "id": "215ff3ac-aa3f-4003-b1fa-49882c9d8f10",
   "metadata": {},
   "source": [
    "We follow by expanding out the $0^{th}$ and $N^{th}$ terms in Equation (3.11)\n",
    "\n",
    "\\begin{align}\n",
    "    \\tilde{f}_k = \\frac{2}{\\bar{c}_k\\cdot N}\\left[ \\frac{f_0}{2} + (-1)^k \\frac{f_N}{2} + \\sum_{j=1}^{N-1} f_j cos \\left( \\frac{j\\cdot k \\cdot \\pi}{N}\\right)  \\right]\n",
    "\\end{align}\n",
    "\n",
    "We can further our expansion by taking into consideration the $k = 0$, $k = N$ and $k = 1,..,N-1$ terms separately:\n",
    "\n",
    "\\begin{align}\n",
    "    \\tilde{f}_{k=0} &= \\frac{1}{ N}\\left[ \\frac{f_0}{2} + \\frac{f_N}{2} + \\sum_{j=1}^{N-1} f_j   \\right] \\\\\n",
    "    \\tilde{f}_{k=N} &= \\frac{1}{ N}\\left[ \\frac{f_0}{2} + (-1)^N\\frac{f_N}{2} + \\sum_{j=1}^{N-1} f_j cos \\left( j\\cdot  \\pi\\right)  \\right] \\\\\n",
    "    \\tilde{f}_{k \\neq 0,N} &= \\frac{1}{ N}\\left[ f_0 + (-1)^k f_N + 2 \\sum_{j=1}^{N-1} f_j cos \\left( \\frac{j\\cdot k \\cdot \\pi}{N}\\right)  \\right]\n",
    "\\end{align}"
   ]
  },
  {
   "cell_type": "markdown",
   "id": "be4773a0-41d9-4511-a5b3-de5f43e6319c",
   "metadata": {},
   "source": [
    "The last relation for $k \\neq 0,N$ is exactly the FFTW DCT-I (REDFT00). The coefficients for $k = 0,N$ are also of type DCT-I but they are divided by $2$.\n",
    "\n",
    "Therefore, the Chebyshev transform (of the first kind) with Guass-Lobatto points (of the second kind) is simply the FFTW DCT-I (REDFT00) with the resulting spectrum coefficients at $k=0,N$ divided by $2$ \n",
    "\n",
    "And the inverse is also a FFTW DCT-I (REDFT00) but rather we need to divide the spectral coefficients of $k=1,..,N-1$ by $2$ prior to the inverse transform. "
   ]
  },
  {
   "cell_type": "markdown",
   "id": "2f5bc0b9-249e-4a65-a63a-7e59eb0d3bb2",
   "metadata": {},
   "source": [
    "Below we show the Chebyshev Transforms using FFTW functions"
   ]
  },
  {
   "cell_type": "code",
   "execution_count": 73,
   "id": "d6d0bc87-83f5-4c3c-b44e-b76025a37f7d",
   "metadata": {},
   "outputs": [
    {
     "data": {
      "text/plain": [
       "InvFastChebyshevTransform1 (generic function with 1 method)"
      ]
     },
     "execution_count": 73,
     "metadata": {},
     "output_type": "execute_result"
    }
   ],
   "source": [
    "#gauss points\n",
    "function FastChebyshevTransform1(g::Array{Float64}, plan)\n",
    "    n = length(g)\n",
    "    ftran = plan*g #pr*g;\n",
    "    @. ftran = sqrt(2.0/n)*ftran;\n",
    "    ftran[1] = ftran[1]/sqrt(2.0)\n",
    "    return ftran\n",
    "\n",
    "end\n",
    "\n",
    "function InvFastChebyshevTransform1(g::Array{Float64}, plan)\n",
    "    n = length(g)\n",
    "    ftran = plan*g #pr*g;\n",
    "    #@. ftran = sqrt(2.0/n)*ftran;\n",
    "    ftran[1] = ftran[1]*sqrt(2.0)\n",
    "    return ftran\n",
    "\n",
    "end\n",
    "\n",
    "# #gauss lobatto points\n",
    "# function FastChebyshevTransform2(g::Array{Float64}, plan)\n",
    "#     ftran  = plan*g \n",
    "#     @. ftran = 1.0/(n-1)* ftran;\n",
    "#     ftran[1] = ftran[1]/2.0\n",
    "#     ftran[end] = ftran[end]/2.0\n",
    "#     return ftran\n",
    "# end\n",
    "\n",
    "\n",
    "# function InvFastChebyshevTransform2(g::Array{Float64}, plan)\n",
    "#     ff = zeros(length(g))\n",
    "#     @. ff = g\n",
    "#     ff[1] = ff[1]*2.0\n",
    "#     ff[end] = ff[end]*2.0\n",
    "#     ftran = plan*ff #pr*g;\n",
    "#     @. ftran = ftran/2.0;\n",
    "#     return ftran\n",
    "\n",
    "# end"
   ]
  },
  {
   "cell_type": "code",
   "execution_count": 74,
   "id": "c3e3281b-f333-426e-8abe-385d2da695d3",
   "metadata": {},
   "outputs": [
    {
     "data": {
      "text/plain": [
       "InvFastChebyshevTransform2 (generic function with 1 method)"
      ]
     },
     "execution_count": 74,
     "metadata": {},
     "output_type": "execute_result"
    }
   ],
   "source": [
    "#gauss lobatto points\n",
    "function FastChebyshevTransform2(g::Array{Float64}, plan)\n",
    "    #println(\"FCT2\")\n",
    "    n = length(g)\n",
    "    nscale = 1.0/(n-1)#1/sqrt(2*(n-1)) /(n-1)  #\n",
    "    ft = deepcopy(g)\n",
    "    # ft[1] = g[1]/2.0\n",
    "    # ft[end] = g[end]/2.0\n",
    "    ftran  = plan*ft \n",
    "    @. ftran = nscale*ftran\n",
    "    # @. ftran = 1.0/(n-1)* ftran;\n",
    "    ftran[1] = ftran[1]/2.0#*sqrt(0.5)\n",
    "    ftran[end] = ftran[end]/2.0#*sqrt(0.5)\n",
    "    return ftran\n",
    "end\n",
    "\n",
    "\n",
    "function InvFastChebyshevTransform2(g::Array{Float64}, plan)\n",
    "    #println(\"IFCT2\")\n",
    "    n = length(g)\n",
    "    nscale = 1.0#/(2*(n-1))#1.0/sqrt(2*(n-1))\n",
    "    ft = deepcopy(g)\n",
    "    @. ft[2:end-1] = ft[2:end-1]/2.0\n",
    "    #ft[1] = g[1]*2.0\n",
    "    #ft[end] = g[end]*2.0\n",
    "    ftran  = plan*ft \n",
    "    @. ftran = nscale*ftran\n",
    "    # @. ftran = 1.0/(n-1)* ftran;\n",
    "    #ftran[1] = ftran[1]*2.0\n",
    "    #ftran[end] = ftran[end]*2.0\n",
    "    return ftran\n",
    "\n",
    "end"
   ]
  },
  {
   "cell_type": "code",
   "execution_count": 75,
   "id": "6951477f-2b4f-4ee2-bdc5-d843cfc56917",
   "metadata": {},
   "outputs": [
    {
     "data": {
      "text/plain": [
       "mthChebyshevDerivativeCoefficients (generic function with 1 method)"
      ]
     },
     "execution_count": 75,
     "metadata": {},
     "output_type": "execute_result"
    }
   ],
   "source": [
    "#algorithm 5b\n",
    "#this algorithm takes algorithm 5 and changes to give the mth derivative of the Chebyshev coefficients\n",
    "function mthChebyshevDerivativeCoefficients(m::Int64, Fk::Array{Float64})\n",
    "    N = length(Fk)-1\n",
    "    #dFk = zeros(Float64, N+1)\n",
    "    #@. dFk = Fk\n",
    "    dFk = deepcopy(Fk)\n",
    "    dFkm = zeros(Float64,N+1)\n",
    "\n",
    "    for l in 1:m\n",
    "        @. dFkm = 0.0\n",
    "        dFkm[end] = 0.0\n",
    "        dFkm[end-1] = 2.0*N * dFk[end]\n",
    "        # dFkm[end-l+1] = 0\n",
    "        # dFkm[end-l] = (2*(N-l+1)) * dFk[end-l+1]\n",
    "    \n",
    "        #for k in N-2:-1:1\n",
    "        for k in N-2:-1:1\n",
    "            kk = k+1\n",
    "            dFkm[kk] = 2.0*(k +1) *dFk[kk+1] + dFkm[kk+2]\n",
    "            \n",
    "        end\n",
    "    \n",
    "        dFkm[1] = dFk[2] + dFkm[3]/2.0\n",
    "        @. dFk = dFkm\n",
    "        \n",
    "    end\n",
    "\n",
    "    return dFkm\n",
    "\n",
    "end"
   ]
  },
  {
   "cell_type": "code",
   "execution_count": null,
   "id": "fe637a04-8ec5-4d4f-9d6c-ff3f853eeb14",
   "metadata": {},
   "outputs": [],
   "source": []
  },
  {
   "cell_type": "markdown",
   "id": "32b20075-58d5-4c11-8f27-3eba9e49eefb",
   "metadata": {},
   "source": [
    "### Testing Chebyshev Transform of 1st Kind with Gauss Points"
   ]
  },
  {
   "cell_type": "markdown",
   "id": "b463b7f7-f545-4c76-913a-72b2ca251d9a",
   "metadata": {},
   "source": [
    "First we make plans"
   ]
  },
  {
   "cell_type": "code",
   "execution_count": 77,
   "id": "d94b9d22-9618-49b5-b0d2-6d1b6765a35e",
   "metadata": {},
   "outputs": [],
   "source": [
    "n = 20\n",
    "p_2 = chebyshevpoints(Float64,n, Val(2))\n",
    "f = exp.(p_2)\n",
    "pcos = FFTW.plan_dct(f, flags=FFTW.MEASURE)\n",
    "pcosp = FFTW.plan_dct(f, flags=FFTW.PATIENT)\n",
    "ipcos = FFTW.plan_idct(f, flags=FFTW.MEASURE)\n",
    "ipcosp = FFTW.plan_idct(f, flags=FFTW.PATIENT)\n",
    "pr = FFTW.plan_r2r(f, FFTW.REDFT10,flags=FFTW.MEASURE);\n",
    "pr0 = FFTW.plan_r2r(f, FFTW.REDFT00,flags=FFTW.MEASURE);\n",
    "#ipr0 = FFTW.plan_r2r(f, FFTW.REDFT00,flags=FFTW.MEASURE);\n",
    "#pr = FFTW.plan_r2r(f, FFTW.REDFT00,flags=FFTW.MEASURE);\n"
   ]
  },
  {
   "cell_type": "markdown",
   "id": "cd4834e8-b24d-48f2-b02e-26c9ac090795",
   "metadata": {},
   "source": [
    "Let's test against the `FastTransforms.jl` package.\n",
    "\n",
    "Frst let's make suer that our cosine transform is equivalent to the Chebyshev transform.\n",
    "\n",
    "Let's test against:\n",
    "\n",
    "\\begin{align}\n",
    "    f(x) = e^{x}\n",
    "\\end{align}"
   ]
  },
  {
   "cell_type": "code",
   "execution_count": 81,
   "id": "38458f35-c603-4cb1-a170-0b969da98936",
   "metadata": {},
   "outputs": [
    {
     "data": {
      "text/plain": [
       "true"
      ]
     },
     "execution_count": 81,
     "metadata": {},
     "output_type": "execute_result"
    }
   ],
   "source": [
    "#FastTransforms.jl\n",
    "#n=20\n",
    "p_2 = chebyshevpoints(Float64,n, Val(1))\n",
    "f = exp.(p_2)\n",
    "ftcos = chebyshevtransform(f, Val(1))\n",
    "#check to see if the chebysheve transform of the first kind is the cosine transform with the points\n",
    "ff = x -> [cos(k*acos(x)) for k=0:n-1]' * ftcos\n",
    "ff(0.1) ≈ exp(0.1)"
   ]
  },
  {
   "cell_type": "markdown",
   "id": "d68ca440-e972-4942-b1c3-7172629c5891",
   "metadata": {},
   "source": [
    "Now let's test to see if the inverse is true"
   ]
  },
  {
   "cell_type": "code",
   "execution_count": 82,
   "id": "33997eee-2589-4dd7-aee7-7c17bb180a56",
   "metadata": {},
   "outputs": [
    {
     "data": {
      "text/plain": [
       "true"
      ]
     },
     "execution_count": 82,
     "metadata": {},
     "output_type": "execute_result"
    }
   ],
   "source": [
    "iftcos = ichebyshevtransform(ftcos, Val(1))\n",
    "iftcos ≈ exp.(p_2)"
   ]
  },
  {
   "cell_type": "markdown",
   "id": "de2392a2-5674-4896-a2b7-990fb342f22c",
   "metadata": {},
   "source": [
    "Now let's use our Cosine Transform Plan from `FFTW.jl` will result in the same transform as `FastTransforms.jl` "
   ]
  },
  {
   "cell_type": "code",
   "execution_count": 83,
   "id": "81bc5f3f-a9f0-4196-94e7-7d10bd72b9b0",
   "metadata": {},
   "outputs": [],
   "source": [
    "g =  exp.(p_2)\n",
    "dct_result  = pcos*g \n",
    "dct_result[1] = dct_result[1]/sqrt(2.0)\n",
    "kk = [convert(Float64,i) for i in 0:n-1]\n",
    "cheb_coef = @. sqrt(2.0/n) * dct_result; #* cos((2.0*kk + 1.0) * pi / (2.0*n));"
   ]
  },
  {
   "cell_type": "markdown",
   "id": "435e5f32-cae1-48a9-bbe7-86371f5c1fc8",
   "metadata": {},
   "source": [
    "We can check the two by looking at the transform coefficeints"
   ]
  },
  {
   "cell_type": "code",
   "execution_count": 84,
   "id": "b1b55ad4-8594-4759-b8a7-ae935e7d7b55",
   "metadata": {},
   "outputs": [
    {
     "name": "stdout",
     "output_type": "stream",
     "text": [
      "1.2660658777520084\t1.2660658777520084\n",
      "1.13031820798497\t1.13031820798497\n",
      "0.27149533953407656\t0.27149533953407656\n",
      "0.04433684984866379\t0.04433684984866379\n",
      "0.005474240442093735\t0.005474240442093735\n",
      "0.0005429263119139438\t0.0005429263119139438\n",
      "4.4977322954284036e-5\t4.4977322954284036e-5\n",
      "3.1984364624321173e-6\t3.1984364624321173e-6\n",
      "1.992124807428921e-7\t1.992124807428921e-7\n",
      "1.103677176783866e-8\t1.103677176783866e-8\n",
      "5.505896293991498e-10\t5.505896293991498e-10\n",
      "2.4979595727289212e-11\t2.4979595727289212e-11\n",
      "1.039076711834999e-12\t1.039076711834999e-12\n",
      "3.9894598922681805e-14\t3.9894598922681805e-14\n",
      "1.4143579970399278e-15\t1.4143579970399278e-15\n",
      "2.925177461365891e-17\t2.925177461365891e-17\n",
      "-1.2836953722228373e-17\t-1.2836953722228373e-17\n",
      "2.7755575615628915e-18\t2.7755575615628915e-18\n",
      "5.551115123125783e-18\t5.551115123125783e-18\n",
      "2.2204460492503132e-17\t2.2204460492503132e-17\n"
     ]
    }
   ],
   "source": [
    "for i in 1:n\n",
    "    println(cheb_coef[i],\"\\t\", ftcos[i])\n",
    "\n",
    "end"
   ]
  },
  {
   "cell_type": "markdown",
   "id": "ad90f985-9bdd-4846-bf6f-d22243eec8ea",
   "metadata": {},
   "source": [
    "Looks good. Now let's do the inverse transform. Remember we need to account for the normalization."
   ]
  },
  {
   "cell_type": "code",
   "execution_count": 85,
   "id": "251833c8-58b7-4185-ab48-f574fc372e58",
   "metadata": {},
   "outputs": [],
   "source": [
    "#inverse transform\n",
    "gf = dct_result\n",
    "gf[1] = gf[1]*sqrt(2.0)\n",
    "igf  = ipcos*dct_result;\n",
    "#dct_result[1] = dct_result[1]/sqrt(2.0)\n",
    "#kk = [convert(Float64,i) for i in 0:n-1]\n",
    "#cheb_coef = @. sqrt(2.0/n) * dct_result; #* cos((2.0*kk + 1.0) * pi / (2.0*n));"
   ]
  },
  {
   "cell_type": "code",
   "execution_count": 98,
   "id": "e47e974e-77c4-45ab-8c63-e8a1e15d0e0f",
   "metadata": {},
   "outputs": [
    {
     "name": "stdout",
     "output_type": "stream",
     "text": [
      "f(x)\t\t | \t Inv Fast \t |  \tFFTW Inv Cos \t \n",
      "--------------------------------------------------------------------\n",
      "2.7099151751880792\t2.7099151751880797\t2.7099151751880792\n",
      "2.644203591629393\t2.644203591629393\t2.644203591629393\n",
      "2.5190441714069842\t2.5190441714069842\t2.5190441714069842\n",
      "2.345832065543048\t2.3458320655430485\t2.345832065543048\n",
      "2.139144463312138\t2.1391444633121384\t2.139144463312138\n",
      "1.9144838347864195\t1.9144838347864197\t1.9144838347864193\n",
      "1.6862355593138167\t1.686235559313817\t1.6862355593138165\n",
      "1.4662138007571095\t1.4662138007571097\t1.4662138007571095\n",
      "1.2629438236251356\t1.262943823625136\t1.2629438236251358\n",
      "1.0816191114149023\t1.0816191114149027\t1.0816191114149025\n",
      "0.9245398767888507\t0.924539876788851\t0.9245398767888507\n",
      "0.7918008555040988\t0.7918008555040993\t0.7918008555040991\n",
      "0.682028773350537\t0.6820287733505374\t0.6820287733505371\n",
      "0.5930369541055889\t0.5930369541055891\t0.5930369541055889\n",
      "0.5223340003346439\t0.5223340003346442\t0.5223340003346439\n",
      "0.46747660906063965\t0.46747660906064015\t0.4674766090606399\n",
      "0.42628797461190177\t0.42628797461190227\t0.42628797461190204\n",
      "0.39697596864348\t0.3969759686434804\t0.39697596864348017\n",
      "0.3781857052027476\t0.37818570520274797\t0.37818570520274775\n",
      "0.36901524046065237\t0.3690152404606527\t0.3690152404606525\n"
     ]
    }
   ],
   "source": [
    "println(\"f(x)\\t\\t | \\t Inv Fast \\t |  \\tFFTW Inv Cos \\t \")\n",
    "println(\"--------------------------------------------------------------------\")\n",
    "for i in 1:n\n",
    "    println(exp.(p_2)[i], \"\\t\", igf[i],\"\\t\", iftcos[i])\n",
    "\n",
    "end"
   ]
  },
  {
   "cell_type": "markdown",
   "id": "9efd1ef8-268c-4d4a-9ab0-1c8411b50dd3",
   "metadata": {},
   "source": [
    "### Chebyshev Transform of 2nd Kind with Gauss-Lobatto Points "
   ]
  },
  {
   "cell_type": "markdown",
   "id": "e6cfed93-d941-4fc6-87db-66a1dfbcc710",
   "metadata": {},
   "source": [
    "Let's test the 2nd kind with Gauss-Lobatto points similar to what we did above"
   ]
  },
  {
   "cell_type": "code",
   "execution_count": 99,
   "id": "c7d3ea9d-6976-4897-b22e-9ca67964a294",
   "metadata": {},
   "outputs": [
    {
     "data": {
      "text/plain": [
       "true"
      ]
     },
     "execution_count": 99,
     "metadata": {},
     "output_type": "execute_result"
    }
   ],
   "source": [
    "#FastTransforms.jl\n",
    "#n=20\n",
    "p_2 = chebyshevpoints(Float64,n, Val(2))\n",
    "f = exp.(p_2)\n",
    "ftcos = chebyshevtransform(f, Val(2))\n",
    "ff = x -> [cos(k*acos(x)) for k=0:n-1]' * ftcos\n",
    "ff(0.1) ≈ exp(0.1)"
   ]
  },
  {
   "cell_type": "code",
   "execution_count": 100,
   "id": "9cea10f2-ea6e-42a7-97c1-92978871d7e0",
   "metadata": {},
   "outputs": [
    {
     "data": {
      "text/plain": [
       "true"
      ]
     },
     "execution_count": 100,
     "metadata": {},
     "output_type": "execute_result"
    }
   ],
   "source": [
    "iftcos2 = ichebyshevtransform(ftcos, Val(2))\n",
    "iftcos2 ≈ exp.(p_2)"
   ]
  },
  {
   "cell_type": "markdown",
   "id": "50a7afb2-13b1-47fc-9194-811a2704dae9",
   "metadata": {},
   "source": [
    "Check if our R2R transform is the same as the `FastTransforms.jl`"
   ]
  },
  {
   "cell_type": "code",
   "execution_count": 102,
   "id": "f01ad379-e23a-44a5-adac-f42371d68e31",
   "metadata": {},
   "outputs": [
    {
     "data": {
      "text/plain": [
       "-9.349246523159212e-17"
      ]
     },
     "execution_count": 102,
     "metadata": {},
     "output_type": "execute_result"
    }
   ],
   "source": [
    "g =  exp.(p_2)\n",
    "#g[1] = g[1]/2.0;\n",
    "#g[end] = g[end]/2.0;\n",
    "#dct_result  = pr0*g \n",
    "dct_result  = pr0*g \n",
    "#dct_result[1] = dct_result[1]/sqrt(2.0)\n",
    "kk = [convert(Float64,i) for i in 0:n-1]\n",
    "cheb_coef =@. 1.0/(n-1)* dct_result;#1.0/n * dct_result;# *  cos((2.0*kk + 1.0) * pi / (2.0*n));\n",
    "cheb_coef[1] = cheb_coef[1]/2.0\n",
    "cheb_coef[end] = cheb_coef[end]/2.0"
   ]
  },
  {
   "cell_type": "code",
   "execution_count": 103,
   "id": "178dcbc2-170a-43d7-9952-cc78ce0426c5",
   "metadata": {},
   "outputs": [
    {
     "name": "stdout",
     "output_type": "stream",
     "text": [
      "1.2660658777520084\t1.2660658777520084\n",
      "1.1303182079849698\t1.1303182079849698\n",
      "0.2714953395340765\t0.2714953395340765\n",
      "0.044336849848663776\t0.044336849848663776\n",
      "0.005474240442093689\t0.005474240442093689\n",
      "0.0005429263119138918\t0.0005429263119138918\n",
      "4.497732295426474e-5\t4.497732295426474e-5\n",
      "3.1984364624061647e-6\t3.1984364624061647e-6\n",
      "1.9921248065672248e-7\t1.9921248065672248e-7\n",
      "1.10367717243241e-8\t1.1036771724324101e-8\n",
      "5.505896078155842e-10\t5.505896078155842e-10\n",
      "2.4979592544356692e-11\t2.4979592544356692e-11\n",
      "1.0391751597895867e-12\t1.0391751597895869e-12\n",
      "3.989751580100351e-14\t3.989751580100351e-14\n",
      "1.3815702967621603e-15\t1.3815702967621603e-15\n",
      "2.1912296538654406e-17\t2.1912296538654406e-17\n",
      "8.764918615461762e-17\t8.764918615461762e-17\n",
      "1.4023869784738819e-16\t1.4023869784738819e-16\n",
      "1.8698493046318425e-16\t1.8698493046318425e-16\n",
      "-9.349246523159212e-17\t-9.349246523159212e-17\n"
     ]
    }
   ],
   "source": [
    "for i in 1:n\n",
    "    println(cheb_coef[i],\"\\t\", ftcos[i])\n",
    "\n",
    "end"
   ]
  },
  {
   "cell_type": "markdown",
   "id": "ab32bba7-20b4-432a-a939-2fa4f2899029",
   "metadata": {},
   "source": [
    "Now check the inverses"
   ]
  },
  {
   "cell_type": "code",
   "execution_count": 104,
   "id": "b31f1d85-cac2-4c2e-a7d1-5976db38b1cd",
   "metadata": {},
   "outputs": [],
   "source": [
    "#inverse Gauss-Lobatto\n",
    "gf2 = zeros(length(cheb_coef))\n",
    "@. gf2 = cheb_coef\n",
    "gf2[1] = gf2[1]*2.0\n",
    "gf2[end] = gf2[end]*2.0\n",
    "igf2  = pr0*gf2;\n",
    "igf2 = @. igf2/2.0;\n"
   ]
  },
  {
   "cell_type": "code",
   "execution_count": 107,
   "id": "87091030-c059-4093-948c-2049b53a3ab1",
   "metadata": {},
   "outputs": [
    {
     "name": "stdout",
     "output_type": "stream",
     "text": [
      "f(x)\t\t | \t Inv Fast2 \t |  \tFFTW Inv R2R \t \n",
      "--------------------------------------------------------\n",
      "2.718281828459045\t2.7182818284590455\t2.7182818284590455\n",
      "2.6814596811668983\t2.6814596811668974\t2.6814596811668974\n",
      "2.5749168483737988\t2.574916848373799\t2.574916848373799\n",
      "2.409631307131501\t2.4096313071315008\t2.4096313071315008\n",
      "2.2015034413494527\t2.201503441349453\t2.201503441349453\n",
      "1.9685191737244911\t1.9685191737244911\t1.9685191737244911\n",
      "1.7279714670512651\t1.7279714670512654\t1.7279714670512651\n",
      "1.4943561193225494\t1.4943561193225499\t1.4943561193225499\n",
      "1.2782417325138706\t1.2782417325138706\t1.2782417325138709\n",
      "1.0860848459354064\t1.0860848459354069\t1.0860848459354069\n",
      "0.9207383785368403\t0.9207383785368404\t0.9207383785368404\n",
      "0.7823246374794359\t0.7823246374794366\t0.7823246374794366\n",
      "0.6691845317656541\t0.6691845317656543\t0.6691845317656543\n",
      "0.57871325948829\t0.5787132594882904\t0.5787132594882904\n",
      "0.5079960679823977\t0.5079960679823976\t0.5079960679823976\n",
      "0.45423503830047673\t0.4542350383004776\t0.4542350383004776\n",
      "0.415001248133031\t0.4150012481330312\t0.4150012481330312\n",
      "0.3883620555093089\t0.388362055509309\t0.388362055509309\n",
      "0.37293120870824625\t0.37293120870824614\t0.3729312087082462\n",
      "0.36787944117144233\t0.36787944117144256\t0.36787944117144256\n"
     ]
    }
   ],
   "source": [
    "println(\"f(x)\\t\\t | \\t Inv Fast2 \\t |  \\tFFTW Inv R2R \\t \")\n",
    "println(\"--------------------------------------------------------\")\n",
    "for i in 1:n\n",
    "    println(exp.(p_2)[i], \"\\t\", igf2[i],\"\\t\", iftcos2[i])\n",
    "\n",
    "end"
   ]
  },
  {
   "cell_type": "markdown",
   "id": "2c105475-6d29-4e8b-ab2e-c74c4e49d3f0",
   "metadata": {},
   "source": [
    "### Speed Benchmark"
   ]
  },
  {
   "cell_type": "code",
   "execution_count": 108,
   "id": "d9bca592-d333-4b71-9a88-8359d04b75ac",
   "metadata": {},
   "outputs": [],
   "source": [
    "p = chebyshevpoints(Float64,n, Val(1))\n",
    "g =  exp.(p);\n",
    "#FastChebyshevTransform1(g, pcosp);\n",
    "#FastChebyshevTransform1(g, pr0);"
   ]
  },
  {
   "cell_type": "code",
   "execution_count": 109,
   "id": "1254c5fb-cbac-46c2-88c0-f52e0c5e3d25",
   "metadata": {},
   "outputs": [
    {
     "name": "stdout",
     "output_type": "stream",
     "text": [
      "  9.717 μs (23 allocations: 1.09 KiB)\n"
     ]
    }
   ],
   "source": [
    "#Fast Transform.jl\n",
    "@btime FastTransforms.chebyshevtransform(g, Val(1));"
   ]
  },
  {
   "cell_type": "code",
   "execution_count": 110,
   "id": "9c47faf8-663c-4200-8b8f-d782b9287b7b",
   "metadata": {},
   "outputs": [
    {
     "name": "stdout",
     "output_type": "stream",
     "text": [
      "  616.653 ns (7 allocations: 464 bytes)\n"
     ]
    }
   ],
   "source": [
    "@btime FastChebyshevTransform1(g, pcosp);"
   ]
  },
  {
   "cell_type": "code",
   "execution_count": 111,
   "id": "0f46e37f-d8a8-4fc1-b7f9-728fd5e0666d",
   "metadata": {},
   "outputs": [],
   "source": [
    "p = chebyshevpoints(Float64,n, Val(2))\n",
    "g =  exp.(p);"
   ]
  },
  {
   "cell_type": "code",
   "execution_count": 112,
   "id": "4233d00d-e330-4c96-8b98-0f8c7427cb1b",
   "metadata": {},
   "outputs": [
    {
     "name": "stdout",
     "output_type": "stream",
     "text": [
      "  106.843 μs (137 allocations: 9.30 KiB)\n"
     ]
    }
   ],
   "source": [
    "@btime chebyshevtransform(g, Val(2));"
   ]
  },
  {
   "cell_type": "code",
   "execution_count": 113,
   "id": "1c5eb0a2-19d1-4811-a2b1-5c835908bf25",
   "metadata": {},
   "outputs": [
    {
     "name": "stdout",
     "output_type": "stream",
     "text": [
      "  11.558 μs (101 allocations: 8.41 KiB)\n"
     ]
    }
   ],
   "source": [
    "#pr = FFTW.plan_r2r(f, FFTW.REDFT10,flags=FFTW.MEASURE);\n",
    "#pr0 = FFTW.plan_r2r(f, FFTW.REDFT00,flags=FFTW.MEASURE);\n",
    "@btime FastChebyshevTransform2(g, pr0);"
   ]
  },
  {
   "cell_type": "code",
   "execution_count": 114,
   "id": "6e259710-0f6b-4208-894f-70d947406bf0",
   "metadata": {},
   "outputs": [
    {
     "name": "stdout",
     "output_type": "stream",
     "text": [
      "  99.566 μs (103 allocations: 8.36 KiB)\n"
     ]
    }
   ],
   "source": [
    "@btime FastChebInterp.chebcoefs(g);"
   ]
  },
  {
   "cell_type": "markdown",
   "id": "fa2c5c28-d292-4d46-81c8-307f0fea75fb",
   "metadata": {},
   "source": [
    "For whatever reason, our own transforms using the `FFTW.jl` package is faster"
   ]
  },
  {
   "cell_type": "code",
   "execution_count": 72,
   "id": "76424df5-924e-4e3a-8223-40249714fa95",
   "metadata": {
    "scrolled": true
   },
   "outputs": [],
   "source": [
    "#chebyshevtransform(g, Val(2))"
   ]
  },
  {
   "cell_type": "code",
   "execution_count": 73,
   "id": "3ca01eb0-614b-4d5d-87c3-57168bf92046",
   "metadata": {},
   "outputs": [],
   "source": [
    "#FastChebyshevTransform2(g, pr0)"
   ]
  },
  {
   "cell_type": "code",
   "execution_count": 74,
   "id": "d602dc31-19d5-489a-9705-61a3e5086db6",
   "metadata": {},
   "outputs": [],
   "source": [
    "#FastChebInterp.chebcoefs(g)"
   ]
  },
  {
   "cell_type": "code",
   "execution_count": 75,
   "id": "6d4990d2-d586-45a9-a6fa-04cc91b4eaed",
   "metadata": {},
   "outputs": [],
   "source": [
    "#p"
   ]
  },
  {
   "cell_type": "code",
   "execution_count": 76,
   "id": "3b6256ec-d667-422e-8c38-841110f2dc39",
   "metadata": {},
   "outputs": [],
   "source": [
    "#chebpoints(20, -1, 1)"
   ]
  },
  {
   "cell_type": "code",
   "execution_count": 77,
   "id": "d4a653c7-344f-40e6-b720-f0a0d5ba4a64",
   "metadata": {},
   "outputs": [],
   "source": [
    "#c = chebinterp(g, p[1], p[end])"
   ]
  },
  {
   "cell_type": "code",
   "execution_count": 78,
   "id": "d1764eb1-8212-4a96-8fc8-f051797d93a4",
   "metadata": {},
   "outputs": [],
   "source": [
    "#?chebyshevtransform()"
   ]
  },
  {
   "cell_type": "markdown",
   "id": "e83af834-c13a-4217-95c2-2dfdefd65d14",
   "metadata": {},
   "source": [
    "# 3.4 How to Evaluate Polynomial Interpolants in Lagrange Form\n",
    "---"
   ]
  },
  {
   "cell_type": "markdown",
   "id": "434391be-a871-4020-8658-2b5d94cc871b",
   "metadata": {},
   "source": [
    "In this section we will just write our algorithms. We will get a better look at them in the next notebook. "
   ]
  },
  {
   "cell_type": "code",
   "execution_count": 115,
   "id": "7da2d1b0-bf7b-4ccb-8862-ff3a81f2b2a3",
   "metadata": {},
   "outputs": [
    {
     "data": {
      "text/plain": [
       "BarycentricWeights (generic function with 1 method)"
      ]
     },
     "execution_count": 115,
     "metadata": {},
     "output_type": "execute_result"
    }
   ],
   "source": [
    "#ch 3.4 pg 75\n",
    "#Algorithm 30\n",
    "#Weights for Lagrange Interpolation\n",
    "function BarycentricWeights(x::Array{Float64})\n",
    "\n",
    "    n = length(x)-1\n",
    "    w = ones(length(x))\n",
    "\n",
    "    for j in 1:n\n",
    "        jj=j+1\n",
    "        for k in 0:j-1\n",
    "            kk=k+1\n",
    "            w[kk] = w[kk]*(x[kk] - x[jj])\n",
    "            w[jj] = w[jj]*(x[jj] - x[kk])\n",
    "            \n",
    "        end\n",
    "    end\n",
    "\n",
    "    @. w = 1.0 / w\n",
    "\n",
    "    return w\n",
    "\n",
    "\n",
    "end"
   ]
  },
  {
   "cell_type": "code",
   "execution_count": 116,
   "id": "dafe059b-4f24-4408-8333-bab46a03c268",
   "metadata": {},
   "outputs": [
    {
     "data": {
      "text/plain": [
       "LagrangeInterpolation (generic function with 1 method)"
      ]
     },
     "execution_count": 116,
     "metadata": {},
     "output_type": "execute_result"
    }
   ],
   "source": [
    "#ch 3.4 pg 75\n",
    "#Algorithm 31 \n",
    "#Lagrange Interpolant from Barycentric Form\n",
    "function LagrangeInterpolation(x::Float64, xx::Array{Float64}, f::Array{Float64}, w::Array{Float64},xtol::Float64)\n",
    "\n",
    "    numerator = zeros(Float64, length(f))\n",
    "    denominator = zeros(Float64, length(f))\n",
    "    t = 0.0\n",
    "\n",
    "    for j in 1:N\n",
    "        if abs(x-xx[j]) < xtol\n",
    "            return f[j]\n",
    "        end\n",
    "        t = w[j]/(x-xx[j])\n",
    "        numerator = numerator + t * f[j]\n",
    "        denominator = denominator + t\n",
    "\n",
    "    end\n",
    "\n",
    "    return numerator/denominator\n",
    "\n",
    "end"
   ]
  },
  {
   "cell_type": "code",
   "execution_count": 84,
   "id": "30a4f656-2558-413f-ac90-219da3c63b42",
   "metadata": {},
   "outputs": [],
   "source": [
    "# #Algorithm 32\n",
    "# function PolynomialInterpolationMatrix(x::Array{Float64}, xx::Array{Float64}, w::Array{Float64},xtol::Float64)\n",
    "\n",
    "#     T = zeros((length(xx), length(x)))\n",
    "#     rowhasmatch = false\n",
    "#     M = length(xx)\n",
    "#     N = length(x)\n",
    "#     s = 0.0\n",
    "#     t = 0.0\n",
    "#     for k in 1:M\n",
    "#         rowhasmatch = false\n",
    "#         for j in 1:N\n",
    "#             T[k,j] = 0.0\n",
    "#             if abs(x[j] - xx[k]) < xtol\n",
    "#                 rowhasmatch = true\n",
    "#                 T[k,j] = 1.0\n",
    "#             end\n",
    "#             if rowhasmatch\n",
    "#                 s = 0.0\n",
    "#                 for j in 1:N\n",
    "#                     t = w[j]/(xx[k] - x[j])\n",
    "#                     T[k,j] = t\n",
    "#                     s = s+t\n",
    "\n",
    "#                 end\n",
    "#                 for j in 1:N\n",
    "#                     T[k,j] = T[k,j]/s\n",
    "#                 end\n",
    "\n",
    "#             end\n",
    "            \n",
    "#         end\n",
    "\n",
    "#     end\n",
    "\n",
    "#     return T\n",
    "\n",
    "# end\n",
    "\n"
   ]
  },
  {
   "cell_type": "code",
   "execution_count": 117,
   "id": "972ac4fa-4559-456c-a839-cc6f76f13885",
   "metadata": {},
   "outputs": [
    {
     "data": {
      "text/plain": [
       "PolynomialInterpolationMatrix (generic function with 1 method)"
      ]
     },
     "execution_count": 117,
     "metadata": {},
     "output_type": "execute_result"
    }
   ],
   "source": [
    "#ch 3.4 pg 76\n",
    "#Algorithm 32\n",
    "#matrix for interpolation between two sets of points\n",
    "function PolynomialInterpolationMatrix(x::Array{Float64}, xx::Array{Float64}, w::Array{Float64},xtol::Float64)\n",
    "\n",
    "    T = zeros((length(xx), length(x)))\n",
    "    rowhasmatch = false\n",
    "    M = length(xx)-1\n",
    "    N = length(x)-1\n",
    "    s = 0.0\n",
    "    t = 0.0\n",
    "    for k in 0:M\n",
    "        kk = k+1\n",
    "        rowhasmatch = false\n",
    "        for j in 0:N\n",
    "            jj = j+1\n",
    "            T[kk,jj] = 0.0\n",
    "            if abs(x[jj] - xx[kk]) < xtol\n",
    "                rowhasmatch = true\n",
    "                T[kk,jj] = 1.0\n",
    "            end\n",
    "        end\n",
    "        if !rowhasmatch\n",
    "            s = 0.0\n",
    "            for j in 0:N\n",
    "                jj=j+1\n",
    "                t = w[jj]/(xx[kk] - x[jj])\n",
    "                T[kk,jj] = t\n",
    "                s = s+t\n",
    "\n",
    "            end\n",
    "            for j in 0:N\n",
    "                jj=j+1\n",
    "                T[kk,jj] = T[kk,jj]/s\n",
    "            end\n",
    "        end\n",
    "    end\n",
    "\n",
    "    return T\n",
    "\n",
    "end\n"
   ]
  },
  {
   "cell_type": "code",
   "execution_count": 86,
   "id": "76f18617-97af-4590-b6e2-8126d3c9544e",
   "metadata": {},
   "outputs": [],
   "source": [
    "#Algorithm 33\n",
    "#function  InterpolateToNewPoints\n",
    "#Is just matrix b y vector mulitplication"
   ]
  },
  {
   "cell_type": "code",
   "execution_count": 87,
   "id": "3f55034f-5c9f-4c35-9ac4-126edbf51d05",
   "metadata": {},
   "outputs": [
    {
     "data": {
      "text/plain": [
       "LagrangeInterpolatingPolynomials (generic function with 1 method)"
      ]
     },
     "execution_count": 87,
     "metadata": {},
     "output_type": "execute_result"
    }
   ],
   "source": [
    "#ch 3.4 pg 77\n",
    "#Algorithm 34\n",
    "# \n",
    "function LagrangeInterpolatingPolynomials(x::Float64, xx::Array{Float64}, w::Array{Float64},xtol::Float64)\n",
    "    N = length(xx)-1\n",
    "    lag = zeros(Float64, N+1)\n",
    "    xMatchesNode = false\n",
    "    s = 0.0\n",
    "    t=0.0\n",
    "    for j in 0:N\n",
    "        jj=j+1\n",
    "        lag[jj] = 0.0\n",
    "        if abs(x - xx[jj]) < xtol\n",
    "            lag[jj] = 1.0\n",
    "            xMatchesNode = true\n",
    "        end\n",
    "        \n",
    "    end\n",
    "    if xMatchesNode\n",
    "        return lag\n",
    "    end\n",
    "    s = 0.0\n",
    "    for j in 0:N\n",
    "        jj=j+1\n",
    "        t = w[jj]/(x-xx[jj])\n",
    "        lag[jj] = t\n",
    "        s = s + t\n",
    "    end\n",
    "\n",
    "    @. lag = lag/s\n",
    "\n",
    "    return lag\n",
    "\n",
    "end"
   ]
  },
  {
   "cell_type": "code",
   "execution_count": 118,
   "id": "4f51363e-1b66-475f-8cd6-fc970186c6fa",
   "metadata": {},
   "outputs": [
    {
     "data": {
      "text/plain": [
       "CoarseToFineInterpolation2D (generic function with 1 method)"
      ]
     },
     "execution_count": 118,
     "metadata": {},
     "output_type": "execute_result"
    }
   ],
   "source": [
    "#Ch 3.5 pg 79\n",
    "#Algorithm 35\n",
    "#interpolation from Coarse to Fine grid in 2D\n",
    "function CoarseToFineInterpolation2D(x::Array{Float64},  y::Array{Float64}, f::Matrix{Float64}, xx::Array{Float64},  yy::Array{Float64},xtol::Float64)\n",
    "\n",
    "    w = BarycentricWeights(x)\n",
    "    #Tnewold = PolynomialInterpolationMatrix(x, xx, w,xtol)\n",
    "    T = PolynomialInterpolationMatrix(x, xx, w,xtol)\n",
    "    Nold = length(x)\n",
    "    Mold = length(y)\n",
    "    Nnew = length(xx)\n",
    "    Mnew = length(yy)\n",
    "\n",
    "    #for j in 1:Mold\n",
    "    #end\n",
    "    #just need matrix multiplication by vector\n",
    "    #Fnewold = [Tnewold * f[:,j] for j in 1:Mold]\n",
    "    F = [T * f[:,j] for j in 1:Mold]\n",
    "\n",
    "    w = BarycentricWeights(xx)\n",
    "    T = PolynomialInterpolationMatrix(y, yy, w,xtol)\n",
    "    F = [T * F[j,:] for j in 1:Nnew]\n",
    "\n",
    "    return F\n",
    "    \n",
    "\n",
    "end"
   ]
  },
  {
   "cell_type": "code",
   "execution_count": 119,
   "id": "b090b94b-c82a-4e46-a3a1-38a89643c7c0",
   "metadata": {},
   "outputs": [
    {
     "data": {
      "text/plain": [
       "LagrangeInterpolantDerivative (generic function with 1 method)"
      ]
     },
     "execution_count": 119,
     "metadata": {},
     "output_type": "execute_result"
    }
   ],
   "source": [
    "#Ch 3.5.1 pg 80\n",
    "#Algorithm 36\n",
    "#Direct Computation of the Polynomial derivative in Barycentric Form\n",
    "function LagrangeInterpolantDerivative(x::Float64, xx::Array{Float64}, f::Array{Float64}, w::Array{Float64},xtol::Float64)\n",
    "\n",
    "    numerator = 0.0\n",
    "    denominator = 0.0\n",
    "    atNode = false\n",
    "    i = zero(Int64)\n",
    "    p = 0.0\n",
    "    t = 0.0\n",
    "    \n",
    "    N = length(x)\n",
    "    for j in 1:N\n",
    "        if abs(x - xx[j]) < xtol\n",
    "            atNode = true\n",
    "            p = f[j]\n",
    "            denominator = -w[j]\n",
    "            i = j\n",
    "            \n",
    "        end\n",
    "    end\n",
    "\n",
    "    if atNode\n",
    "        for j in 1:N\n",
    "            if j != i\n",
    "                numerator = numerator +w[j] *(p-f[j])/(x - xx[j])\n",
    "            end\n",
    "\n",
    "        end\n",
    "    else\n",
    "        denominator = 0.0\n",
    "        p = LagrangeInterpolation(x, xx, f, w,xtol)\n",
    "        for j in 1:N\n",
    "            t = w[j]/(x - xx[j])\n",
    "            numerator = numerator + t*(p-f[j])/(x - xx[j])\n",
    "            denominator  = denominator +t\n",
    "        end\n",
    "\n",
    "    end\n",
    "\n",
    "    return numerator/denominator\n",
    "    \n",
    "\n",
    "end"
   ]
  },
  {
   "cell_type": "code",
   "execution_count": 90,
   "id": "f2327bfd-24db-4cd2-ac59-d28772a1cfd1",
   "metadata": {},
   "outputs": [],
   "source": [
    "# #Algorithm 37\n",
    "# function PolynomialDerivativeMatrix(x::Array{Float64})\n",
    "\n",
    "#     N = length(x)\n",
    "#     w = BarycentricWeights(x)\n",
    "#     D = zeros(Float64, (N,N))\n",
    "\n",
    "#     for i in 1:N\n",
    "#         D[i,i] = 0.0\n",
    "#         for j in 1:N\n",
    "#             if j != i\n",
    "#                 D[i,j] = w[j]/w[i] /(x[i] - x[j])\n",
    "#                 D[i,i] = D[i,i] - D[i,j]\n",
    "#             end\n",
    "#         end\n",
    "\n",
    "#     end\n",
    "#     return D\n",
    "\n",
    "# end"
   ]
  },
  {
   "cell_type": "code",
   "execution_count": 120,
   "id": "3ddf233e-e057-49c5-9f46-666476ec89a8",
   "metadata": {},
   "outputs": [
    {
     "data": {
      "text/plain": [
       "PolynomialDerivativeMatrix (generic function with 1 method)"
      ]
     },
     "execution_count": 120,
     "metadata": {},
     "output_type": "execute_result"
    }
   ],
   "source": [
    "#Ch 3.5.2 pg 82\n",
    "#Algorithm 37\n",
    "#First derivative approximation matrix\n",
    "function PolynomialDerivativeMatrix(x::Array{Float64})\n",
    "\n",
    "    N = length(x)-1\n",
    "    w = BarycentricWeights(x)\n",
    "    D = zeros(Float64, (N+1,N+1))\n",
    "\n",
    "    for i in 0:N\n",
    "        ii = i+1\n",
    "        D[ii,ii] = 0.0\n",
    "        for j in 0:N\n",
    "            jj=j+1\n",
    "            if j != i\n",
    "                D[ii,jj] = w[jj]/w[ii] /(x[ii] - x[jj])\n",
    "                D[ii,ii] = D[ii,ii] - D[ii,jj] #+ 1/(x[jj] - x[ii]) #\n",
    "            end\n",
    "        end\n",
    "\n",
    "    end\n",
    "    return D\n",
    "\n",
    "end"
   ]
  },
  {
   "cell_type": "code",
   "execution_count": 92,
   "id": "b79ae021-7143-43f3-8ee3-cc76a01ee478",
   "metadata": {},
   "outputs": [
    {
     "data": {
      "text/plain": [
       "mthOrderPolynomialDerivativeMatrix (generic function with 1 method)"
      ]
     },
     "execution_count": 92,
     "metadata": {},
     "output_type": "execute_result"
    }
   ],
   "source": [
    "#Algorithm 38\n",
    "function mthOrderPolynomialDerivativeMatrix(m::Int64, x::Array{Float64})\n",
    "    N = length(x)-1\n",
    "    w = BarycentricWeights(x)\n",
    "    #D = zeros(Float64, (N,N))\n",
    "\n",
    "    D = PolynomialDerivativeMatrix(x)\n",
    "\n",
    "    if m == 1\n",
    "        return D\n",
    "    end\n",
    "\n",
    "    Dm = zeros(Float64, size(D))\n",
    "    \n",
    "    for k in 2:m\n",
    "        for i in 0:N\n",
    "            ii=i+1\n",
    "            Dm[ii,ii] = 0.0\n",
    "            for j in 0:N\n",
    "                jj = j+1\n",
    "                if j != i\n",
    "                    Dm[ii,jj] = k /(x[ii] - x[jj]) *  (w[jj]/w[ii] * D[ii,ii] - D[ii,jj] )\n",
    "                    Dm[ii,ii] = Dm[ii,ii] - Dm[ii,jj] # this might be Dm[ii,ii] - Dm[ii,jj]\n",
    "                end\n",
    "            end\n",
    "        end\n",
    "        @. D = Dm\n",
    "    end\n",
    "\n",
    "    return Dm\n",
    "end"
   ]
  },
  {
   "cell_type": "code",
   "execution_count": 93,
   "id": "8f98ab60-e345-4a0a-b696-c161c1bdf695",
   "metadata": {},
   "outputs": [
    {
     "data": {
      "text/plain": [
       "EOMatrixDerivative (generic function with 1 method)"
      ]
     },
     "execution_count": 93,
     "metadata": {},
     "output_type": "execute_result"
    }
   ],
   "source": [
    "#alg 39\n",
    "function EOMatrixDerivative(f::Array{Float64}, D::Matrix{Float64})\n",
    "\n",
    "    N = length(f)\n",
    "    Df = zeros(Float64, N)\n",
    "\n",
    "\n",
    "    #M = floor(Int64,(N+1)/2)\n",
    "    #N will be to total number of points including 0th point\n",
    "    M = floor(Int64,N/2)\n",
    "    MM = M+1 #because Julia starts from 1\n",
    "    ej = zeros(Float64, M)\n",
    "    oj = zeros(Float64, M)\n",
    "    De = zeros(Float64, M)\n",
    "    Do = zeros(Float64, M)\n",
    "\n",
    "    jj = zero(Int64)\n",
    "    ii = zero(Int64)\n",
    "\n",
    "    for j in 0:M\n",
    "        jj = j+1\n",
    "        ej[jj] =  0.5 * (f[jj] + f[N -j])\n",
    "        oj[jj] =  0.5 * (f[jj] - f[N -j])\n",
    "    end\n",
    "    for i in 0:M-1\n",
    "        ii = i+1\n",
    "        De[ii] = 0.0\n",
    "        Do[ii] =  0.0\n",
    "        for j in 0:M-1\n",
    "            jj = j+1\n",
    "            De[ii] = De[ii] + (D[ii,jj] + D[ii,N-j])*ej[jj]\n",
    "            Do[ii] = Do[ii] + (D[ii,jj] - D[ii,N-j])*oj[jj]\n",
    "        end\n",
    "    end\n",
    "\n",
    "    if mod(N,2) != 0\n",
    "        for i in 0:M-1\n",
    "            ii = i+1\n",
    "            De[ii] = De[ii] + D[ii,M] *ej[M]\n",
    "        end\n",
    "        De[M+1] = 0.0\n",
    "        for j in 0:M-1\n",
    "            jj = j+1\n",
    "            Do[M] = Do[M] + (D[M,jj] - D[M,N-j]) *oj[jj]\n",
    "        end\n",
    "    end\n",
    "\n",
    "    @views @. Df[1:M] = De + Do\n",
    "    @views @. Df[M+1:end] = -De[end:-1:1] + Do[end:-1:1]\n",
    "\n",
    "    if mod(N,2) != 0\n",
    "        Df[M] = De[M] + Do[M]\n",
    "    end\n",
    "\n",
    "    return Df\n",
    "\n",
    "end"
   ]
  },
  {
   "cell_type": "code",
   "execution_count": 94,
   "id": "8752ad3f-fe6b-4f5b-a66e-6c6c663d2196",
   "metadata": {},
   "outputs": [
    {
     "data": {
      "text/plain": [
       "FastChebyshevDerivative (generic function with 1 method)"
      ]
     },
     "execution_count": 94,
     "metadata": {},
     "output_type": "execute_result"
    }
   ],
   "source": [
    "#Alg 40\n",
    "function FastChebyshevDerivative(f::Array{Float64}, GaussLob::Bool, planf, planb)\n",
    "\n",
    "    N = length(f)-1\n",
    "    fk = zeros(Float64, N+1)\n",
    "    dfk = zeros(Float64, N+1)\n",
    "    DF = zeros(Float64, N+1)\n",
    "\n",
    "    if GaussLob\n",
    "        fk = FastChebyshevTransform2(f, planf)\n",
    "    elseif !Gausslob\n",
    "        fk = FastChebyshevTransform1(f, planf)\n",
    "    end\n",
    "\n",
    "    ChebyshevDerivativeCoefficients!(dfk,fk);\n",
    "    if GaussLob\n",
    "        DF = InvFastChebyshevTransform2(dfk, planb)\n",
    "    elseif !Gausslob\n",
    "        DF = InvastChebyshevTransform1(dfk, planb)\n",
    "    end\n",
    "\n",
    "    return DF    \n",
    "\n",
    "end"
   ]
  },
  {
   "cell_type": "markdown",
   "id": "ab854982-6c79-4d5b-9cab-2455c7092979",
   "metadata": {},
   "source": [
    "# Conclusion"
   ]
  },
  {
   "cell_type": "markdown",
   "id": "59439297-b184-4fdc-a70f-b1e093a97299",
   "metadata": {},
   "source": [
    "This concludes **Part I** of the textbook! Hooray! \n",
    "\n",
    "Now let's move on and solve some real problems"
   ]
  },
  {
   "cell_type": "code",
   "execution_count": null,
   "id": "5c9fd454-d34c-4f02-96f8-78372b7aa160",
   "metadata": {},
   "outputs": [],
   "source": []
  }
 ],
 "metadata": {
  "kernelspec": {
   "display_name": "Julia 1.10.3",
   "language": "julia",
   "name": "julia-1.10"
  },
  "language_info": {
   "file_extension": ".jl",
   "mimetype": "application/julia",
   "name": "julia",
   "version": "1.10.3"
  }
 },
 "nbformat": 4,
 "nbformat_minor": 5
}
